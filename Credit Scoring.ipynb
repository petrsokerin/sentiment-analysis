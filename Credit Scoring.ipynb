{
 "cells": [
  {
   "cell_type": "code",
   "execution_count": 1,
   "metadata": {
    "colab": {
     "base_uri": "https://localhost:8080/",
     "height": 51
    },
    "colab_type": "code",
    "id": "9Gp0wzzu06y9",
    "outputId": "7812263d-0d9c-4037-f51f-5e98cd2509fb"
   },
   "outputs": [],
   "source": [
    "#получение доступа к видеокарте\n",
    "#!nvidia-smi"
   ]
  },
  {
   "cell_type": "code",
   "execution_count": 2,
   "metadata": {
    "colab": {
     "base_uri": "https://localhost:8080/",
     "height": 34
    },
    "colab_type": "code",
    "id": "axbeiEyJ07HF",
    "outputId": "0ec3e751-34f1-40d9-c2f2-62a208a3a813"
   },
   "outputs": [],
   "source": [
    "# from google.colab import drive\n",
    "# drive.mount('/content/drive')"
   ]
  },
  {
   "cell_type": "code",
   "execution_count": 1,
   "metadata": {
    "colab": {
     "base_uri": "https://localhost:8080/",
     "height": 71
    },
    "colab_type": "code",
    "id": "VWiP4t6Y0jqZ",
    "outputId": "353d427d-ee5a-45af-c88f-e1fd2e952a91"
   },
   "outputs": [],
   "source": [
    "import pandas as pd\n",
    "import numpy as np\n",
    "from matplotlib import pyplot as plt\n",
    "import random\n",
    "from time import process_time\n",
    "from scipy import stats\n",
    "\n",
    "from sklearn.decomposition import PCA\n",
    "from sklearn.model_selection import train_test_split, GridSearchCV\n",
    "from sklearn.neighbors import KNeighborsClassifier\n",
    "from sklearn.linear_model import LogisticRegression\n",
    "from sklearn.naive_bayes import GaussianNB\n",
    "from sklearn import metrics\n",
    "from sklearn import ensemble\n",
    "from sklearn.feature_selection import SelectKBest, f_classif, VarianceThreshold\n",
    "from sklearn.model_selection import cross_val_score\n",
    "from sklearn.svm import SVC\n",
    "from sklearn.pipeline import make_pipeline\n",
    "from sklearn.preprocessing import StandardScaler\n",
    "from sklearn.ensemble import GradientBoostingClassifier as GBoost, RandomForestClassifier\n",
    "\n",
    "\n",
    "import seaborn as sns\n",
    "\n",
    "%matplotlib inline"
   ]
  },
  {
   "cell_type": "markdown",
   "metadata": {
    "colab_type": "text",
    "id": "x30RgfT60jqo"
   },
   "source": [
    "# Первичный взгляд на данные"
   ]
  },
  {
   "cell_type": "code",
   "execution_count": 20,
   "metadata": {
    "colab": {},
    "colab_type": "code",
    "id": "J7CCYTAb0jqr",
    "outputId": "c2652329-598b-4c32-c6ee-a9da25330ef9"
   },
   "outputs": [
    {
     "data": {
      "text/html": [
       "<div>\n",
       "<style scoped>\n",
       "    .dataframe tbody tr th:only-of-type {\n",
       "        vertical-align: middle;\n",
       "    }\n",
       "\n",
       "    .dataframe tbody tr th {\n",
       "        vertical-align: top;\n",
       "    }\n",
       "\n",
       "    .dataframe thead th {\n",
       "        text-align: right;\n",
       "    }\n",
       "</style>\n",
       "<table border=\"1\" class=\"dataframe\">\n",
       "  <thead>\n",
       "    <tr style=\"text-align: right;\">\n",
       "      <th></th>\n",
       "      <th>id</th>\n",
       "      <th>year</th>\n",
       "      <th>final_d</th>\n",
       "      <th>emp_length_int</th>\n",
       "      <th>home_ownership</th>\n",
       "      <th>home_ownership_cat</th>\n",
       "      <th>income_category</th>\n",
       "      <th>annual_inc</th>\n",
       "      <th>income_cat</th>\n",
       "      <th>loan_amount</th>\n",
       "      <th>...</th>\n",
       "      <th>loan_condition_cat</th>\n",
       "      <th>interest_rate</th>\n",
       "      <th>grade</th>\n",
       "      <th>grade_cat</th>\n",
       "      <th>dti</th>\n",
       "      <th>total_pymnt</th>\n",
       "      <th>total_rec_prncp</th>\n",
       "      <th>recoveries</th>\n",
       "      <th>installment</th>\n",
       "      <th>region</th>\n",
       "    </tr>\n",
       "  </thead>\n",
       "  <tbody>\n",
       "    <tr>\n",
       "      <th>0</th>\n",
       "      <td>1077501</td>\n",
       "      <td>2011</td>\n",
       "      <td>1012015</td>\n",
       "      <td>10.0</td>\n",
       "      <td>RENT</td>\n",
       "      <td>1</td>\n",
       "      <td>Low</td>\n",
       "      <td>24000</td>\n",
       "      <td>1</td>\n",
       "      <td>5000</td>\n",
       "      <td>...</td>\n",
       "      <td>0</td>\n",
       "      <td>10.65</td>\n",
       "      <td>B</td>\n",
       "      <td>2</td>\n",
       "      <td>27.65</td>\n",
       "      <td>5861.071414</td>\n",
       "      <td>5000.00</td>\n",
       "      <td>0.00</td>\n",
       "      <td>162.87</td>\n",
       "      <td>munster</td>\n",
       "    </tr>\n",
       "    <tr>\n",
       "      <th>1</th>\n",
       "      <td>1077430</td>\n",
       "      <td>2011</td>\n",
       "      <td>1042013</td>\n",
       "      <td>0.5</td>\n",
       "      <td>RENT</td>\n",
       "      <td>1</td>\n",
       "      <td>Low</td>\n",
       "      <td>30000</td>\n",
       "      <td>1</td>\n",
       "      <td>2500</td>\n",
       "      <td>...</td>\n",
       "      <td>1</td>\n",
       "      <td>15.27</td>\n",
       "      <td>C</td>\n",
       "      <td>3</td>\n",
       "      <td>1.00</td>\n",
       "      <td>1008.710000</td>\n",
       "      <td>456.46</td>\n",
       "      <td>117.08</td>\n",
       "      <td>59.83</td>\n",
       "      <td>leinster</td>\n",
       "    </tr>\n",
       "    <tr>\n",
       "      <th>2</th>\n",
       "      <td>1077175</td>\n",
       "      <td>2011</td>\n",
       "      <td>1062014</td>\n",
       "      <td>10.0</td>\n",
       "      <td>RENT</td>\n",
       "      <td>1</td>\n",
       "      <td>Low</td>\n",
       "      <td>12252</td>\n",
       "      <td>1</td>\n",
       "      <td>2400</td>\n",
       "      <td>...</td>\n",
       "      <td>0</td>\n",
       "      <td>15.96</td>\n",
       "      <td>C</td>\n",
       "      <td>3</td>\n",
       "      <td>8.72</td>\n",
       "      <td>3003.653644</td>\n",
       "      <td>2400.00</td>\n",
       "      <td>0.00</td>\n",
       "      <td>84.33</td>\n",
       "      <td>cannught</td>\n",
       "    </tr>\n",
       "    <tr>\n",
       "      <th>3</th>\n",
       "      <td>1076863</td>\n",
       "      <td>2011</td>\n",
       "      <td>1012015</td>\n",
       "      <td>10.0</td>\n",
       "      <td>RENT</td>\n",
       "      <td>1</td>\n",
       "      <td>Low</td>\n",
       "      <td>49200</td>\n",
       "      <td>1</td>\n",
       "      <td>10000</td>\n",
       "      <td>...</td>\n",
       "      <td>0</td>\n",
       "      <td>13.49</td>\n",
       "      <td>C</td>\n",
       "      <td>3</td>\n",
       "      <td>20.00</td>\n",
       "      <td>12226.302210</td>\n",
       "      <td>10000.00</td>\n",
       "      <td>0.00</td>\n",
       "      <td>339.31</td>\n",
       "      <td>ulster</td>\n",
       "    </tr>\n",
       "    <tr>\n",
       "      <th>4</th>\n",
       "      <td>1075358</td>\n",
       "      <td>2011</td>\n",
       "      <td>1012016</td>\n",
       "      <td>1.0</td>\n",
       "      <td>RENT</td>\n",
       "      <td>1</td>\n",
       "      <td>Low</td>\n",
       "      <td>80000</td>\n",
       "      <td>1</td>\n",
       "      <td>3000</td>\n",
       "      <td>...</td>\n",
       "      <td>0</td>\n",
       "      <td>12.69</td>\n",
       "      <td>B</td>\n",
       "      <td>2</td>\n",
       "      <td>17.94</td>\n",
       "      <td>3242.170000</td>\n",
       "      <td>2233.10</td>\n",
       "      <td>0.00</td>\n",
       "      <td>67.79</td>\n",
       "      <td>ulster</td>\n",
       "    </tr>\n",
       "  </tbody>\n",
       "</table>\n",
       "<p>5 rows × 29 columns</p>\n",
       "</div>"
      ],
      "text/plain": [
       "        id  year  final_d  emp_length_int home_ownership  home_ownership_cat  \\\n",
       "0  1077501  2011  1012015            10.0           RENT                   1   \n",
       "1  1077430  2011  1042013             0.5           RENT                   1   \n",
       "2  1077175  2011  1062014            10.0           RENT                   1   \n",
       "3  1076863  2011  1012015            10.0           RENT                   1   \n",
       "4  1075358  2011  1012016             1.0           RENT                   1   \n",
       "\n",
       "  income_category  annual_inc  income_cat  loan_amount  ...  \\\n",
       "0             Low       24000           1         5000  ...   \n",
       "1             Low       30000           1         2500  ...   \n",
       "2             Low       12252           1         2400  ...   \n",
       "3             Low       49200           1        10000  ...   \n",
       "4             Low       80000           1         3000  ...   \n",
       "\n",
       "  loan_condition_cat  interest_rate grade  grade_cat    dti   total_pymnt  \\\n",
       "0                  0          10.65     B          2  27.65   5861.071414   \n",
       "1                  1          15.27     C          3   1.00   1008.710000   \n",
       "2                  0          15.96     C          3   8.72   3003.653644   \n",
       "3                  0          13.49     C          3  20.00  12226.302210   \n",
       "4                  0          12.69     B          2  17.94   3242.170000   \n",
       "\n",
       "  total_rec_prncp  recoveries installment    region  \n",
       "0         5000.00        0.00      162.87   munster  \n",
       "1          456.46      117.08       59.83  leinster  \n",
       "2         2400.00        0.00       84.33  cannught  \n",
       "3        10000.00        0.00      339.31    ulster  \n",
       "4         2233.10        0.00       67.79    ulster  \n",
       "\n",
       "[5 rows x 29 columns]"
      ]
     },
     "execution_count": 20,
     "metadata": {},
     "output_type": "execute_result"
    }
   ],
   "source": [
    "df = pd.read_csv('loan_final313.csv')\n",
    "#df = pd.DataFrame(df)\n",
    "del df['issue_d']\n",
    "df.head()"
   ]
  },
  {
   "cell_type": "code",
   "execution_count": 21,
   "metadata": {
    "colab": {},
    "colab_type": "code",
    "id": "NkhheCiW0jq2",
    "outputId": "4da428ae-8e3e-4d59-d8ce-f61d754bb1f9"
   },
   "outputs": [
    {
     "name": "stdout",
     "output_type": "stream",
     "text": [
      "887379 29\n"
     ]
    }
   ],
   "source": [
    "print(df.shape[0], df.shape[1])"
   ]
  },
  {
   "cell_type": "code",
   "execution_count": 22,
   "metadata": {},
   "outputs": [
    {
     "data": {
      "text/plain": [
       "862702"
      ]
     },
     "execution_count": 22,
     "metadata": {},
     "output_type": "execute_result"
    }
   ],
   "source": [
    "df[df.recoveries == 0].shape[0]"
   ]
  },
  {
   "cell_type": "code",
   "execution_count": 23,
   "metadata": {
    "colab": {},
    "colab_type": "code",
    "id": "Gi-TMFdx0jq9",
    "outputId": "08c4fc0a-009d-48d0-cf89-6677e8fc9bf2"
   },
   "outputs": [
    {
     "data": {
      "text/plain": [
       "pandas.core.frame.DataFrame"
      ]
     },
     "execution_count": 23,
     "metadata": {},
     "output_type": "execute_result"
    }
   ],
   "source": [
    "type(df)"
   ]
  },
  {
   "cell_type": "code",
   "execution_count": 24,
   "metadata": {
    "colab": {},
    "colab_type": "code",
    "id": "Vu2X8cqC0jrP",
    "outputId": "36f13280-98e8-40e2-ada2-d96ac7ece173"
   },
   "outputs": [
    {
     "name": "stdout",
     "output_type": "stream",
     "text": [
      "<class 'pandas.core.frame.DataFrame'>\n",
      "RangeIndex: 887379 entries, 0 to 887378\n",
      "Data columns (total 29 columns):\n",
      " #   Column                Non-Null Count   Dtype  \n",
      "---  ------                --------------   -----  \n",
      " 0   id                    887379 non-null  int64  \n",
      " 1   year                  887379 non-null  int64  \n",
      " 2   final_d               887379 non-null  int64  \n",
      " 3   emp_length_int        887379 non-null  float64\n",
      " 4   home_ownership        887379 non-null  object \n",
      " 5   home_ownership_cat    887379 non-null  int64  \n",
      " 6   income_category       887379 non-null  object \n",
      " 7   annual_inc            887379 non-null  int64  \n",
      " 8   income_cat            887379 non-null  int64  \n",
      " 9   loan_amount           887379 non-null  int64  \n",
      " 10  term                  887379 non-null  object \n",
      " 11  term_cat              887379 non-null  int64  \n",
      " 12  application_type      887379 non-null  object \n",
      " 13  application_type_cat  887379 non-null  int64  \n",
      " 14  purpose               887379 non-null  object \n",
      " 15  purpose_cat           887379 non-null  int64  \n",
      " 16  interest_payments     887379 non-null  object \n",
      " 17  interest_payment_cat  887379 non-null  int64  \n",
      " 18  loan_condition        887379 non-null  object \n",
      " 19  loan_condition_cat    887379 non-null  int64  \n",
      " 20  interest_rate         887379 non-null  float64\n",
      " 21  grade                 887379 non-null  object \n",
      " 22  grade_cat             887379 non-null  int64  \n",
      " 23  dti                   887379 non-null  float64\n",
      " 24  total_pymnt           887379 non-null  float64\n",
      " 25  total_rec_prncp       887379 non-null  float64\n",
      " 26  recoveries            887379 non-null  float64\n",
      " 27  installment           887379 non-null  float64\n",
      " 28  region                887379 non-null  object \n",
      "dtypes: float64(7), int64(13), object(9)\n",
      "memory usage: 196.3+ MB\n"
     ]
    }
   ],
   "source": [
    "df.info()"
   ]
  },
  {
   "cell_type": "code",
   "execution_count": 25,
   "metadata": {
    "colab": {},
    "colab_type": "code",
    "id": "cEBwyqoJ0jrc",
    "outputId": "10497e1d-9467-4603-f122-eaea74025d0a"
   },
   "outputs": [
    {
     "data": {
      "text/html": [
       "<div>\n",
       "<style scoped>\n",
       "    .dataframe tbody tr th:only-of-type {\n",
       "        vertical-align: middle;\n",
       "    }\n",
       "\n",
       "    .dataframe tbody tr th {\n",
       "        vertical-align: top;\n",
       "    }\n",
       "\n",
       "    .dataframe thead th {\n",
       "        text-align: right;\n",
       "    }\n",
       "</style>\n",
       "<table border=\"1\" class=\"dataframe\">\n",
       "  <thead>\n",
       "    <tr style=\"text-align: right;\">\n",
       "      <th></th>\n",
       "      <th>id</th>\n",
       "      <th>year</th>\n",
       "      <th>final_d</th>\n",
       "      <th>emp_length_int</th>\n",
       "      <th>home_ownership_cat</th>\n",
       "      <th>annual_inc</th>\n",
       "      <th>income_cat</th>\n",
       "      <th>loan_amount</th>\n",
       "      <th>term_cat</th>\n",
       "      <th>application_type_cat</th>\n",
       "      <th>purpose_cat</th>\n",
       "      <th>interest_payment_cat</th>\n",
       "      <th>loan_condition_cat</th>\n",
       "      <th>interest_rate</th>\n",
       "      <th>grade_cat</th>\n",
       "      <th>dti</th>\n",
       "      <th>total_pymnt</th>\n",
       "      <th>total_rec_prncp</th>\n",
       "      <th>recoveries</th>\n",
       "      <th>installment</th>\n",
       "    </tr>\n",
       "  </thead>\n",
       "  <tbody>\n",
       "    <tr>\n",
       "      <th>count</th>\n",
       "      <td>8.873790e+05</td>\n",
       "      <td>887379.000000</td>\n",
       "      <td>8.873790e+05</td>\n",
       "      <td>887379.000000</td>\n",
       "      <td>887379.000000</td>\n",
       "      <td>8.873790e+05</td>\n",
       "      <td>887379.000000</td>\n",
       "      <td>887379.000000</td>\n",
       "      <td>887379.000000</td>\n",
       "      <td>887379.000000</td>\n",
       "      <td>887379.000000</td>\n",
       "      <td>887379.000000</td>\n",
       "      <td>887379.000000</td>\n",
       "      <td>887379.000000</td>\n",
       "      <td>887379.000000</td>\n",
       "      <td>887379.000000</td>\n",
       "      <td>887379.000000</td>\n",
       "      <td>887379.000000</td>\n",
       "      <td>887379.000000</td>\n",
       "      <td>887379.000000</td>\n",
       "    </tr>\n",
       "    <tr>\n",
       "      <th>mean</th>\n",
       "      <td>3.246513e+07</td>\n",
       "      <td>2014.021761</td>\n",
       "      <td>1.047089e+06</td>\n",
       "      <td>6.050564</td>\n",
       "      <td>2.099130</td>\n",
       "      <td>7.502759e+04</td>\n",
       "      <td>1.196702</td>\n",
       "      <td>14755.264605</td>\n",
       "      <td>1.300045</td>\n",
       "      <td>1.000576</td>\n",
       "      <td>4.874621</td>\n",
       "      <td>1.475629</td>\n",
       "      <td>0.075987</td>\n",
       "      <td>13.246740</td>\n",
       "      <td>2.798403</td>\n",
       "      <td>18.157039</td>\n",
       "      <td>7558.826684</td>\n",
       "      <td>5757.706424</td>\n",
       "      <td>45.919243</td>\n",
       "      <td>436.717127</td>\n",
       "    </tr>\n",
       "    <tr>\n",
       "      <th>std</th>\n",
       "      <td>2.282734e+07</td>\n",
       "      <td>1.261741</td>\n",
       "      <td>4.555149e+04</td>\n",
       "      <td>3.507405</td>\n",
       "      <td>0.944839</td>\n",
       "      <td>6.469815e+04</td>\n",
       "      <td>0.442542</td>\n",
       "      <td>8435.455601</td>\n",
       "      <td>0.458278</td>\n",
       "      <td>0.023990</td>\n",
       "      <td>2.381156</td>\n",
       "      <td>0.499406</td>\n",
       "      <td>0.264977</td>\n",
       "      <td>4.381867</td>\n",
       "      <td>1.312599</td>\n",
       "      <td>17.190626</td>\n",
       "      <td>7871.243336</td>\n",
       "      <td>6625.441046</td>\n",
       "      <td>409.693874</td>\n",
       "      <td>244.186593</td>\n",
       "    </tr>\n",
       "    <tr>\n",
       "      <th>min</th>\n",
       "      <td>5.473400e+04</td>\n",
       "      <td>2007.000000</td>\n",
       "      <td>1.012008e+06</td>\n",
       "      <td>0.500000</td>\n",
       "      <td>1.000000</td>\n",
       "      <td>0.000000e+00</td>\n",
       "      <td>1.000000</td>\n",
       "      <td>500.000000</td>\n",
       "      <td>1.000000</td>\n",
       "      <td>1.000000</td>\n",
       "      <td>1.000000</td>\n",
       "      <td>1.000000</td>\n",
       "      <td>0.000000</td>\n",
       "      <td>5.320000</td>\n",
       "      <td>1.000000</td>\n",
       "      <td>0.000000</td>\n",
       "      <td>0.000000</td>\n",
       "      <td>0.000000</td>\n",
       "      <td>0.000000</td>\n",
       "      <td>15.670000</td>\n",
       "    </tr>\n",
       "    <tr>\n",
       "      <th>25%</th>\n",
       "      <td>9.206643e+06</td>\n",
       "      <td>2013.000000</td>\n",
       "      <td>1.012016e+06</td>\n",
       "      <td>3.000000</td>\n",
       "      <td>1.000000</td>\n",
       "      <td>4.500000e+04</td>\n",
       "      <td>1.000000</td>\n",
       "      <td>8000.000000</td>\n",
       "      <td>1.000000</td>\n",
       "      <td>1.000000</td>\n",
       "      <td>3.000000</td>\n",
       "      <td>1.000000</td>\n",
       "      <td>0.000000</td>\n",
       "      <td>9.990000</td>\n",
       "      <td>2.000000</td>\n",
       "      <td>11.910000</td>\n",
       "      <td>1914.590000</td>\n",
       "      <td>1200.570000</td>\n",
       "      <td>0.000000</td>\n",
       "      <td>260.705000</td>\n",
       "    </tr>\n",
       "    <tr>\n",
       "      <th>50%</th>\n",
       "      <td>3.443327e+07</td>\n",
       "      <td>2014.000000</td>\n",
       "      <td>1.012016e+06</td>\n",
       "      <td>6.050000</td>\n",
       "      <td>3.000000</td>\n",
       "      <td>6.500000e+04</td>\n",
       "      <td>1.000000</td>\n",
       "      <td>13000.000000</td>\n",
       "      <td>1.000000</td>\n",
       "      <td>1.000000</td>\n",
       "      <td>6.000000</td>\n",
       "      <td>1.000000</td>\n",
       "      <td>0.000000</td>\n",
       "      <td>12.990000</td>\n",
       "      <td>3.000000</td>\n",
       "      <td>17.650000</td>\n",
       "      <td>4894.999117</td>\n",
       "      <td>3215.320000</td>\n",
       "      <td>0.000000</td>\n",
       "      <td>382.550000</td>\n",
       "    </tr>\n",
       "    <tr>\n",
       "      <th>75%</th>\n",
       "      <td>5.490814e+07</td>\n",
       "      <td>2015.000000</td>\n",
       "      <td>1.092015e+06</td>\n",
       "      <td>10.000000</td>\n",
       "      <td>3.000000</td>\n",
       "      <td>9.000000e+04</td>\n",
       "      <td>1.000000</td>\n",
       "      <td>20000.000000</td>\n",
       "      <td>2.000000</td>\n",
       "      <td>1.000000</td>\n",
       "      <td>6.000000</td>\n",
       "      <td>2.000000</td>\n",
       "      <td>0.000000</td>\n",
       "      <td>16.200000</td>\n",
       "      <td>4.000000</td>\n",
       "      <td>23.950000</td>\n",
       "      <td>10616.814230</td>\n",
       "      <td>8000.000000</td>\n",
       "      <td>0.000000</td>\n",
       "      <td>572.600000</td>\n",
       "    </tr>\n",
       "    <tr>\n",
       "      <th>max</th>\n",
       "      <td>6.861706e+07</td>\n",
       "      <td>2015.000000</td>\n",
       "      <td>1.122015e+06</td>\n",
       "      <td>10.000000</td>\n",
       "      <td>6.000000</td>\n",
       "      <td>9.500000e+06</td>\n",
       "      <td>3.000000</td>\n",
       "      <td>35000.000000</td>\n",
       "      <td>2.000000</td>\n",
       "      <td>2.000000</td>\n",
       "      <td>14.000000</td>\n",
       "      <td>2.000000</td>\n",
       "      <td>1.000000</td>\n",
       "      <td>28.990000</td>\n",
       "      <td>7.000000</td>\n",
       "      <td>9999.000000</td>\n",
       "      <td>57777.579870</td>\n",
       "      <td>35000.030000</td>\n",
       "      <td>33520.270000</td>\n",
       "      <td>1445.460000</td>\n",
       "    </tr>\n",
       "  </tbody>\n",
       "</table>\n",
       "</div>"
      ],
      "text/plain": [
       "                 id           year       final_d  emp_length_int  \\\n",
       "count  8.873790e+05  887379.000000  8.873790e+05   887379.000000   \n",
       "mean   3.246513e+07    2014.021761  1.047089e+06        6.050564   \n",
       "std    2.282734e+07       1.261741  4.555149e+04        3.507405   \n",
       "min    5.473400e+04    2007.000000  1.012008e+06        0.500000   \n",
       "25%    9.206643e+06    2013.000000  1.012016e+06        3.000000   \n",
       "50%    3.443327e+07    2014.000000  1.012016e+06        6.050000   \n",
       "75%    5.490814e+07    2015.000000  1.092015e+06       10.000000   \n",
       "max    6.861706e+07    2015.000000  1.122015e+06       10.000000   \n",
       "\n",
       "       home_ownership_cat    annual_inc     income_cat    loan_amount  \\\n",
       "count       887379.000000  8.873790e+05  887379.000000  887379.000000   \n",
       "mean             2.099130  7.502759e+04       1.196702   14755.264605   \n",
       "std              0.944839  6.469815e+04       0.442542    8435.455601   \n",
       "min              1.000000  0.000000e+00       1.000000     500.000000   \n",
       "25%              1.000000  4.500000e+04       1.000000    8000.000000   \n",
       "50%              3.000000  6.500000e+04       1.000000   13000.000000   \n",
       "75%              3.000000  9.000000e+04       1.000000   20000.000000   \n",
       "max              6.000000  9.500000e+06       3.000000   35000.000000   \n",
       "\n",
       "            term_cat  application_type_cat    purpose_cat  \\\n",
       "count  887379.000000         887379.000000  887379.000000   \n",
       "mean        1.300045              1.000576       4.874621   \n",
       "std         0.458278              0.023990       2.381156   \n",
       "min         1.000000              1.000000       1.000000   \n",
       "25%         1.000000              1.000000       3.000000   \n",
       "50%         1.000000              1.000000       6.000000   \n",
       "75%         2.000000              1.000000       6.000000   \n",
       "max         2.000000              2.000000      14.000000   \n",
       "\n",
       "       interest_payment_cat  loan_condition_cat  interest_rate      grade_cat  \\\n",
       "count         887379.000000       887379.000000  887379.000000  887379.000000   \n",
       "mean               1.475629            0.075987      13.246740       2.798403   \n",
       "std                0.499406            0.264977       4.381867       1.312599   \n",
       "min                1.000000            0.000000       5.320000       1.000000   \n",
       "25%                1.000000            0.000000       9.990000       2.000000   \n",
       "50%                1.000000            0.000000      12.990000       3.000000   \n",
       "75%                2.000000            0.000000      16.200000       4.000000   \n",
       "max                2.000000            1.000000      28.990000       7.000000   \n",
       "\n",
       "                 dti    total_pymnt  total_rec_prncp     recoveries  \\\n",
       "count  887379.000000  887379.000000    887379.000000  887379.000000   \n",
       "mean       18.157039    7558.826684      5757.706424      45.919243   \n",
       "std        17.190626    7871.243336      6625.441046     409.693874   \n",
       "min         0.000000       0.000000         0.000000       0.000000   \n",
       "25%        11.910000    1914.590000      1200.570000       0.000000   \n",
       "50%        17.650000    4894.999117      3215.320000       0.000000   \n",
       "75%        23.950000   10616.814230      8000.000000       0.000000   \n",
       "max      9999.000000   57777.579870     35000.030000   33520.270000   \n",
       "\n",
       "         installment  \n",
       "count  887379.000000  \n",
       "mean      436.717127  \n",
       "std       244.186593  \n",
       "min        15.670000  \n",
       "25%       260.705000  \n",
       "50%       382.550000  \n",
       "75%       572.600000  \n",
       "max      1445.460000  "
      ]
     },
     "execution_count": 25,
     "metadata": {},
     "output_type": "execute_result"
    }
   ],
   "source": [
    "df.describe()"
   ]
  },
  {
   "cell_type": "markdown",
   "metadata": {
    "colab_type": "text",
    "id": "XpPQwDZb0jrv"
   },
   "source": [
    "## Работа с пропусками"
   ]
  },
  {
   "cell_type": "code",
   "execution_count": 31,
   "metadata": {
    "colab": {},
    "colab_type": "code",
    "id": "2OD0cs7A0jrw",
    "outputId": "ffe87287-489a-4db9-ba41-4ff7c9760242"
   },
   "outputs": [
    {
     "name": "stdout",
     "output_type": "stream",
     "text": [
      "Количество пропусков 0\n"
     ]
    }
   ],
   "source": [
    "print(\"Количество пропусков {}\".format(df.isna().sum().sum()))"
   ]
  },
  {
   "cell_type": "markdown",
   "metadata": {
    "colab_type": "text",
    "id": "xxW34t2j0jsp"
   },
   "source": [
    "## настройка категориальных признаков"
   ]
  },
  {
   "cell_type": "code",
   "execution_count": 32,
   "metadata": {
    "colab": {},
    "colab_type": "code",
    "id": "J0VXK_kD0jsd",
    "outputId": "f8551de4-e7f2-423a-dcfd-ac3ed800c7f8"
   },
   "outputs": [
    {
     "data": {
      "text/html": [
       "<div>\n",
       "<style scoped>\n",
       "    .dataframe tbody tr th:only-of-type {\n",
       "        vertical-align: middle;\n",
       "    }\n",
       "\n",
       "    .dataframe tbody tr th {\n",
       "        vertical-align: top;\n",
       "    }\n",
       "\n",
       "    .dataframe thead th {\n",
       "        text-align: right;\n",
       "    }\n",
       "</style>\n",
       "<table border=\"1\" class=\"dataframe\">\n",
       "  <thead>\n",
       "    <tr style=\"text-align: right;\">\n",
       "      <th></th>\n",
       "      <th>indicator</th>\n",
       "      <th>d_type</th>\n",
       "    </tr>\n",
       "  </thead>\n",
       "  <tbody>\n",
       "    <tr>\n",
       "      <th>0</th>\n",
       "      <td>id</td>\n",
       "      <td>int64</td>\n",
       "    </tr>\n",
       "    <tr>\n",
       "      <th>1</th>\n",
       "      <td>year</td>\n",
       "      <td>int64</td>\n",
       "    </tr>\n",
       "    <tr>\n",
       "      <th>2</th>\n",
       "      <td>final_d</td>\n",
       "      <td>int64</td>\n",
       "    </tr>\n",
       "    <tr>\n",
       "      <th>3</th>\n",
       "      <td>emp_length_int</td>\n",
       "      <td>float64</td>\n",
       "    </tr>\n",
       "    <tr>\n",
       "      <th>4</th>\n",
       "      <td>home_ownership</td>\n",
       "      <td>object</td>\n",
       "    </tr>\n",
       "  </tbody>\n",
       "</table>\n",
       "</div>"
      ],
      "text/plain": [
       "        indicator   d_type\n",
       "0              id    int64\n",
       "1            year    int64\n",
       "2         final_d    int64\n",
       "3  emp_length_int  float64\n",
       "4  home_ownership   object"
      ]
     },
     "execution_count": 32,
     "metadata": {},
     "output_type": "execute_result"
    }
   ],
   "source": [
    "d_types = pd.DataFrame(df).dtypes.reset_index()\n",
    "d_types.columns = ['indicator', 'd_type']\n",
    "d_types.head()"
   ]
  },
  {
   "cell_type": "code",
   "execution_count": 33,
   "metadata": {
    "colab": {},
    "colab_type": "code",
    "id": "3XqZvsOE0jsq",
    "outputId": "10ff4799-5187-4eaf-8f21-f97de233d709"
   },
   "outputs": [
    {
     "data": {
      "text/html": [
       "<div>\n",
       "<style scoped>\n",
       "    .dataframe tbody tr th:only-of-type {\n",
       "        vertical-align: middle;\n",
       "    }\n",
       "\n",
       "    .dataframe tbody tr th {\n",
       "        vertical-align: top;\n",
       "    }\n",
       "\n",
       "    .dataframe thead th {\n",
       "        text-align: right;\n",
       "    }\n",
       "</style>\n",
       "<table border=\"1\" class=\"dataframe\">\n",
       "  <thead>\n",
       "    <tr style=\"text-align: right;\">\n",
       "      <th></th>\n",
       "      <th>indicator</th>\n",
       "      <th>d_type</th>\n",
       "    </tr>\n",
       "  </thead>\n",
       "  <tbody>\n",
       "    <tr>\n",
       "      <th>4</th>\n",
       "      <td>home_ownership</td>\n",
       "      <td>object</td>\n",
       "    </tr>\n",
       "    <tr>\n",
       "      <th>6</th>\n",
       "      <td>income_category</td>\n",
       "      <td>object</td>\n",
       "    </tr>\n",
       "    <tr>\n",
       "      <th>10</th>\n",
       "      <td>term</td>\n",
       "      <td>object</td>\n",
       "    </tr>\n",
       "    <tr>\n",
       "      <th>12</th>\n",
       "      <td>application_type</td>\n",
       "      <td>object</td>\n",
       "    </tr>\n",
       "    <tr>\n",
       "      <th>14</th>\n",
       "      <td>purpose</td>\n",
       "      <td>object</td>\n",
       "    </tr>\n",
       "    <tr>\n",
       "      <th>16</th>\n",
       "      <td>interest_payments</td>\n",
       "      <td>object</td>\n",
       "    </tr>\n",
       "    <tr>\n",
       "      <th>18</th>\n",
       "      <td>loan_condition</td>\n",
       "      <td>object</td>\n",
       "    </tr>\n",
       "    <tr>\n",
       "      <th>21</th>\n",
       "      <td>grade</td>\n",
       "      <td>object</td>\n",
       "    </tr>\n",
       "    <tr>\n",
       "      <th>28</th>\n",
       "      <td>region</td>\n",
       "      <td>object</td>\n",
       "    </tr>\n",
       "  </tbody>\n",
       "</table>\n",
       "</div>"
      ],
      "text/plain": [
       "            indicator  d_type\n",
       "4      home_ownership  object\n",
       "6     income_category  object\n",
       "10               term  object\n",
       "12   application_type  object\n",
       "14            purpose  object\n",
       "16  interest_payments  object\n",
       "18     loan_condition  object\n",
       "21              grade  object\n",
       "28             region  object"
      ]
     },
     "execution_count": 33,
     "metadata": {},
     "output_type": "execute_result"
    }
   ],
   "source": [
    "d_objects = d_types[d_types.d_type == 'object']\n",
    "d_objects"
   ]
  },
  {
   "cell_type": "code",
   "execution_count": 34,
   "metadata": {
    "colab": {},
    "colab_type": "code",
    "id": "dZcZaauR0js5",
    "outputId": "f9c2b195-64dc-4a27-d8c2-810504676976"
   },
   "outputs": [
    {
     "name": "stdout",
     "output_type": "stream",
     "text": [
      "home_ownership ['RENT' 'OWN' 'MORTGAGE' 'OTHER' 'NONE' 'ANY']\n",
      "\n",
      "income_category ['Low' 'Medium' 'High']\n",
      "\n",
      "term [' 36 months' ' 60 months']\n",
      "\n",
      "application_type ['INDIVIDUAL' 'JOINT']\n",
      "\n",
      "purpose ['credit_card' 'car' 'small_business' 'other' 'wedding'\n",
      " 'debt_consolidation' 'home_improvement' 'major_purchase' 'medical'\n",
      " 'moving' 'vacation' 'house' 'renewable_energy' 'educational']\n",
      "\n",
      "interest_payments ['Low' 'High']\n",
      "\n",
      "loan_condition ['Good Loan' 'Bad Loan']\n",
      "\n",
      "grade ['B' 'C' 'A' 'E' 'F' 'D' 'G']\n",
      "\n",
      "region ['munster' 'leinster' 'cannught' 'ulster' 'Northern-Irl']\n",
      "\n"
     ]
    }
   ],
   "source": [
    "for i in d_objects.indicator.values:\n",
    "    print(i , df[i].unique(), end = \"\\n\\n\")"
   ]
  },
  {
   "cell_type": "code",
   "execution_count": 35,
   "metadata": {
    "colab": {},
    "colab_type": "code",
    "id": "4JTLZpU80jtA"
   },
   "outputs": [
    {
     "ename": "ValueError",
     "evalue": "Unable to parse string \" 36 months\" at position 0",
     "output_type": "error",
     "traceback": [
      "\u001b[1;31m---------------------------------------------------------------------------\u001b[0m",
      "\u001b[1;31mValueError\u001b[0m                                Traceback (most recent call last)",
      "\u001b[1;32mpandas\\_libs\\lib.pyx\u001b[0m in \u001b[0;36mpandas._libs.lib.maybe_convert_numeric\u001b[1;34m()\u001b[0m\n",
      "\u001b[1;31mValueError\u001b[0m: Unable to parse string \" 36 months\"",
      "\nDuring handling of the above exception, another exception occurred:\n",
      "\u001b[1;31mValueError\u001b[0m                                Traceback (most recent call last)",
      "\u001b[1;32m<ipython-input-35-03b1c7edaa76>\u001b[0m in \u001b[0;36m<module>\u001b[1;34m\u001b[0m\n\u001b[0;32m     13\u001b[0m         \u001b[0mdf\u001b[0m\u001b[1;33m[\u001b[0m\u001b[0mi\u001b[0m\u001b[1;33m]\u001b[0m \u001b[1;33m=\u001b[0m \u001b[0mdf\u001b[0m\u001b[1;33m[\u001b[0m\u001b[0mi\u001b[0m\u001b[1;33m]\u001b[0m\u001b[1;33m.\u001b[0m\u001b[0mreplace\u001b[0m\u001b[1;33m(\u001b[0m\u001b[0mto_replace\u001b[0m\u001b[1;33m=\u001b[0m\u001b[1;34m'Y'\u001b[0m\u001b[1;33m,\u001b[0m \u001b[0mvalue\u001b[0m\u001b[1;33m=\u001b[0m\u001b[1;36m1\u001b[0m\u001b[1;33m,\u001b[0m \u001b[0mregex\u001b[0m\u001b[1;33m=\u001b[0m\u001b[1;32mTrue\u001b[0m\u001b[1;33m)\u001b[0m\u001b[1;33m\u001b[0m\u001b[1;33m\u001b[0m\u001b[0m\n\u001b[0;32m     14\u001b[0m \u001b[1;33m\u001b[0m\u001b[0m\n\u001b[1;32m---> 15\u001b[1;33m     \u001b[0mpd\u001b[0m\u001b[1;33m.\u001b[0m\u001b[0mto_numeric\u001b[0m\u001b[1;33m(\u001b[0m\u001b[0mdf\u001b[0m\u001b[1;33m[\u001b[0m\u001b[0mi\u001b[0m\u001b[1;33m]\u001b[0m\u001b[1;33m)\u001b[0m\u001b[1;33m\u001b[0m\u001b[1;33m\u001b[0m\u001b[0m\n\u001b[0m",
      "\u001b[1;32m~\\anaconda3\\lib\\site-packages\\pandas\\core\\tools\\numeric.py\u001b[0m in \u001b[0;36mto_numeric\u001b[1;34m(arg, errors, downcast)\u001b[0m\n\u001b[0;32m    148\u001b[0m         \u001b[1;32mtry\u001b[0m\u001b[1;33m:\u001b[0m\u001b[1;33m\u001b[0m\u001b[1;33m\u001b[0m\u001b[0m\n\u001b[0;32m    149\u001b[0m             values = lib.maybe_convert_numeric(\n\u001b[1;32m--> 150\u001b[1;33m                 \u001b[0mvalues\u001b[0m\u001b[1;33m,\u001b[0m \u001b[0mset\u001b[0m\u001b[1;33m(\u001b[0m\u001b[1;33m)\u001b[0m\u001b[1;33m,\u001b[0m \u001b[0mcoerce_numeric\u001b[0m\u001b[1;33m=\u001b[0m\u001b[0mcoerce_numeric\u001b[0m\u001b[1;33m\u001b[0m\u001b[1;33m\u001b[0m\u001b[0m\n\u001b[0m\u001b[0;32m    151\u001b[0m             )\n\u001b[0;32m    152\u001b[0m         \u001b[1;32mexcept\u001b[0m \u001b[1;33m(\u001b[0m\u001b[0mValueError\u001b[0m\u001b[1;33m,\u001b[0m \u001b[0mTypeError\u001b[0m\u001b[1;33m)\u001b[0m\u001b[1;33m:\u001b[0m\u001b[1;33m\u001b[0m\u001b[1;33m\u001b[0m\u001b[0m\n",
      "\u001b[1;32mpandas\\_libs\\lib.pyx\u001b[0m in \u001b[0;36mpandas._libs.lib.maybe_convert_numeric\u001b[1;34m()\u001b[0m\n",
      "\u001b[1;31mValueError\u001b[0m: Unable to parse string \" 36 months\" at position 0"
     ]
    }
   ],
   "source": [
    "for i in ['term', 'loan_condition', 'interest_payments', 'application_type']:\n",
    "    if i == 'EMERGENCYSTATE_MODE':\n",
    "        df[i] = df[i].replace(to_replace='No', value=0, regex=True)\n",
    "        df[i] = df[i].replace(to_replace='Yes', value=1, regex=True)\n",
    "    elif i == 'CODE_GENDER':\n",
    "        df[i] = df[i].replace(to_replace='F', value=0, regex=True)\n",
    "        df[i] = df[i].replace(to_replace='M', value=1, regex=True)\n",
    "    elif i == 'NAME_CONTRACT_TYPE':\n",
    "        df[i] = df[i].replace(to_replace='Revolving loans', value=0, regex=True)\n",
    "        df[i] = df[i].replace(to_replace='Cash loans', value=1, regex=True)\n",
    "    else:\n",
    "        df[i] = df[i].replace(to_replace='N', value=0, regex=True)\n",
    "        df[i] = df[i].replace(to_replace='Y', value=1, regex=True)\n",
    "        \n",
    "    pd.to_numeric(df[i])"
   ]
  },
  {
   "cell_type": "code",
   "execution_count": 15,
   "metadata": {
    "colab": {},
    "colab_type": "code",
    "id": "f425KdUV0jtL",
    "outputId": "9c89813c-fd5c-48d2-d7b3-2381c0cdfa60"
   },
   "outputs": [
    {
     "name": "stdout",
     "output_type": "stream",
     "text": [
      "home_ownership []\n",
      "\n",
      "\n",
      "income_category []\n",
      "\n",
      "\n",
      "term []\n",
      "\n",
      "\n",
      "application_type []\n",
      "\n",
      "\n",
      "purpose []\n",
      "\n",
      "\n",
      "interest_payments []\n",
      "\n",
      "\n",
      "loan_condition []\n",
      "\n",
      "\n",
      "grade []\n",
      "\n",
      "\n",
      "region []\n",
      "\n",
      "\n"
     ]
    }
   ],
   "source": [
    "d_types = pd.DataFrame(df).dtypes.reset_index()\n",
    "d_types.columns = ['indicator', 'd_type']\n",
    "\n",
    "d_objects = d_types[d_types.d_type == 'object']\n",
    "\n",
    "for i in d_objects.indicator.values:\n",
    "    print(i ,df[i].unique())\n",
    "    print('\\n')"
   ]
  },
  {
   "cell_type": "code",
   "execution_count": 16,
   "metadata": {
    "colab": {},
    "colab_type": "code",
    "id": "KaYKjfCT0jtU",
    "outputId": "29dda61c-bac2-4793-c87e-a036c52d6edd"
   },
   "outputs": [
    {
     "data": {
      "text/html": [
       "<div>\n",
       "<style scoped>\n",
       "    .dataframe tbody tr th:only-of-type {\n",
       "        vertical-align: middle;\n",
       "    }\n",
       "\n",
       "    .dataframe tbody tr th {\n",
       "        vertical-align: top;\n",
       "    }\n",
       "\n",
       "    .dataframe thead th {\n",
       "        text-align: right;\n",
       "    }\n",
       "</style>\n",
       "<table border=\"1\" class=\"dataframe\">\n",
       "  <thead>\n",
       "    <tr style=\"text-align: right;\">\n",
       "      <th></th>\n",
       "      <th>indicator</th>\n",
       "      <th>d_type</th>\n",
       "    </tr>\n",
       "  </thead>\n",
       "  <tbody>\n",
       "    <tr>\n",
       "      <th>0</th>\n",
       "      <td>id</td>\n",
       "      <td>int64</td>\n",
       "    </tr>\n",
       "    <tr>\n",
       "      <th>1</th>\n",
       "      <td>year</td>\n",
       "      <td>int64</td>\n",
       "    </tr>\n",
       "    <tr>\n",
       "      <th>2</th>\n",
       "      <td>final_d</td>\n",
       "      <td>int64</td>\n",
       "    </tr>\n",
       "    <tr>\n",
       "      <th>3</th>\n",
       "      <td>emp_length_int</td>\n",
       "      <td>float64</td>\n",
       "    </tr>\n",
       "    <tr>\n",
       "      <th>4</th>\n",
       "      <td>home_ownership</td>\n",
       "      <td>object</td>\n",
       "    </tr>\n",
       "    <tr>\n",
       "      <th>5</th>\n",
       "      <td>home_ownership_cat</td>\n",
       "      <td>int64</td>\n",
       "    </tr>\n",
       "    <tr>\n",
       "      <th>6</th>\n",
       "      <td>income_category</td>\n",
       "      <td>object</td>\n",
       "    </tr>\n",
       "    <tr>\n",
       "      <th>7</th>\n",
       "      <td>annual_inc</td>\n",
       "      <td>int64</td>\n",
       "    </tr>\n",
       "    <tr>\n",
       "      <th>8</th>\n",
       "      <td>income_cat</td>\n",
       "      <td>int64</td>\n",
       "    </tr>\n",
       "    <tr>\n",
       "      <th>9</th>\n",
       "      <td>loan_amount</td>\n",
       "      <td>int64</td>\n",
       "    </tr>\n",
       "    <tr>\n",
       "      <th>10</th>\n",
       "      <td>term</td>\n",
       "      <td>object</td>\n",
       "    </tr>\n",
       "    <tr>\n",
       "      <th>11</th>\n",
       "      <td>term_cat</td>\n",
       "      <td>int64</td>\n",
       "    </tr>\n",
       "    <tr>\n",
       "      <th>12</th>\n",
       "      <td>application_type</td>\n",
       "      <td>object</td>\n",
       "    </tr>\n",
       "    <tr>\n",
       "      <th>13</th>\n",
       "      <td>application_type_cat</td>\n",
       "      <td>int64</td>\n",
       "    </tr>\n",
       "    <tr>\n",
       "      <th>14</th>\n",
       "      <td>purpose</td>\n",
       "      <td>object</td>\n",
       "    </tr>\n",
       "    <tr>\n",
       "      <th>15</th>\n",
       "      <td>purpose_cat</td>\n",
       "      <td>int64</td>\n",
       "    </tr>\n",
       "    <tr>\n",
       "      <th>16</th>\n",
       "      <td>interest_payments</td>\n",
       "      <td>object</td>\n",
       "    </tr>\n",
       "    <tr>\n",
       "      <th>17</th>\n",
       "      <td>interest_payment_cat</td>\n",
       "      <td>int64</td>\n",
       "    </tr>\n",
       "    <tr>\n",
       "      <th>18</th>\n",
       "      <td>loan_condition</td>\n",
       "      <td>object</td>\n",
       "    </tr>\n",
       "    <tr>\n",
       "      <th>19</th>\n",
       "      <td>loan_condition_cat</td>\n",
       "      <td>int64</td>\n",
       "    </tr>\n",
       "    <tr>\n",
       "      <th>20</th>\n",
       "      <td>interest_rate</td>\n",
       "      <td>float64</td>\n",
       "    </tr>\n",
       "    <tr>\n",
       "      <th>21</th>\n",
       "      <td>grade</td>\n",
       "      <td>object</td>\n",
       "    </tr>\n",
       "    <tr>\n",
       "      <th>22</th>\n",
       "      <td>grade_cat</td>\n",
       "      <td>int64</td>\n",
       "    </tr>\n",
       "    <tr>\n",
       "      <th>23</th>\n",
       "      <td>dti</td>\n",
       "      <td>float64</td>\n",
       "    </tr>\n",
       "    <tr>\n",
       "      <th>24</th>\n",
       "      <td>total_pymnt</td>\n",
       "      <td>float64</td>\n",
       "    </tr>\n",
       "    <tr>\n",
       "      <th>25</th>\n",
       "      <td>total_rec_prncp</td>\n",
       "      <td>float64</td>\n",
       "    </tr>\n",
       "    <tr>\n",
       "      <th>26</th>\n",
       "      <td>recoveries</td>\n",
       "      <td>float64</td>\n",
       "    </tr>\n",
       "    <tr>\n",
       "      <th>27</th>\n",
       "      <td>installment</td>\n",
       "      <td>float64</td>\n",
       "    </tr>\n",
       "    <tr>\n",
       "      <th>28</th>\n",
       "      <td>region</td>\n",
       "      <td>object</td>\n",
       "    </tr>\n",
       "  </tbody>\n",
       "</table>\n",
       "</div>"
      ],
      "text/plain": [
       "               indicator   d_type\n",
       "0                     id    int64\n",
       "1                   year    int64\n",
       "2                final_d    int64\n",
       "3         emp_length_int  float64\n",
       "4         home_ownership   object\n",
       "5     home_ownership_cat    int64\n",
       "6        income_category   object\n",
       "7             annual_inc    int64\n",
       "8             income_cat    int64\n",
       "9            loan_amount    int64\n",
       "10                  term   object\n",
       "11              term_cat    int64\n",
       "12      application_type   object\n",
       "13  application_type_cat    int64\n",
       "14               purpose   object\n",
       "15           purpose_cat    int64\n",
       "16     interest_payments   object\n",
       "17  interest_payment_cat    int64\n",
       "18        loan_condition   object\n",
       "19    loan_condition_cat    int64\n",
       "20         interest_rate  float64\n",
       "21                 grade   object\n",
       "22             grade_cat    int64\n",
       "23                   dti  float64\n",
       "24           total_pymnt  float64\n",
       "25       total_rec_prncp  float64\n",
       "26            recoveries  float64\n",
       "27           installment  float64\n",
       "28                region   object"
      ]
     },
     "execution_count": 16,
     "metadata": {},
     "output_type": "execute_result"
    }
   ],
   "source": [
    "d_types"
   ]
  },
  {
   "cell_type": "code",
   "execution_count": 16,
   "metadata": {
    "colab": {},
    "colab_type": "code",
    "id": "fg1mNU0U0jtd",
    "outputId": "2eba36a9-a42c-461d-f151-93f7424716c6"
   },
   "outputs": [
    {
     "data": {
      "text/html": [
       "<div>\n",
       "<style scoped>\n",
       "    .dataframe tbody tr th:only-of-type {\n",
       "        vertical-align: middle;\n",
       "    }\n",
       "\n",
       "    .dataframe tbody tr th {\n",
       "        vertical-align: top;\n",
       "    }\n",
       "\n",
       "    .dataframe thead th {\n",
       "        text-align: right;\n",
       "    }\n",
       "</style>\n",
       "<table border=\"1\" class=\"dataframe\">\n",
       "  <thead>\n",
       "    <tr style=\"text-align: right;\">\n",
       "      <th></th>\n",
       "      <th>index</th>\n",
       "      <th>count</th>\n",
       "      <th>mean</th>\n",
       "      <th>std</th>\n",
       "      <th>min</th>\n",
       "      <th>25%</th>\n",
       "      <th>50%</th>\n",
       "      <th>75%</th>\n",
       "      <th>max</th>\n",
       "    </tr>\n",
       "  </thead>\n",
       "  <tbody>\n",
       "    <tr>\n",
       "      <th>0</th>\n",
       "      <td>id</td>\n",
       "      <td>0.0</td>\n",
       "      <td>NaN</td>\n",
       "      <td>NaN</td>\n",
       "      <td>NaN</td>\n",
       "      <td>NaN</td>\n",
       "      <td>NaN</td>\n",
       "      <td>NaN</td>\n",
       "      <td>NaN</td>\n",
       "    </tr>\n",
       "    <tr>\n",
       "      <th>1</th>\n",
       "      <td>year</td>\n",
       "      <td>0.0</td>\n",
       "      <td>NaN</td>\n",
       "      <td>NaN</td>\n",
       "      <td>NaN</td>\n",
       "      <td>NaN</td>\n",
       "      <td>NaN</td>\n",
       "      <td>NaN</td>\n",
       "      <td>NaN</td>\n",
       "    </tr>\n",
       "    <tr>\n",
       "      <th>2</th>\n",
       "      <td>final_d</td>\n",
       "      <td>0.0</td>\n",
       "      <td>NaN</td>\n",
       "      <td>NaN</td>\n",
       "      <td>NaN</td>\n",
       "      <td>NaN</td>\n",
       "      <td>NaN</td>\n",
       "      <td>NaN</td>\n",
       "      <td>NaN</td>\n",
       "    </tr>\n",
       "    <tr>\n",
       "      <th>3</th>\n",
       "      <td>emp_length_int</td>\n",
       "      <td>0.0</td>\n",
       "      <td>NaN</td>\n",
       "      <td>NaN</td>\n",
       "      <td>NaN</td>\n",
       "      <td>NaN</td>\n",
       "      <td>NaN</td>\n",
       "      <td>NaN</td>\n",
       "      <td>NaN</td>\n",
       "    </tr>\n",
       "    <tr>\n",
       "      <th>4</th>\n",
       "      <td>home_ownership_cat</td>\n",
       "      <td>0.0</td>\n",
       "      <td>NaN</td>\n",
       "      <td>NaN</td>\n",
       "      <td>NaN</td>\n",
       "      <td>NaN</td>\n",
       "      <td>NaN</td>\n",
       "      <td>NaN</td>\n",
       "      <td>NaN</td>\n",
       "    </tr>\n",
       "    <tr>\n",
       "      <th>5</th>\n",
       "      <td>annual_inc</td>\n",
       "      <td>0.0</td>\n",
       "      <td>NaN</td>\n",
       "      <td>NaN</td>\n",
       "      <td>NaN</td>\n",
       "      <td>NaN</td>\n",
       "      <td>NaN</td>\n",
       "      <td>NaN</td>\n",
       "      <td>NaN</td>\n",
       "    </tr>\n",
       "    <tr>\n",
       "      <th>6</th>\n",
       "      <td>income_cat</td>\n",
       "      <td>0.0</td>\n",
       "      <td>NaN</td>\n",
       "      <td>NaN</td>\n",
       "      <td>NaN</td>\n",
       "      <td>NaN</td>\n",
       "      <td>NaN</td>\n",
       "      <td>NaN</td>\n",
       "      <td>NaN</td>\n",
       "    </tr>\n",
       "    <tr>\n",
       "      <th>7</th>\n",
       "      <td>loan_amount</td>\n",
       "      <td>0.0</td>\n",
       "      <td>NaN</td>\n",
       "      <td>NaN</td>\n",
       "      <td>NaN</td>\n",
       "      <td>NaN</td>\n",
       "      <td>NaN</td>\n",
       "      <td>NaN</td>\n",
       "      <td>NaN</td>\n",
       "    </tr>\n",
       "    <tr>\n",
       "      <th>8</th>\n",
       "      <td>term_cat</td>\n",
       "      <td>0.0</td>\n",
       "      <td>NaN</td>\n",
       "      <td>NaN</td>\n",
       "      <td>NaN</td>\n",
       "      <td>NaN</td>\n",
       "      <td>NaN</td>\n",
       "      <td>NaN</td>\n",
       "      <td>NaN</td>\n",
       "    </tr>\n",
       "    <tr>\n",
       "      <th>9</th>\n",
       "      <td>application_type_cat</td>\n",
       "      <td>0.0</td>\n",
       "      <td>NaN</td>\n",
       "      <td>NaN</td>\n",
       "      <td>NaN</td>\n",
       "      <td>NaN</td>\n",
       "      <td>NaN</td>\n",
       "      <td>NaN</td>\n",
       "      <td>NaN</td>\n",
       "    </tr>\n",
       "    <tr>\n",
       "      <th>10</th>\n",
       "      <td>purpose_cat</td>\n",
       "      <td>0.0</td>\n",
       "      <td>NaN</td>\n",
       "      <td>NaN</td>\n",
       "      <td>NaN</td>\n",
       "      <td>NaN</td>\n",
       "      <td>NaN</td>\n",
       "      <td>NaN</td>\n",
       "      <td>NaN</td>\n",
       "    </tr>\n",
       "    <tr>\n",
       "      <th>11</th>\n",
       "      <td>interest_payment_cat</td>\n",
       "      <td>0.0</td>\n",
       "      <td>NaN</td>\n",
       "      <td>NaN</td>\n",
       "      <td>NaN</td>\n",
       "      <td>NaN</td>\n",
       "      <td>NaN</td>\n",
       "      <td>NaN</td>\n",
       "      <td>NaN</td>\n",
       "    </tr>\n",
       "    <tr>\n",
       "      <th>12</th>\n",
       "      <td>loan_condition_cat</td>\n",
       "      <td>0.0</td>\n",
       "      <td>NaN</td>\n",
       "      <td>NaN</td>\n",
       "      <td>NaN</td>\n",
       "      <td>NaN</td>\n",
       "      <td>NaN</td>\n",
       "      <td>NaN</td>\n",
       "      <td>NaN</td>\n",
       "    </tr>\n",
       "    <tr>\n",
       "      <th>13</th>\n",
       "      <td>interest_rate</td>\n",
       "      <td>0.0</td>\n",
       "      <td>NaN</td>\n",
       "      <td>NaN</td>\n",
       "      <td>NaN</td>\n",
       "      <td>NaN</td>\n",
       "      <td>NaN</td>\n",
       "      <td>NaN</td>\n",
       "      <td>NaN</td>\n",
       "    </tr>\n",
       "    <tr>\n",
       "      <th>14</th>\n",
       "      <td>grade_cat</td>\n",
       "      <td>0.0</td>\n",
       "      <td>NaN</td>\n",
       "      <td>NaN</td>\n",
       "      <td>NaN</td>\n",
       "      <td>NaN</td>\n",
       "      <td>NaN</td>\n",
       "      <td>NaN</td>\n",
       "      <td>NaN</td>\n",
       "    </tr>\n",
       "  </tbody>\n",
       "</table>\n",
       "</div>"
      ],
      "text/plain": [
       "                   index  count  mean  std  min  25%  50%  75%  max\n",
       "0                     id    0.0   NaN  NaN  NaN  NaN  NaN  NaN  NaN\n",
       "1                   year    0.0   NaN  NaN  NaN  NaN  NaN  NaN  NaN\n",
       "2                final_d    0.0   NaN  NaN  NaN  NaN  NaN  NaN  NaN\n",
       "3         emp_length_int    0.0   NaN  NaN  NaN  NaN  NaN  NaN  NaN\n",
       "4     home_ownership_cat    0.0   NaN  NaN  NaN  NaN  NaN  NaN  NaN\n",
       "5             annual_inc    0.0   NaN  NaN  NaN  NaN  NaN  NaN  NaN\n",
       "6             income_cat    0.0   NaN  NaN  NaN  NaN  NaN  NaN  NaN\n",
       "7            loan_amount    0.0   NaN  NaN  NaN  NaN  NaN  NaN  NaN\n",
       "8               term_cat    0.0   NaN  NaN  NaN  NaN  NaN  NaN  NaN\n",
       "9   application_type_cat    0.0   NaN  NaN  NaN  NaN  NaN  NaN  NaN\n",
       "10           purpose_cat    0.0   NaN  NaN  NaN  NaN  NaN  NaN  NaN\n",
       "11  interest_payment_cat    0.0   NaN  NaN  NaN  NaN  NaN  NaN  NaN\n",
       "12    loan_condition_cat    0.0   NaN  NaN  NaN  NaN  NaN  NaN  NaN\n",
       "13         interest_rate    0.0   NaN  NaN  NaN  NaN  NaN  NaN  NaN\n",
       "14             grade_cat    0.0   NaN  NaN  NaN  NaN  NaN  NaN  NaN"
      ]
     },
     "execution_count": 16,
     "metadata": {},
     "output_type": "execute_result"
    }
   ],
   "source": [
    "desc = df.describe().T.reset_index()\n",
    "desc.head(15)"
   ]
  },
  {
   "cell_type": "code",
   "execution_count": 37,
   "metadata": {
    "colab": {},
    "colab_type": "code",
    "id": "5DPYxuve0jth",
    "outputId": "488812b1-acd3-438c-c4f1-41c014c8bf91"
   },
   "outputs": [
    {
     "name": "stdout",
     "output_type": "stream",
     "text": [
      "loan_condition_cat\n"
     ]
    }
   ],
   "source": [
    "for i in desc['index'].values:\n",
    "    desc1 = desc[desc['index'] == i]\n",
    "    if desc1.loc[:, 'min'].values[0] == 0 and desc1.loc[:, 'max'].values[0] == 1 and (desc1.loc[:, '50%'].values[0] == 0 or desc1.loc[:, '50%'].values[0] == 1):\n",
    "        print(i)\n",
    "        d_types.loc[d_types[d_types['indicator'] == i].index[0], ['d_type']] = 'bi'\n"
   ]
  },
  {
   "cell_type": "code",
   "execution_count": 38,
   "metadata": {
    "colab": {},
    "colab_type": "code",
    "id": "2Y8Xlt-V0jtm"
   },
   "outputs": [],
   "source": [
    "bis = list(d_types[d_types.d_type == 'bi']['indicator'].values)\n",
    "ints = list(d_types[d_types.d_type == 'int64']['indicator'].values)\n",
    "objects = list(d_types[d_types.d_type == 'object']['indicator'].values)\n",
    "floats = list(d_types[d_types.d_type == 'float64']['indicator'].values)"
   ]
  },
  {
   "cell_type": "code",
   "execution_count": 39,
   "metadata": {
    "colab": {},
    "colab_type": "code",
    "id": "iXaY0XOR0jtr",
    "outputId": "7f35ff52-81eb-45a6-eb12-c844dba1419b"
   },
   "outputs": [],
   "source": [
    "for i in floats:\n",
    "    if (df[i] % 1).sum() == 0:\n",
    "        print(i)\n",
    "        d_types.loc[d_types[d_types['indicator'] == i].index[0], ['d_type']] = 'int_na'"
   ]
  },
  {
   "cell_type": "code",
   "execution_count": 40,
   "metadata": {
    "colab": {},
    "colab_type": "code",
    "id": "yKqlAalt0jtz",
    "outputId": "3a49a29b-2d58-467a-db8d-92514b457bfb"
   },
   "outputs": [
    {
     "data": {
      "text/html": [
       "<div>\n",
       "<style scoped>\n",
       "    .dataframe tbody tr th:only-of-type {\n",
       "        vertical-align: middle;\n",
       "    }\n",
       "\n",
       "    .dataframe tbody tr th {\n",
       "        vertical-align: top;\n",
       "    }\n",
       "\n",
       "    .dataframe thead th {\n",
       "        text-align: right;\n",
       "    }\n",
       "</style>\n",
       "<table border=\"1\" class=\"dataframe\">\n",
       "  <thead>\n",
       "    <tr style=\"text-align: right;\">\n",
       "      <th></th>\n",
       "      <th>indicator</th>\n",
       "      <th>d_type</th>\n",
       "    </tr>\n",
       "  </thead>\n",
       "  <tbody>\n",
       "    <tr>\n",
       "      <th>0</th>\n",
       "      <td>id</td>\n",
       "      <td>int64</td>\n",
       "    </tr>\n",
       "    <tr>\n",
       "      <th>1</th>\n",
       "      <td>year</td>\n",
       "      <td>int64</td>\n",
       "    </tr>\n",
       "    <tr>\n",
       "      <th>2</th>\n",
       "      <td>final_d</td>\n",
       "      <td>int64</td>\n",
       "    </tr>\n",
       "    <tr>\n",
       "      <th>3</th>\n",
       "      <td>emp_length_int</td>\n",
       "      <td>float64</td>\n",
       "    </tr>\n",
       "    <tr>\n",
       "      <th>4</th>\n",
       "      <td>home_ownership</td>\n",
       "      <td>object</td>\n",
       "    </tr>\n",
       "    <tr>\n",
       "      <th>5</th>\n",
       "      <td>home_ownership_cat</td>\n",
       "      <td>int64</td>\n",
       "    </tr>\n",
       "    <tr>\n",
       "      <th>6</th>\n",
       "      <td>income_category</td>\n",
       "      <td>object</td>\n",
       "    </tr>\n",
       "    <tr>\n",
       "      <th>7</th>\n",
       "      <td>annual_inc</td>\n",
       "      <td>int64</td>\n",
       "    </tr>\n",
       "    <tr>\n",
       "      <th>8</th>\n",
       "      <td>income_cat</td>\n",
       "      <td>int64</td>\n",
       "    </tr>\n",
       "    <tr>\n",
       "      <th>9</th>\n",
       "      <td>loan_amount</td>\n",
       "      <td>int64</td>\n",
       "    </tr>\n",
       "    <tr>\n",
       "      <th>10</th>\n",
       "      <td>term</td>\n",
       "      <td>object</td>\n",
       "    </tr>\n",
       "    <tr>\n",
       "      <th>11</th>\n",
       "      <td>term_cat</td>\n",
       "      <td>int64</td>\n",
       "    </tr>\n",
       "    <tr>\n",
       "      <th>12</th>\n",
       "      <td>application_type</td>\n",
       "      <td>object</td>\n",
       "    </tr>\n",
       "    <tr>\n",
       "      <th>13</th>\n",
       "      <td>application_type_cat</td>\n",
       "      <td>int64</td>\n",
       "    </tr>\n",
       "    <tr>\n",
       "      <th>14</th>\n",
       "      <td>purpose</td>\n",
       "      <td>object</td>\n",
       "    </tr>\n",
       "    <tr>\n",
       "      <th>15</th>\n",
       "      <td>purpose_cat</td>\n",
       "      <td>int64</td>\n",
       "    </tr>\n",
       "    <tr>\n",
       "      <th>16</th>\n",
       "      <td>interest_payments</td>\n",
       "      <td>object</td>\n",
       "    </tr>\n",
       "    <tr>\n",
       "      <th>17</th>\n",
       "      <td>interest_payment_cat</td>\n",
       "      <td>int64</td>\n",
       "    </tr>\n",
       "    <tr>\n",
       "      <th>18</th>\n",
       "      <td>loan_condition</td>\n",
       "      <td>object</td>\n",
       "    </tr>\n",
       "    <tr>\n",
       "      <th>19</th>\n",
       "      <td>loan_condition_cat</td>\n",
       "      <td>bi</td>\n",
       "    </tr>\n",
       "    <tr>\n",
       "      <th>20</th>\n",
       "      <td>interest_rate</td>\n",
       "      <td>float64</td>\n",
       "    </tr>\n",
       "    <tr>\n",
       "      <th>21</th>\n",
       "      <td>grade</td>\n",
       "      <td>object</td>\n",
       "    </tr>\n",
       "    <tr>\n",
       "      <th>22</th>\n",
       "      <td>grade_cat</td>\n",
       "      <td>int64</td>\n",
       "    </tr>\n",
       "    <tr>\n",
       "      <th>23</th>\n",
       "      <td>dti</td>\n",
       "      <td>float64</td>\n",
       "    </tr>\n",
       "    <tr>\n",
       "      <th>24</th>\n",
       "      <td>total_pymnt</td>\n",
       "      <td>float64</td>\n",
       "    </tr>\n",
       "    <tr>\n",
       "      <th>25</th>\n",
       "      <td>total_rec_prncp</td>\n",
       "      <td>float64</td>\n",
       "    </tr>\n",
       "    <tr>\n",
       "      <th>26</th>\n",
       "      <td>recoveries</td>\n",
       "      <td>float64</td>\n",
       "    </tr>\n",
       "    <tr>\n",
       "      <th>27</th>\n",
       "      <td>installment</td>\n",
       "      <td>float64</td>\n",
       "    </tr>\n",
       "    <tr>\n",
       "      <th>28</th>\n",
       "      <td>region</td>\n",
       "      <td>object</td>\n",
       "    </tr>\n",
       "  </tbody>\n",
       "</table>\n",
       "</div>"
      ],
      "text/plain": [
       "               indicator   d_type\n",
       "0                     id    int64\n",
       "1                   year    int64\n",
       "2                final_d    int64\n",
       "3         emp_length_int  float64\n",
       "4         home_ownership   object\n",
       "5     home_ownership_cat    int64\n",
       "6        income_category   object\n",
       "7             annual_inc    int64\n",
       "8             income_cat    int64\n",
       "9            loan_amount    int64\n",
       "10                  term   object\n",
       "11              term_cat    int64\n",
       "12      application_type   object\n",
       "13  application_type_cat    int64\n",
       "14               purpose   object\n",
       "15           purpose_cat    int64\n",
       "16     interest_payments   object\n",
       "17  interest_payment_cat    int64\n",
       "18        loan_condition   object\n",
       "19    loan_condition_cat       bi\n",
       "20         interest_rate  float64\n",
       "21                 grade   object\n",
       "22             grade_cat    int64\n",
       "23                   dti  float64\n",
       "24           total_pymnt  float64\n",
       "25       total_rec_prncp  float64\n",
       "26            recoveries  float64\n",
       "27           installment  float64\n",
       "28                region   object"
      ]
     },
     "execution_count": 40,
     "metadata": {},
     "output_type": "execute_result"
    }
   ],
   "source": [
    "d_types"
   ]
  },
  {
   "cell_type": "code",
   "execution_count": 41,
   "metadata": {
    "colab": {},
    "colab_type": "code",
    "id": "YMfE1u9m0jt8"
   },
   "outputs": [],
   "source": [
    "bis = list(d_types[d_types.d_type == 'bi']['indicator'].values)\n",
    "ints = list(d_types[d_types.d_type == 'int64']['indicator'].values)\n",
    "objects = list(d_types[d_types.d_type == 'object']['indicator'].values)\n",
    "floats = list(d_types[d_types.d_type == 'float64']['indicator'].values)\n",
    "int_na = list(d_types[d_types.d_type == 'int_na']['indicator'].values)"
   ]
  },
  {
   "cell_type": "code",
   "execution_count": 42,
   "metadata": {
    "colab": {},
    "colab_type": "code",
    "id": "vwGy49UA0jt_",
    "outputId": "cc4cb9c2-6876-4212-dbe3-948e7a605af2"
   },
   "outputs": [],
   "source": [
    "c = 0\n",
    "for i in d_types['indicator'].values:\n",
    "    #print(c)\n",
    "    if i in bis:\n",
    "        df[i] = df[i].fillna(random.randint(0,1))\n",
    "    elif i in ints or i in int_na:\n",
    "        df[i] = df[i].fillna(round(df[i].median()))\n",
    "    elif i in objects:\n",
    "        df[i] = df[i].fillna(max(set(list(df[i].values)), key=list(df[i].values).count))\n",
    "    elif i in floats:\n",
    "        df[i] = df[i].fillna(df[i].mean())\n",
    "    c += 1"
   ]
  },
  {
   "cell_type": "code",
   "execution_count": 43,
   "metadata": {
    "colab": {},
    "colab_type": "code",
    "id": "wrAbo7pF0juD"
   },
   "outputs": [],
   "source": [
    "for i in int_na:\n",
    "    df[i] = df[i].astype('int')"
   ]
  },
  {
   "cell_type": "code",
   "execution_count": 47,
   "metadata": {},
   "outputs": [
    {
     "data": {
      "text/html": [
       "<div>\n",
       "<style scoped>\n",
       "    .dataframe tbody tr th:only-of-type {\n",
       "        vertical-align: middle;\n",
       "    }\n",
       "\n",
       "    .dataframe tbody tr th {\n",
       "        vertical-align: top;\n",
       "    }\n",
       "\n",
       "    .dataframe thead th {\n",
       "        text-align: right;\n",
       "    }\n",
       "</style>\n",
       "<table border=\"1\" class=\"dataframe\">\n",
       "  <thead>\n",
       "    <tr style=\"text-align: right;\">\n",
       "      <th></th>\n",
       "      <th>id</th>\n",
       "      <th>year</th>\n",
       "      <th>final_d</th>\n",
       "      <th>home_ownership_cat</th>\n",
       "      <th>annual_inc</th>\n",
       "      <th>income_cat</th>\n",
       "      <th>loan_amount</th>\n",
       "      <th>term_cat</th>\n",
       "      <th>application_type_cat</th>\n",
       "      <th>purpose_cat</th>\n",
       "      <th>interest_payment_cat</th>\n",
       "      <th>grade_cat</th>\n",
       "    </tr>\n",
       "  </thead>\n",
       "  <tbody>\n",
       "    <tr>\n",
       "      <th>0</th>\n",
       "      <td>1077501</td>\n",
       "      <td>2011</td>\n",
       "      <td>1012015</td>\n",
       "      <td>1</td>\n",
       "      <td>24000</td>\n",
       "      <td>1</td>\n",
       "      <td>5000</td>\n",
       "      <td>1</td>\n",
       "      <td>1</td>\n",
       "      <td>1</td>\n",
       "      <td>1</td>\n",
       "      <td>2</td>\n",
       "    </tr>\n",
       "    <tr>\n",
       "      <th>1</th>\n",
       "      <td>1077430</td>\n",
       "      <td>2011</td>\n",
       "      <td>1042013</td>\n",
       "      <td>1</td>\n",
       "      <td>30000</td>\n",
       "      <td>1</td>\n",
       "      <td>2500</td>\n",
       "      <td>2</td>\n",
       "      <td>1</td>\n",
       "      <td>2</td>\n",
       "      <td>2</td>\n",
       "      <td>3</td>\n",
       "    </tr>\n",
       "    <tr>\n",
       "      <th>2</th>\n",
       "      <td>1077175</td>\n",
       "      <td>2011</td>\n",
       "      <td>1062014</td>\n",
       "      <td>1</td>\n",
       "      <td>12252</td>\n",
       "      <td>1</td>\n",
       "      <td>2400</td>\n",
       "      <td>1</td>\n",
       "      <td>1</td>\n",
       "      <td>3</td>\n",
       "      <td>2</td>\n",
       "      <td>3</td>\n",
       "    </tr>\n",
       "    <tr>\n",
       "      <th>3</th>\n",
       "      <td>1076863</td>\n",
       "      <td>2011</td>\n",
       "      <td>1012015</td>\n",
       "      <td>1</td>\n",
       "      <td>49200</td>\n",
       "      <td>1</td>\n",
       "      <td>10000</td>\n",
       "      <td>1</td>\n",
       "      <td>1</td>\n",
       "      <td>4</td>\n",
       "      <td>2</td>\n",
       "      <td>3</td>\n",
       "    </tr>\n",
       "    <tr>\n",
       "      <th>4</th>\n",
       "      <td>1075358</td>\n",
       "      <td>2011</td>\n",
       "      <td>1012016</td>\n",
       "      <td>1</td>\n",
       "      <td>80000</td>\n",
       "      <td>1</td>\n",
       "      <td>3000</td>\n",
       "      <td>2</td>\n",
       "      <td>1</td>\n",
       "      <td>4</td>\n",
       "      <td>1</td>\n",
       "      <td>2</td>\n",
       "    </tr>\n",
       "  </tbody>\n",
       "</table>\n",
       "</div>"
      ],
      "text/plain": [
       "        id  year  final_d  home_ownership_cat  annual_inc  income_cat  \\\n",
       "0  1077501  2011  1012015                   1       24000           1   \n",
       "1  1077430  2011  1042013                   1       30000           1   \n",
       "2  1077175  2011  1062014                   1       12252           1   \n",
       "3  1076863  2011  1012015                   1       49200           1   \n",
       "4  1075358  2011  1012016                   1       80000           1   \n",
       "\n",
       "   loan_amount  term_cat  application_type_cat  purpose_cat  \\\n",
       "0         5000         1                     1            1   \n",
       "1         2500         2                     1            2   \n",
       "2         2400         1                     1            3   \n",
       "3        10000         1                     1            4   \n",
       "4         3000         2                     1            4   \n",
       "\n",
       "   interest_payment_cat  grade_cat  \n",
       "0                     1          2  \n",
       "1                     2          3  \n",
       "2                     2          3  \n",
       "3                     2          3  \n",
       "4                     1          2  "
      ]
     },
     "execution_count": 47,
     "metadata": {},
     "output_type": "execute_result"
    }
   ],
   "source": [
    "df.loc[:,ints].head()"
   ]
  },
  {
   "cell_type": "code",
   "execution_count": 49,
   "metadata": {},
   "outputs": [],
   "source": [
    "for i in ints:\n",
    "    if 'cat' in i or i == 'year':\n",
    "        d_types.loc[d_types[d_types['indicator'] == i].index[0], ['d_type']] = 'int_cat' "
   ]
  },
  {
   "cell_type": "code",
   "execution_count": 50,
   "metadata": {},
   "outputs": [
    {
     "data": {
      "text/html": [
       "<div>\n",
       "<style scoped>\n",
       "    .dataframe tbody tr th:only-of-type {\n",
       "        vertical-align: middle;\n",
       "    }\n",
       "\n",
       "    .dataframe tbody tr th {\n",
       "        vertical-align: top;\n",
       "    }\n",
       "\n",
       "    .dataframe thead th {\n",
       "        text-align: right;\n",
       "    }\n",
       "</style>\n",
       "<table border=\"1\" class=\"dataframe\">\n",
       "  <thead>\n",
       "    <tr style=\"text-align: right;\">\n",
       "      <th></th>\n",
       "      <th>indicator</th>\n",
       "      <th>d_type</th>\n",
       "    </tr>\n",
       "  </thead>\n",
       "  <tbody>\n",
       "    <tr>\n",
       "      <th>0</th>\n",
       "      <td>id</td>\n",
       "      <td>int64</td>\n",
       "    </tr>\n",
       "    <tr>\n",
       "      <th>1</th>\n",
       "      <td>year</td>\n",
       "      <td>int_cat</td>\n",
       "    </tr>\n",
       "    <tr>\n",
       "      <th>2</th>\n",
       "      <td>final_d</td>\n",
       "      <td>int64</td>\n",
       "    </tr>\n",
       "    <tr>\n",
       "      <th>3</th>\n",
       "      <td>emp_length_int</td>\n",
       "      <td>float64</td>\n",
       "    </tr>\n",
       "    <tr>\n",
       "      <th>4</th>\n",
       "      <td>home_ownership</td>\n",
       "      <td>object</td>\n",
       "    </tr>\n",
       "    <tr>\n",
       "      <th>5</th>\n",
       "      <td>home_ownership_cat</td>\n",
       "      <td>int_cat</td>\n",
       "    </tr>\n",
       "    <tr>\n",
       "      <th>6</th>\n",
       "      <td>income_category</td>\n",
       "      <td>object</td>\n",
       "    </tr>\n",
       "    <tr>\n",
       "      <th>7</th>\n",
       "      <td>annual_inc</td>\n",
       "      <td>int64</td>\n",
       "    </tr>\n",
       "    <tr>\n",
       "      <th>8</th>\n",
       "      <td>income_cat</td>\n",
       "      <td>int_cat</td>\n",
       "    </tr>\n",
       "    <tr>\n",
       "      <th>9</th>\n",
       "      <td>loan_amount</td>\n",
       "      <td>int64</td>\n",
       "    </tr>\n",
       "    <tr>\n",
       "      <th>10</th>\n",
       "      <td>term</td>\n",
       "      <td>object</td>\n",
       "    </tr>\n",
       "    <tr>\n",
       "      <th>11</th>\n",
       "      <td>term_cat</td>\n",
       "      <td>int_cat</td>\n",
       "    </tr>\n",
       "    <tr>\n",
       "      <th>12</th>\n",
       "      <td>application_type</td>\n",
       "      <td>object</td>\n",
       "    </tr>\n",
       "    <tr>\n",
       "      <th>13</th>\n",
       "      <td>application_type_cat</td>\n",
       "      <td>int_cat</td>\n",
       "    </tr>\n",
       "    <tr>\n",
       "      <th>14</th>\n",
       "      <td>purpose</td>\n",
       "      <td>object</td>\n",
       "    </tr>\n",
       "    <tr>\n",
       "      <th>15</th>\n",
       "      <td>purpose_cat</td>\n",
       "      <td>int_cat</td>\n",
       "    </tr>\n",
       "    <tr>\n",
       "      <th>16</th>\n",
       "      <td>interest_payments</td>\n",
       "      <td>object</td>\n",
       "    </tr>\n",
       "    <tr>\n",
       "      <th>17</th>\n",
       "      <td>interest_payment_cat</td>\n",
       "      <td>int_cat</td>\n",
       "    </tr>\n",
       "    <tr>\n",
       "      <th>18</th>\n",
       "      <td>loan_condition</td>\n",
       "      <td>object</td>\n",
       "    </tr>\n",
       "    <tr>\n",
       "      <th>19</th>\n",
       "      <td>loan_condition_cat</td>\n",
       "      <td>bi</td>\n",
       "    </tr>\n",
       "    <tr>\n",
       "      <th>20</th>\n",
       "      <td>interest_rate</td>\n",
       "      <td>float64</td>\n",
       "    </tr>\n",
       "    <tr>\n",
       "      <th>21</th>\n",
       "      <td>grade</td>\n",
       "      <td>object</td>\n",
       "    </tr>\n",
       "    <tr>\n",
       "      <th>22</th>\n",
       "      <td>grade_cat</td>\n",
       "      <td>int_cat</td>\n",
       "    </tr>\n",
       "    <tr>\n",
       "      <th>23</th>\n",
       "      <td>dti</td>\n",
       "      <td>float64</td>\n",
       "    </tr>\n",
       "    <tr>\n",
       "      <th>24</th>\n",
       "      <td>total_pymnt</td>\n",
       "      <td>float64</td>\n",
       "    </tr>\n",
       "    <tr>\n",
       "      <th>25</th>\n",
       "      <td>total_rec_prncp</td>\n",
       "      <td>float64</td>\n",
       "    </tr>\n",
       "    <tr>\n",
       "      <th>26</th>\n",
       "      <td>recoveries</td>\n",
       "      <td>float64</td>\n",
       "    </tr>\n",
       "    <tr>\n",
       "      <th>27</th>\n",
       "      <td>installment</td>\n",
       "      <td>float64</td>\n",
       "    </tr>\n",
       "    <tr>\n",
       "      <th>28</th>\n",
       "      <td>region</td>\n",
       "      <td>object</td>\n",
       "    </tr>\n",
       "  </tbody>\n",
       "</table>\n",
       "</div>"
      ],
      "text/plain": [
       "               indicator   d_type\n",
       "0                     id    int64\n",
       "1                   year  int_cat\n",
       "2                final_d    int64\n",
       "3         emp_length_int  float64\n",
       "4         home_ownership   object\n",
       "5     home_ownership_cat  int_cat\n",
       "6        income_category   object\n",
       "7             annual_inc    int64\n",
       "8             income_cat  int_cat\n",
       "9            loan_amount    int64\n",
       "10                  term   object\n",
       "11              term_cat  int_cat\n",
       "12      application_type   object\n",
       "13  application_type_cat  int_cat\n",
       "14               purpose   object\n",
       "15           purpose_cat  int_cat\n",
       "16     interest_payments   object\n",
       "17  interest_payment_cat  int_cat\n",
       "18        loan_condition   object\n",
       "19    loan_condition_cat       bi\n",
       "20         interest_rate  float64\n",
       "21                 grade   object\n",
       "22             grade_cat  int_cat\n",
       "23                   dti  float64\n",
       "24           total_pymnt  float64\n",
       "25       total_rec_prncp  float64\n",
       "26            recoveries  float64\n",
       "27           installment  float64\n",
       "28                region   object"
      ]
     },
     "execution_count": 50,
     "metadata": {},
     "output_type": "execute_result"
    }
   ],
   "source": [
    "d_types"
   ]
  },
  {
   "cell_type": "code",
   "execution_count": 51,
   "metadata": {},
   "outputs": [],
   "source": [
    "bis = list(d_types[d_types.d_type == 'bi']['indicator'].values)\n",
    "ints = list(d_types[d_types.d_type == 'int64']['indicator'].values)\n",
    "objects = list(d_types[d_types.d_type == 'object']['indicator'].values)\n",
    "floats = list(d_types[d_types.d_type == 'float64']['indicator'].values)\n",
    "int_na = list(d_types[d_types.d_type == 'int_na']['indicator'].values)\n",
    "int_cat = list(d_types[d_types.d_type == 'int_cat']['indicator'].values)"
   ]
  },
  {
   "cell_type": "code",
   "execution_count": 52,
   "metadata": {},
   "outputs": [],
   "source": [
    "for i in int_cat:\n",
    "    if i == 'year':\n",
    "        df[i] = df[i].astype(str) + 'y'\n",
    "    else:\n",
    "        df[i] = df[i].astype(str) + '_cat'"
   ]
  },
  {
   "cell_type": "code",
   "execution_count": 55,
   "metadata": {},
   "outputs": [
    {
     "data": {
      "text/html": [
       "<div>\n",
       "<style scoped>\n",
       "    .dataframe tbody tr th:only-of-type {\n",
       "        vertical-align: middle;\n",
       "    }\n",
       "\n",
       "    .dataframe tbody tr th {\n",
       "        vertical-align: top;\n",
       "    }\n",
       "\n",
       "    .dataframe thead th {\n",
       "        text-align: right;\n",
       "    }\n",
       "</style>\n",
       "<table border=\"1\" class=\"dataframe\">\n",
       "  <thead>\n",
       "    <tr style=\"text-align: right;\">\n",
       "      <th></th>\n",
       "      <th>id</th>\n",
       "      <th>year</th>\n",
       "      <th>final_d</th>\n",
       "      <th>emp_length_int</th>\n",
       "      <th>home_ownership</th>\n",
       "      <th>home_ownership_cat</th>\n",
       "      <th>income_category</th>\n",
       "      <th>annual_inc</th>\n",
       "      <th>income_cat</th>\n",
       "      <th>loan_amount</th>\n",
       "      <th>...</th>\n",
       "      <th>loan_condition_cat</th>\n",
       "      <th>interest_rate</th>\n",
       "      <th>grade</th>\n",
       "      <th>grade_cat</th>\n",
       "      <th>dti</th>\n",
       "      <th>total_pymnt</th>\n",
       "      <th>total_rec_prncp</th>\n",
       "      <th>recoveries</th>\n",
       "      <th>installment</th>\n",
       "      <th>region</th>\n",
       "    </tr>\n",
       "  </thead>\n",
       "  <tbody>\n",
       "    <tr>\n",
       "      <th>0</th>\n",
       "      <td>1077501</td>\n",
       "      <td>2011y</td>\n",
       "      <td>1012015</td>\n",
       "      <td>10.0</td>\n",
       "      <td>RENT</td>\n",
       "      <td>1_cat</td>\n",
       "      <td>Low</td>\n",
       "      <td>24000</td>\n",
       "      <td>1_cat</td>\n",
       "      <td>5000</td>\n",
       "      <td>...</td>\n",
       "      <td>0</td>\n",
       "      <td>10.65</td>\n",
       "      <td>B</td>\n",
       "      <td>2_cat</td>\n",
       "      <td>27.65</td>\n",
       "      <td>5861.071414</td>\n",
       "      <td>5000.00</td>\n",
       "      <td>0.00</td>\n",
       "      <td>162.87</td>\n",
       "      <td>munster</td>\n",
       "    </tr>\n",
       "    <tr>\n",
       "      <th>1</th>\n",
       "      <td>1077430</td>\n",
       "      <td>2011y</td>\n",
       "      <td>1042013</td>\n",
       "      <td>0.5</td>\n",
       "      <td>RENT</td>\n",
       "      <td>1_cat</td>\n",
       "      <td>Low</td>\n",
       "      <td>30000</td>\n",
       "      <td>1_cat</td>\n",
       "      <td>2500</td>\n",
       "      <td>...</td>\n",
       "      <td>1</td>\n",
       "      <td>15.27</td>\n",
       "      <td>C</td>\n",
       "      <td>3_cat</td>\n",
       "      <td>1.00</td>\n",
       "      <td>1008.710000</td>\n",
       "      <td>456.46</td>\n",
       "      <td>117.08</td>\n",
       "      <td>59.83</td>\n",
       "      <td>leinster</td>\n",
       "    </tr>\n",
       "    <tr>\n",
       "      <th>2</th>\n",
       "      <td>1077175</td>\n",
       "      <td>2011y</td>\n",
       "      <td>1062014</td>\n",
       "      <td>10.0</td>\n",
       "      <td>RENT</td>\n",
       "      <td>1_cat</td>\n",
       "      <td>Low</td>\n",
       "      <td>12252</td>\n",
       "      <td>1_cat</td>\n",
       "      <td>2400</td>\n",
       "      <td>...</td>\n",
       "      <td>0</td>\n",
       "      <td>15.96</td>\n",
       "      <td>C</td>\n",
       "      <td>3_cat</td>\n",
       "      <td>8.72</td>\n",
       "      <td>3003.653644</td>\n",
       "      <td>2400.00</td>\n",
       "      <td>0.00</td>\n",
       "      <td>84.33</td>\n",
       "      <td>cannught</td>\n",
       "    </tr>\n",
       "    <tr>\n",
       "      <th>3</th>\n",
       "      <td>1076863</td>\n",
       "      <td>2011y</td>\n",
       "      <td>1012015</td>\n",
       "      <td>10.0</td>\n",
       "      <td>RENT</td>\n",
       "      <td>1_cat</td>\n",
       "      <td>Low</td>\n",
       "      <td>49200</td>\n",
       "      <td>1_cat</td>\n",
       "      <td>10000</td>\n",
       "      <td>...</td>\n",
       "      <td>0</td>\n",
       "      <td>13.49</td>\n",
       "      <td>C</td>\n",
       "      <td>3_cat</td>\n",
       "      <td>20.00</td>\n",
       "      <td>12226.302210</td>\n",
       "      <td>10000.00</td>\n",
       "      <td>0.00</td>\n",
       "      <td>339.31</td>\n",
       "      <td>ulster</td>\n",
       "    </tr>\n",
       "    <tr>\n",
       "      <th>4</th>\n",
       "      <td>1075358</td>\n",
       "      <td>2011y</td>\n",
       "      <td>1012016</td>\n",
       "      <td>1.0</td>\n",
       "      <td>RENT</td>\n",
       "      <td>1_cat</td>\n",
       "      <td>Low</td>\n",
       "      <td>80000</td>\n",
       "      <td>1_cat</td>\n",
       "      <td>3000</td>\n",
       "      <td>...</td>\n",
       "      <td>0</td>\n",
       "      <td>12.69</td>\n",
       "      <td>B</td>\n",
       "      <td>2_cat</td>\n",
       "      <td>17.94</td>\n",
       "      <td>3242.170000</td>\n",
       "      <td>2233.10</td>\n",
       "      <td>0.00</td>\n",
       "      <td>67.79</td>\n",
       "      <td>ulster</td>\n",
       "    </tr>\n",
       "  </tbody>\n",
       "</table>\n",
       "<p>5 rows × 29 columns</p>\n",
       "</div>"
      ],
      "text/plain": [
       "        id   year  final_d  emp_length_int home_ownership home_ownership_cat  \\\n",
       "0  1077501  2011y  1012015            10.0           RENT              1_cat   \n",
       "1  1077430  2011y  1042013             0.5           RENT              1_cat   \n",
       "2  1077175  2011y  1062014            10.0           RENT              1_cat   \n",
       "3  1076863  2011y  1012015            10.0           RENT              1_cat   \n",
       "4  1075358  2011y  1012016             1.0           RENT              1_cat   \n",
       "\n",
       "  income_category  annual_inc income_cat  loan_amount    ...     \\\n",
       "0             Low       24000      1_cat         5000    ...      \n",
       "1             Low       30000      1_cat         2500    ...      \n",
       "2             Low       12252      1_cat         2400    ...      \n",
       "3             Low       49200      1_cat        10000    ...      \n",
       "4             Low       80000      1_cat         3000    ...      \n",
       "\n",
       "  loan_condition_cat interest_rate grade grade_cat    dti   total_pymnt  \\\n",
       "0                  0         10.65     B     2_cat  27.65   5861.071414   \n",
       "1                  1         15.27     C     3_cat   1.00   1008.710000   \n",
       "2                  0         15.96     C     3_cat   8.72   3003.653644   \n",
       "3                  0         13.49     C     3_cat  20.00  12226.302210   \n",
       "4                  0         12.69     B     2_cat  17.94   3242.170000   \n",
       "\n",
       "  total_rec_prncp recoveries installment    region  \n",
       "0         5000.00       0.00      162.87   munster  \n",
       "1          456.46     117.08       59.83  leinster  \n",
       "2         2400.00       0.00       84.33  cannught  \n",
       "3        10000.00       0.00      339.31    ulster  \n",
       "4         2233.10       0.00       67.79    ulster  \n",
       "\n",
       "[5 rows x 29 columns]"
      ]
     },
     "execution_count": 55,
     "metadata": {},
     "output_type": "execute_result"
    }
   ],
   "source": [
    "df.head()"
   ]
  },
  {
   "cell_type": "code",
   "execution_count": 58,
   "metadata": {},
   "outputs": [],
   "source": [
    "d_types = pd.DataFrame(df).dtypes.reset_index()\n",
    "d_types.columns = ['indicator', 'd_type']\n",
    "\n"
   ]
  },
  {
   "cell_type": "code",
   "execution_count": 59,
   "metadata": {},
   "outputs": [
    {
     "data": {
      "text/html": [
       "<div>\n",
       "<style scoped>\n",
       "    .dataframe tbody tr th:only-of-type {\n",
       "        vertical-align: middle;\n",
       "    }\n",
       "\n",
       "    .dataframe tbody tr th {\n",
       "        vertical-align: top;\n",
       "    }\n",
       "\n",
       "    .dataframe thead th {\n",
       "        text-align: right;\n",
       "    }\n",
       "</style>\n",
       "<table border=\"1\" class=\"dataframe\">\n",
       "  <thead>\n",
       "    <tr style=\"text-align: right;\">\n",
       "      <th></th>\n",
       "      <th>indicator</th>\n",
       "      <th>d_type</th>\n",
       "    </tr>\n",
       "  </thead>\n",
       "  <tbody>\n",
       "    <tr>\n",
       "      <th>0</th>\n",
       "      <td>id</td>\n",
       "      <td>int64</td>\n",
       "    </tr>\n",
       "    <tr>\n",
       "      <th>1</th>\n",
       "      <td>year</td>\n",
       "      <td>object</td>\n",
       "    </tr>\n",
       "    <tr>\n",
       "      <th>2</th>\n",
       "      <td>final_d</td>\n",
       "      <td>int64</td>\n",
       "    </tr>\n",
       "    <tr>\n",
       "      <th>3</th>\n",
       "      <td>emp_length_int</td>\n",
       "      <td>float64</td>\n",
       "    </tr>\n",
       "    <tr>\n",
       "      <th>4</th>\n",
       "      <td>home_ownership</td>\n",
       "      <td>object</td>\n",
       "    </tr>\n",
       "  </tbody>\n",
       "</table>\n",
       "</div>"
      ],
      "text/plain": [
       "        indicator   d_type\n",
       "0              id    int64\n",
       "1            year   object\n",
       "2         final_d    int64\n",
       "3  emp_length_int  float64\n",
       "4  home_ownership   object"
      ]
     },
     "execution_count": 59,
     "metadata": {},
     "output_type": "execute_result"
    }
   ],
   "source": [
    "d_types.head()"
   ]
  },
  {
   "cell_type": "code",
   "execution_count": 60,
   "metadata": {},
   "outputs": [],
   "source": [
    "bis = list(d_types[d_types.d_type == 'bi']['indicator'].values)\n",
    "ints = list(d_types[d_types.d_type == 'int64']['indicator'].values)\n",
    "objects = list(d_types[d_types.d_type == 'object']['indicator'].values)\n",
    "floats = list(d_types[d_types.d_type == 'float64']['indicator'].values)\n",
    "int_na = list(d_types[d_types.d_type == 'int_na']['indicator'].values)\n",
    "int_cat = list(d_types[d_types.d_type == 'int_cat']['indicator'].values)"
   ]
  },
  {
   "cell_type": "markdown",
   "metadata": {
    "colab_type": "text",
    "id": "RsTMe9Bb0juP"
   },
   "source": [
    "## Перевод категориальных признаков"
   ]
  },
  {
   "cell_type": "code",
   "execution_count": 36,
   "metadata": {
    "colab": {},
    "colab_type": "code",
    "id": "6beZm09m0juQ"
   },
   "outputs": [
    {
     "ename": "NameError",
     "evalue": "name 'objects' is not defined",
     "output_type": "error",
     "traceback": [
      "\u001b[1;31m---------------------------------------------------------------------------\u001b[0m",
      "\u001b[1;31mNameError\u001b[0m                                 Traceback (most recent call last)",
      "\u001b[1;32m<ipython-input-36-75e3665a118a>\u001b[0m in \u001b[0;36m<module>\u001b[1;34m\u001b[0m\n\u001b[1;32m----> 1\u001b[1;33m \u001b[0mdf_c\u001b[0m \u001b[1;33m=\u001b[0m \u001b[0mpd\u001b[0m\u001b[1;33m.\u001b[0m\u001b[0mget_dummies\u001b[0m\u001b[1;33m(\u001b[0m\u001b[0mdf\u001b[0m\u001b[1;33m[\u001b[0m\u001b[0mobjects\u001b[0m\u001b[1;33m]\u001b[0m\u001b[1;33m)\u001b[0m\u001b[1;33m\u001b[0m\u001b[1;33m\u001b[0m\u001b[0m\n\u001b[0m",
      "\u001b[1;31mNameError\u001b[0m: name 'objects' is not defined"
     ]
    }
   ],
   "source": [
    "df_c = pd.get_dummies(df[objects])"
   ]
  },
  {
   "cell_type": "code",
   "execution_count": 63,
   "metadata": {
    "colab": {},
    "colab_type": "code",
    "id": "z1PqBVwt0juX",
    "outputId": "69c4f68c-3b4a-44c2-f9ab-68b410bcf98d"
   },
   "outputs": [
    {
     "data": {
      "text/html": [
       "<div>\n",
       "<style scoped>\n",
       "    .dataframe tbody tr th:only-of-type {\n",
       "        vertical-align: middle;\n",
       "    }\n",
       "\n",
       "    .dataframe tbody tr th {\n",
       "        vertical-align: top;\n",
       "    }\n",
       "\n",
       "    .dataframe thead th {\n",
       "        text-align: right;\n",
       "    }\n",
       "</style>\n",
       "<table border=\"1\" class=\"dataframe\">\n",
       "  <thead>\n",
       "    <tr style=\"text-align: right;\">\n",
       "      <th></th>\n",
       "      <th>id</th>\n",
       "      <th>year</th>\n",
       "      <th>final_d</th>\n",
       "      <th>emp_length_int</th>\n",
       "      <th>home_ownership</th>\n",
       "      <th>home_ownership_cat</th>\n",
       "      <th>income_category</th>\n",
       "      <th>annual_inc</th>\n",
       "      <th>income_cat</th>\n",
       "      <th>loan_amount</th>\n",
       "      <th>...</th>\n",
       "      <th>grade_cat_3_cat</th>\n",
       "      <th>grade_cat_4_cat</th>\n",
       "      <th>grade_cat_5_cat</th>\n",
       "      <th>grade_cat_6_cat</th>\n",
       "      <th>grade_cat_7_cat</th>\n",
       "      <th>region_Northern-Irl</th>\n",
       "      <th>region_cannught</th>\n",
       "      <th>region_leinster</th>\n",
       "      <th>region_munster</th>\n",
       "      <th>region_ulster</th>\n",
       "    </tr>\n",
       "  </thead>\n",
       "  <tbody>\n",
       "    <tr>\n",
       "      <th>0</th>\n",
       "      <td>1077501</td>\n",
       "      <td>2011y</td>\n",
       "      <td>1012015</td>\n",
       "      <td>10.0</td>\n",
       "      <td>RENT</td>\n",
       "      <td>1_cat</td>\n",
       "      <td>Low</td>\n",
       "      <td>24000</td>\n",
       "      <td>1_cat</td>\n",
       "      <td>5000</td>\n",
       "      <td>...</td>\n",
       "      <td>0</td>\n",
       "      <td>0</td>\n",
       "      <td>0</td>\n",
       "      <td>0</td>\n",
       "      <td>0</td>\n",
       "      <td>0</td>\n",
       "      <td>0</td>\n",
       "      <td>0</td>\n",
       "      <td>1</td>\n",
       "      <td>0</td>\n",
       "    </tr>\n",
       "    <tr>\n",
       "      <th>1</th>\n",
       "      <td>1077430</td>\n",
       "      <td>2011y</td>\n",
       "      <td>1042013</td>\n",
       "      <td>0.5</td>\n",
       "      <td>RENT</td>\n",
       "      <td>1_cat</td>\n",
       "      <td>Low</td>\n",
       "      <td>30000</td>\n",
       "      <td>1_cat</td>\n",
       "      <td>2500</td>\n",
       "      <td>...</td>\n",
       "      <td>1</td>\n",
       "      <td>0</td>\n",
       "      <td>0</td>\n",
       "      <td>0</td>\n",
       "      <td>0</td>\n",
       "      <td>0</td>\n",
       "      <td>0</td>\n",
       "      <td>1</td>\n",
       "      <td>0</td>\n",
       "      <td>0</td>\n",
       "    </tr>\n",
       "    <tr>\n",
       "      <th>2</th>\n",
       "      <td>1077175</td>\n",
       "      <td>2011y</td>\n",
       "      <td>1062014</td>\n",
       "      <td>10.0</td>\n",
       "      <td>RENT</td>\n",
       "      <td>1_cat</td>\n",
       "      <td>Low</td>\n",
       "      <td>12252</td>\n",
       "      <td>1_cat</td>\n",
       "      <td>2400</td>\n",
       "      <td>...</td>\n",
       "      <td>1</td>\n",
       "      <td>0</td>\n",
       "      <td>0</td>\n",
       "      <td>0</td>\n",
       "      <td>0</td>\n",
       "      <td>0</td>\n",
       "      <td>1</td>\n",
       "      <td>0</td>\n",
       "      <td>0</td>\n",
       "      <td>0</td>\n",
       "    </tr>\n",
       "    <tr>\n",
       "      <th>3</th>\n",
       "      <td>1076863</td>\n",
       "      <td>2011y</td>\n",
       "      <td>1012015</td>\n",
       "      <td>10.0</td>\n",
       "      <td>RENT</td>\n",
       "      <td>1_cat</td>\n",
       "      <td>Low</td>\n",
       "      <td>49200</td>\n",
       "      <td>1_cat</td>\n",
       "      <td>10000</td>\n",
       "      <td>...</td>\n",
       "      <td>1</td>\n",
       "      <td>0</td>\n",
       "      <td>0</td>\n",
       "      <td>0</td>\n",
       "      <td>0</td>\n",
       "      <td>0</td>\n",
       "      <td>0</td>\n",
       "      <td>0</td>\n",
       "      <td>0</td>\n",
       "      <td>1</td>\n",
       "    </tr>\n",
       "    <tr>\n",
       "      <th>4</th>\n",
       "      <td>1075358</td>\n",
       "      <td>2011y</td>\n",
       "      <td>1012016</td>\n",
       "      <td>1.0</td>\n",
       "      <td>RENT</td>\n",
       "      <td>1_cat</td>\n",
       "      <td>Low</td>\n",
       "      <td>80000</td>\n",
       "      <td>1_cat</td>\n",
       "      <td>3000</td>\n",
       "      <td>...</td>\n",
       "      <td>0</td>\n",
       "      <td>0</td>\n",
       "      <td>0</td>\n",
       "      <td>0</td>\n",
       "      <td>0</td>\n",
       "      <td>0</td>\n",
       "      <td>0</td>\n",
       "      <td>0</td>\n",
       "      <td>0</td>\n",
       "      <td>1</td>\n",
       "    </tr>\n",
       "  </tbody>\n",
       "</table>\n",
       "<p>5 rows × 117 columns</p>\n",
       "</div>"
      ],
      "text/plain": [
       "        id   year  final_d  emp_length_int home_ownership home_ownership_cat  \\\n",
       "0  1077501  2011y  1012015            10.0           RENT              1_cat   \n",
       "1  1077430  2011y  1042013             0.5           RENT              1_cat   \n",
       "2  1077175  2011y  1062014            10.0           RENT              1_cat   \n",
       "3  1076863  2011y  1012015            10.0           RENT              1_cat   \n",
       "4  1075358  2011y  1012016             1.0           RENT              1_cat   \n",
       "\n",
       "  income_category  annual_inc income_cat  loan_amount      ...        \\\n",
       "0             Low       24000      1_cat         5000      ...         \n",
       "1             Low       30000      1_cat         2500      ...         \n",
       "2             Low       12252      1_cat         2400      ...         \n",
       "3             Low       49200      1_cat        10000      ...         \n",
       "4             Low       80000      1_cat         3000      ...         \n",
       "\n",
       "  grade_cat_3_cat grade_cat_4_cat grade_cat_5_cat grade_cat_6_cat  \\\n",
       "0               0               0               0               0   \n",
       "1               1               0               0               0   \n",
       "2               1               0               0               0   \n",
       "3               1               0               0               0   \n",
       "4               0               0               0               0   \n",
       "\n",
       "  grade_cat_7_cat region_Northern-Irl region_cannught region_leinster  \\\n",
       "0               0                   0               0               0   \n",
       "1               0                   0               0               1   \n",
       "2               0                   0               1               0   \n",
       "3               0                   0               0               0   \n",
       "4               0                   0               0               0   \n",
       "\n",
       "  region_munster  region_ulster  \n",
       "0              1              0  \n",
       "1              0              0  \n",
       "2              0              0  \n",
       "3              0              1  \n",
       "4              0              1  \n",
       "\n",
       "[5 rows x 117 columns]"
      ]
     },
     "execution_count": 63,
     "metadata": {},
     "output_type": "execute_result"
    }
   ],
   "source": [
    "df1 = pd.concat([df, df_c], axis = 1)\n",
    "df1.head()"
   ]
  },
  {
   "cell_type": "code",
   "execution_count": 68,
   "metadata": {
    "colab": {},
    "colab_type": "code",
    "id": "yefOgLSx0jug"
   },
   "outputs": [
    {
     "name": "stdout",
     "output_type": "stream",
     "text": [
      "year_2007y\n",
      "home_ownership_ANY\n",
      "home_ownership_cat_6_cat\n",
      "income_category_High\n",
      "income_cat_3_cat\n",
      "term_ 60 months\n",
      "term_cat_2_cat\n",
      "application_type_JOINT\n",
      "application_type_cat_2_cat\n",
      "purpose_educational\n",
      "purpose_cat_14_cat\n",
      "interest_payments_High\n",
      "interest_payment_cat_2_cat\n",
      "loan_condition_Bad Loan\n",
      "grade_G\n",
      "grade_cat_7_cat\n",
      "region_munster\n"
     ]
    }
   ],
   "source": [
    "for i in objects:\n",
    "    a = str(i) + '_' + str(min(set(list(df[i].values)), key=list(df[i].values).count))\n",
    "    print(a)\n",
    "    del df1[a]\n",
    "    del df1[i]"
   ]
  },
  {
   "cell_type": "code",
   "execution_count": 69,
   "metadata": {
    "colab": {},
    "colab_type": "code",
    "id": "K-JO0dYp0juo",
    "outputId": "33642ed1-eef8-499d-940b-0e311713e263"
   },
   "outputs": [
    {
     "data": {
      "text/html": [
       "<div>\n",
       "<style scoped>\n",
       "    .dataframe tbody tr th:only-of-type {\n",
       "        vertical-align: middle;\n",
       "    }\n",
       "\n",
       "    .dataframe tbody tr th {\n",
       "        vertical-align: top;\n",
       "    }\n",
       "\n",
       "    .dataframe thead th {\n",
       "        text-align: right;\n",
       "    }\n",
       "</style>\n",
       "<table border=\"1\" class=\"dataframe\">\n",
       "  <thead>\n",
       "    <tr style=\"text-align: right;\">\n",
       "      <th></th>\n",
       "      <th>id</th>\n",
       "      <th>final_d</th>\n",
       "      <th>emp_length_int</th>\n",
       "      <th>annual_inc</th>\n",
       "      <th>loan_amount</th>\n",
       "      <th>loan_condition_cat</th>\n",
       "      <th>interest_rate</th>\n",
       "      <th>dti</th>\n",
       "      <th>total_pymnt</th>\n",
       "      <th>total_rec_prncp</th>\n",
       "      <th>...</th>\n",
       "      <th>grade_cat_1_cat</th>\n",
       "      <th>grade_cat_2_cat</th>\n",
       "      <th>grade_cat_3_cat</th>\n",
       "      <th>grade_cat_4_cat</th>\n",
       "      <th>grade_cat_5_cat</th>\n",
       "      <th>grade_cat_6_cat</th>\n",
       "      <th>region_Northern-Irl</th>\n",
       "      <th>region_cannught</th>\n",
       "      <th>region_leinster</th>\n",
       "      <th>region_ulster</th>\n",
       "    </tr>\n",
       "  </thead>\n",
       "  <tbody>\n",
       "    <tr>\n",
       "      <th>0</th>\n",
       "      <td>1077501</td>\n",
       "      <td>1012015</td>\n",
       "      <td>10.0</td>\n",
       "      <td>24000</td>\n",
       "      <td>5000</td>\n",
       "      <td>0</td>\n",
       "      <td>10.65</td>\n",
       "      <td>27.65</td>\n",
       "      <td>5861.071414</td>\n",
       "      <td>5000.00</td>\n",
       "      <td>...</td>\n",
       "      <td>0</td>\n",
       "      <td>1</td>\n",
       "      <td>0</td>\n",
       "      <td>0</td>\n",
       "      <td>0</td>\n",
       "      <td>0</td>\n",
       "      <td>0</td>\n",
       "      <td>0</td>\n",
       "      <td>0</td>\n",
       "      <td>0</td>\n",
       "    </tr>\n",
       "    <tr>\n",
       "      <th>1</th>\n",
       "      <td>1077430</td>\n",
       "      <td>1042013</td>\n",
       "      <td>0.5</td>\n",
       "      <td>30000</td>\n",
       "      <td>2500</td>\n",
       "      <td>1</td>\n",
       "      <td>15.27</td>\n",
       "      <td>1.00</td>\n",
       "      <td>1008.710000</td>\n",
       "      <td>456.46</td>\n",
       "      <td>...</td>\n",
       "      <td>0</td>\n",
       "      <td>0</td>\n",
       "      <td>1</td>\n",
       "      <td>0</td>\n",
       "      <td>0</td>\n",
       "      <td>0</td>\n",
       "      <td>0</td>\n",
       "      <td>0</td>\n",
       "      <td>1</td>\n",
       "      <td>0</td>\n",
       "    </tr>\n",
       "    <tr>\n",
       "      <th>2</th>\n",
       "      <td>1077175</td>\n",
       "      <td>1062014</td>\n",
       "      <td>10.0</td>\n",
       "      <td>12252</td>\n",
       "      <td>2400</td>\n",
       "      <td>0</td>\n",
       "      <td>15.96</td>\n",
       "      <td>8.72</td>\n",
       "      <td>3003.653644</td>\n",
       "      <td>2400.00</td>\n",
       "      <td>...</td>\n",
       "      <td>0</td>\n",
       "      <td>0</td>\n",
       "      <td>1</td>\n",
       "      <td>0</td>\n",
       "      <td>0</td>\n",
       "      <td>0</td>\n",
       "      <td>0</td>\n",
       "      <td>1</td>\n",
       "      <td>0</td>\n",
       "      <td>0</td>\n",
       "    </tr>\n",
       "    <tr>\n",
       "      <th>3</th>\n",
       "      <td>1076863</td>\n",
       "      <td>1012015</td>\n",
       "      <td>10.0</td>\n",
       "      <td>49200</td>\n",
       "      <td>10000</td>\n",
       "      <td>0</td>\n",
       "      <td>13.49</td>\n",
       "      <td>20.00</td>\n",
       "      <td>12226.302210</td>\n",
       "      <td>10000.00</td>\n",
       "      <td>...</td>\n",
       "      <td>0</td>\n",
       "      <td>0</td>\n",
       "      <td>1</td>\n",
       "      <td>0</td>\n",
       "      <td>0</td>\n",
       "      <td>0</td>\n",
       "      <td>0</td>\n",
       "      <td>0</td>\n",
       "      <td>0</td>\n",
       "      <td>1</td>\n",
       "    </tr>\n",
       "    <tr>\n",
       "      <th>4</th>\n",
       "      <td>1075358</td>\n",
       "      <td>1012016</td>\n",
       "      <td>1.0</td>\n",
       "      <td>80000</td>\n",
       "      <td>3000</td>\n",
       "      <td>0</td>\n",
       "      <td>12.69</td>\n",
       "      <td>17.94</td>\n",
       "      <td>3242.170000</td>\n",
       "      <td>2233.10</td>\n",
       "      <td>...</td>\n",
       "      <td>0</td>\n",
       "      <td>1</td>\n",
       "      <td>0</td>\n",
       "      <td>0</td>\n",
       "      <td>0</td>\n",
       "      <td>0</td>\n",
       "      <td>0</td>\n",
       "      <td>0</td>\n",
       "      <td>0</td>\n",
       "      <td>1</td>\n",
       "    </tr>\n",
       "  </tbody>\n",
       "</table>\n",
       "<p>5 rows × 83 columns</p>\n",
       "</div>"
      ],
      "text/plain": [
       "        id  final_d  emp_length_int  annual_inc  loan_amount  \\\n",
       "0  1077501  1012015            10.0       24000         5000   \n",
       "1  1077430  1042013             0.5       30000         2500   \n",
       "2  1077175  1062014            10.0       12252         2400   \n",
       "3  1076863  1012015            10.0       49200        10000   \n",
       "4  1075358  1012016             1.0       80000         3000   \n",
       "\n",
       "   loan_condition_cat  interest_rate    dti   total_pymnt  total_rec_prncp  \\\n",
       "0                   0          10.65  27.65   5861.071414          5000.00   \n",
       "1                   1          15.27   1.00   1008.710000           456.46   \n",
       "2                   0          15.96   8.72   3003.653644          2400.00   \n",
       "3                   0          13.49  20.00  12226.302210         10000.00   \n",
       "4                   0          12.69  17.94   3242.170000          2233.10   \n",
       "\n",
       "       ...        grade_cat_1_cat  grade_cat_2_cat  grade_cat_3_cat  \\\n",
       "0      ...                      0                1                0   \n",
       "1      ...                      0                0                1   \n",
       "2      ...                      0                0                1   \n",
       "3      ...                      0                0                1   \n",
       "4      ...                      0                1                0   \n",
       "\n",
       "   grade_cat_4_cat  grade_cat_5_cat  grade_cat_6_cat  region_Northern-Irl  \\\n",
       "0                0                0                0                    0   \n",
       "1                0                0                0                    0   \n",
       "2                0                0                0                    0   \n",
       "3                0                0                0                    0   \n",
       "4                0                0                0                    0   \n",
       "\n",
       "   region_cannught  region_leinster  region_ulster  \n",
       "0                0                0              0  \n",
       "1                0                1              0  \n",
       "2                1                0              0  \n",
       "3                0                0              1  \n",
       "4                0                0              1  \n",
       "\n",
       "[5 rows x 83 columns]"
      ]
     },
     "execution_count": 69,
     "metadata": {},
     "output_type": "execute_result"
    }
   ],
   "source": [
    "df1.head()"
   ]
  },
  {
   "cell_type": "markdown",
   "metadata": {},
   "source": [
    "### выделение y"
   ]
  },
  {
   "cell_type": "code",
   "execution_count": 73,
   "metadata": {},
   "outputs": [
    {
     "data": {
      "text/plain": [
       "0      0.00\n",
       "1    117.08\n",
       "2      0.00\n",
       "3      0.00\n",
       "4      0.00\n",
       "Name: recoveries, dtype: float64"
      ]
     },
     "execution_count": 73,
     "metadata": {},
     "output_type": "execute_result"
    }
   ],
   "source": [
    "df1['recoveries'].head()"
   ]
  },
  {
   "cell_type": "code",
   "execution_count": 82,
   "metadata": {},
   "outputs": [],
   "source": [
    "df1['recoveries'] = df1['recoveries'].apply(lambda x: 0 if x==0 else 1)"
   ]
  },
  {
   "cell_type": "code",
   "execution_count": 83,
   "metadata": {
    "colab": {},
    "colab_type": "code",
    "id": "EQCTwRAD0juy"
   },
   "outputs": [],
   "source": [
    "df1.to_csv('df_new_cat.csv')"
   ]
  },
  {
   "cell_type": "markdown",
   "metadata": {
    "colab_type": "text",
    "id": "xO-OBbZM0ju4"
   },
   "source": [
    "## Мультиколлинеарность"
   ]
  },
  {
   "cell_type": "code",
   "execution_count": 87,
   "metadata": {
    "colab": {},
    "colab_type": "code",
    "id": "Hu5lWtdH0ju6",
    "outputId": "5556c0dd-0749-4d71-e7c8-6d0a609a6e3d"
   },
   "outputs": [
    {
     "data": {
      "text/html": [
       "<div>\n",
       "<style scoped>\n",
       "    .dataframe tbody tr th:only-of-type {\n",
       "        vertical-align: middle;\n",
       "    }\n",
       "\n",
       "    .dataframe tbody tr th {\n",
       "        vertical-align: top;\n",
       "    }\n",
       "\n",
       "    .dataframe thead th {\n",
       "        text-align: right;\n",
       "    }\n",
       "</style>\n",
       "<table border=\"1\" class=\"dataframe\">\n",
       "  <thead>\n",
       "    <tr style=\"text-align: right;\">\n",
       "      <th></th>\n",
       "      <th>final_d</th>\n",
       "      <th>emp_length_int</th>\n",
       "      <th>annual_inc</th>\n",
       "      <th>loan_amount</th>\n",
       "      <th>loan_condition_cat</th>\n",
       "      <th>interest_rate</th>\n",
       "      <th>dti</th>\n",
       "      <th>total_pymnt</th>\n",
       "      <th>total_rec_prncp</th>\n",
       "      <th>recoveries</th>\n",
       "      <th>...</th>\n",
       "      <th>grade_cat_1_cat</th>\n",
       "      <th>grade_cat_2_cat</th>\n",
       "      <th>grade_cat_3_cat</th>\n",
       "      <th>grade_cat_4_cat</th>\n",
       "      <th>grade_cat_5_cat</th>\n",
       "      <th>grade_cat_6_cat</th>\n",
       "      <th>region_Northern-Irl</th>\n",
       "      <th>region_cannught</th>\n",
       "      <th>region_leinster</th>\n",
       "      <th>region_ulster</th>\n",
       "    </tr>\n",
       "  </thead>\n",
       "  <tbody>\n",
       "    <tr>\n",
       "      <th>0</th>\n",
       "      <td>1012015</td>\n",
       "      <td>10.0</td>\n",
       "      <td>24000</td>\n",
       "      <td>5000</td>\n",
       "      <td>0</td>\n",
       "      <td>10.65</td>\n",
       "      <td>27.65</td>\n",
       "      <td>5861.071414</td>\n",
       "      <td>5000.00</td>\n",
       "      <td>0</td>\n",
       "      <td>...</td>\n",
       "      <td>0</td>\n",
       "      <td>1</td>\n",
       "      <td>0</td>\n",
       "      <td>0</td>\n",
       "      <td>0</td>\n",
       "      <td>0</td>\n",
       "      <td>0</td>\n",
       "      <td>0</td>\n",
       "      <td>0</td>\n",
       "      <td>0</td>\n",
       "    </tr>\n",
       "    <tr>\n",
       "      <th>1</th>\n",
       "      <td>1042013</td>\n",
       "      <td>0.5</td>\n",
       "      <td>30000</td>\n",
       "      <td>2500</td>\n",
       "      <td>1</td>\n",
       "      <td>15.27</td>\n",
       "      <td>1.00</td>\n",
       "      <td>1008.710000</td>\n",
       "      <td>456.46</td>\n",
       "      <td>1</td>\n",
       "      <td>...</td>\n",
       "      <td>0</td>\n",
       "      <td>0</td>\n",
       "      <td>1</td>\n",
       "      <td>0</td>\n",
       "      <td>0</td>\n",
       "      <td>0</td>\n",
       "      <td>0</td>\n",
       "      <td>0</td>\n",
       "      <td>1</td>\n",
       "      <td>0</td>\n",
       "    </tr>\n",
       "    <tr>\n",
       "      <th>2</th>\n",
       "      <td>1062014</td>\n",
       "      <td>10.0</td>\n",
       "      <td>12252</td>\n",
       "      <td>2400</td>\n",
       "      <td>0</td>\n",
       "      <td>15.96</td>\n",
       "      <td>8.72</td>\n",
       "      <td>3003.653644</td>\n",
       "      <td>2400.00</td>\n",
       "      <td>0</td>\n",
       "      <td>...</td>\n",
       "      <td>0</td>\n",
       "      <td>0</td>\n",
       "      <td>1</td>\n",
       "      <td>0</td>\n",
       "      <td>0</td>\n",
       "      <td>0</td>\n",
       "      <td>0</td>\n",
       "      <td>1</td>\n",
       "      <td>0</td>\n",
       "      <td>0</td>\n",
       "    </tr>\n",
       "    <tr>\n",
       "      <th>3</th>\n",
       "      <td>1012015</td>\n",
       "      <td>10.0</td>\n",
       "      <td>49200</td>\n",
       "      <td>10000</td>\n",
       "      <td>0</td>\n",
       "      <td>13.49</td>\n",
       "      <td>20.00</td>\n",
       "      <td>12226.302210</td>\n",
       "      <td>10000.00</td>\n",
       "      <td>0</td>\n",
       "      <td>...</td>\n",
       "      <td>0</td>\n",
       "      <td>0</td>\n",
       "      <td>1</td>\n",
       "      <td>0</td>\n",
       "      <td>0</td>\n",
       "      <td>0</td>\n",
       "      <td>0</td>\n",
       "      <td>0</td>\n",
       "      <td>0</td>\n",
       "      <td>1</td>\n",
       "    </tr>\n",
       "    <tr>\n",
       "      <th>4</th>\n",
       "      <td>1012016</td>\n",
       "      <td>1.0</td>\n",
       "      <td>80000</td>\n",
       "      <td>3000</td>\n",
       "      <td>0</td>\n",
       "      <td>12.69</td>\n",
       "      <td>17.94</td>\n",
       "      <td>3242.170000</td>\n",
       "      <td>2233.10</td>\n",
       "      <td>0</td>\n",
       "      <td>...</td>\n",
       "      <td>0</td>\n",
       "      <td>1</td>\n",
       "      <td>0</td>\n",
       "      <td>0</td>\n",
       "      <td>0</td>\n",
       "      <td>0</td>\n",
       "      <td>0</td>\n",
       "      <td>0</td>\n",
       "      <td>0</td>\n",
       "      <td>1</td>\n",
       "    </tr>\n",
       "  </tbody>\n",
       "</table>\n",
       "<p>5 rows × 82 columns</p>\n",
       "</div>"
      ],
      "text/plain": [
       "   final_d  emp_length_int  annual_inc  loan_amount  loan_condition_cat  \\\n",
       "0  1012015            10.0       24000         5000                   0   \n",
       "1  1042013             0.5       30000         2500                   1   \n",
       "2  1062014            10.0       12252         2400                   0   \n",
       "3  1012015            10.0       49200        10000                   0   \n",
       "4  1012016             1.0       80000         3000                   0   \n",
       "\n",
       "   interest_rate    dti   total_pymnt  total_rec_prncp  recoveries  \\\n",
       "0          10.65  27.65   5861.071414          5000.00           0   \n",
       "1          15.27   1.00   1008.710000           456.46           1   \n",
       "2          15.96   8.72   3003.653644          2400.00           0   \n",
       "3          13.49  20.00  12226.302210         10000.00           0   \n",
       "4          12.69  17.94   3242.170000          2233.10           0   \n",
       "\n",
       "       ...        grade_cat_1_cat  grade_cat_2_cat  grade_cat_3_cat  \\\n",
       "0      ...                      0                1                0   \n",
       "1      ...                      0                0                1   \n",
       "2      ...                      0                0                1   \n",
       "3      ...                      0                0                1   \n",
       "4      ...                      0                1                0   \n",
       "\n",
       "   grade_cat_4_cat  grade_cat_5_cat  grade_cat_6_cat  region_Northern-Irl  \\\n",
       "0                0                0                0                    0   \n",
       "1                0                0                0                    0   \n",
       "2                0                0                0                    0   \n",
       "3                0                0                0                    0   \n",
       "4                0                0                0                    0   \n",
       "\n",
       "   region_cannught  region_leinster  region_ulster  \n",
       "0                0                0              0  \n",
       "1                0                1              0  \n",
       "2                1                0              0  \n",
       "3                0                0              1  \n",
       "4                0                0              1  \n",
       "\n",
       "[5 rows x 82 columns]"
      ]
     },
     "execution_count": 87,
     "metadata": {},
     "output_type": "execute_result"
    }
   ],
   "source": [
    "df = pd.read_csv('df_new_cat.csv')\n",
    "del df['id']\n",
    "df = df.iloc[:, 1:]\n",
    "df.head()"
   ]
  },
  {
   "cell_type": "code",
   "execution_count": 88,
   "metadata": {
    "colab": {},
    "colab_type": "code",
    "id": "wor9krrN0jvB",
    "outputId": "e366f1f7-e27d-4ea0-c8b1-468230f2a755"
   },
   "outputs": [
    {
     "data": {
      "text/html": [
       "<div>\n",
       "<style scoped>\n",
       "    .dataframe tbody tr th:only-of-type {\n",
       "        vertical-align: middle;\n",
       "    }\n",
       "\n",
       "    .dataframe tbody tr th {\n",
       "        vertical-align: top;\n",
       "    }\n",
       "\n",
       "    .dataframe thead th {\n",
       "        text-align: right;\n",
       "    }\n",
       "</style>\n",
       "<table border=\"1\" class=\"dataframe\">\n",
       "  <thead>\n",
       "    <tr style=\"text-align: right;\">\n",
       "      <th></th>\n",
       "      <th>final_d</th>\n",
       "      <th>emp_length_int</th>\n",
       "      <th>annual_inc</th>\n",
       "      <th>loan_amount</th>\n",
       "      <th>loan_condition_cat</th>\n",
       "      <th>interest_rate</th>\n",
       "      <th>dti</th>\n",
       "      <th>total_pymnt</th>\n",
       "      <th>total_rec_prncp</th>\n",
       "      <th>recoveries</th>\n",
       "      <th>...</th>\n",
       "      <th>grade_cat_1_cat</th>\n",
       "      <th>grade_cat_2_cat</th>\n",
       "      <th>grade_cat_3_cat</th>\n",
       "      <th>grade_cat_4_cat</th>\n",
       "      <th>grade_cat_5_cat</th>\n",
       "      <th>grade_cat_6_cat</th>\n",
       "      <th>region_Northern-Irl</th>\n",
       "      <th>region_cannught</th>\n",
       "      <th>region_leinster</th>\n",
       "      <th>region_ulster</th>\n",
       "    </tr>\n",
       "  </thead>\n",
       "  <tbody>\n",
       "    <tr>\n",
       "      <th>final_d</th>\n",
       "      <td>1.000000</td>\n",
       "      <td>-0.008798</td>\n",
       "      <td>-0.013948</td>\n",
       "      <td>-0.023783</td>\n",
       "      <td>0.178373</td>\n",
       "      <td>0.049275</td>\n",
       "      <td>-0.017203</td>\n",
       "      <td>0.180982</td>\n",
       "      <td>0.199173</td>\n",
       "      <td>0.068983</td>\n",
       "      <td>...</td>\n",
       "      <td>-0.016864</td>\n",
       "      <td>0.000072</td>\n",
       "      <td>-0.006671</td>\n",
       "      <td>0.011908</td>\n",
       "      <td>0.007997</td>\n",
       "      <td>0.012368</td>\n",
       "      <td>-0.001960</td>\n",
       "      <td>-0.009092</td>\n",
       "      <td>-0.006987</td>\n",
       "      <td>0.016661</td>\n",
       "    </tr>\n",
       "    <tr>\n",
       "      <th>emp_length_int</th>\n",
       "      <td>-0.008798</td>\n",
       "      <td>1.000000</td>\n",
       "      <td>0.063382</td>\n",
       "      <td>0.103898</td>\n",
       "      <td>-0.015821</td>\n",
       "      <td>0.008943</td>\n",
       "      <td>0.020660</td>\n",
       "      <td>0.049354</td>\n",
       "      <td>0.036753</td>\n",
       "      <td>-0.014371</td>\n",
       "      <td>...</td>\n",
       "      <td>-0.002770</td>\n",
       "      <td>-0.000604</td>\n",
       "      <td>0.000570</td>\n",
       "      <td>-0.001327</td>\n",
       "      <td>0.003061</td>\n",
       "      <td>0.004347</td>\n",
       "      <td>0.005084</td>\n",
       "      <td>0.023703</td>\n",
       "      <td>0.002460</td>\n",
       "      <td>-0.015436</td>\n",
       "    </tr>\n",
       "    <tr>\n",
       "      <th>annual_inc</th>\n",
       "      <td>-0.013948</td>\n",
       "      <td>0.063382</td>\n",
       "      <td>1.000000</td>\n",
       "      <td>0.332697</td>\n",
       "      <td>-0.034142</td>\n",
       "      <td>-0.072785</td>\n",
       "      <td>-0.087409</td>\n",
       "      <td>0.160879</td>\n",
       "      <td>0.149993</td>\n",
       "      <td>-0.023393</td>\n",
       "      <td>...</td>\n",
       "      <td>0.082460</td>\n",
       "      <td>0.004507</td>\n",
       "      <td>-0.033400</td>\n",
       "      <td>-0.039114</td>\n",
       "      <td>-0.013227</td>\n",
       "      <td>-0.003095</td>\n",
       "      <td>0.033618</td>\n",
       "      <td>-0.035760</td>\n",
       "      <td>-0.023587</td>\n",
       "      <td>0.011721</td>\n",
       "    </tr>\n",
       "    <tr>\n",
       "      <th>loan_amount</th>\n",
       "      <td>-0.023783</td>\n",
       "      <td>0.103898</td>\n",
       "      <td>0.332697</td>\n",
       "      <td>1.000000</td>\n",
       "      <td>0.003512</td>\n",
       "      <td>0.145023</td>\n",
       "      <td>0.020675</td>\n",
       "      <td>0.474626</td>\n",
       "      <td>0.390473</td>\n",
       "      <td>-0.002122</td>\n",
       "      <td>...</td>\n",
       "      <td>-0.038028</td>\n",
       "      <td>-0.083626</td>\n",
       "      <td>-0.021206</td>\n",
       "      <td>0.036063</td>\n",
       "      <td>0.113116</td>\n",
       "      <td>0.084861</td>\n",
       "      <td>0.011133</td>\n",
       "      <td>-0.011178</td>\n",
       "      <td>-0.008878</td>\n",
       "      <td>-0.007794</td>\n",
       "    </tr>\n",
       "    <tr>\n",
       "      <th>loan_condition_cat</th>\n",
       "      <td>0.178373</td>\n",
       "      <td>-0.015821</td>\n",
       "      <td>-0.034142</td>\n",
       "      <td>0.003512</td>\n",
       "      <td>1.000000</td>\n",
       "      <td>0.175450</td>\n",
       "      <td>0.009961</td>\n",
       "      <td>-0.042515</td>\n",
       "      <td>-0.095991</td>\n",
       "      <td>0.589775</td>\n",
       "      <td>...</td>\n",
       "      <td>-0.086639</td>\n",
       "      <td>-0.055340</td>\n",
       "      <td>0.003534</td>\n",
       "      <td>0.061399</td>\n",
       "      <td>0.068669</td>\n",
       "      <td>0.070373</td>\n",
       "      <td>0.006074</td>\n",
       "      <td>-0.011224</td>\n",
       "      <td>0.003662</td>\n",
       "      <td>0.005728</td>\n",
       "    </tr>\n",
       "  </tbody>\n",
       "</table>\n",
       "<p>5 rows × 82 columns</p>\n",
       "</div>"
      ],
      "text/plain": [
       "                     final_d  emp_length_int  annual_inc  loan_amount  \\\n",
       "final_d             1.000000       -0.008798   -0.013948    -0.023783   \n",
       "emp_length_int     -0.008798        1.000000    0.063382     0.103898   \n",
       "annual_inc         -0.013948        0.063382    1.000000     0.332697   \n",
       "loan_amount        -0.023783        0.103898    0.332697     1.000000   \n",
       "loan_condition_cat  0.178373       -0.015821   -0.034142     0.003512   \n",
       "\n",
       "                    loan_condition_cat  interest_rate       dti  total_pymnt  \\\n",
       "final_d                       0.178373       0.049275 -0.017203     0.180982   \n",
       "emp_length_int               -0.015821       0.008943  0.020660     0.049354   \n",
       "annual_inc                   -0.034142      -0.072785 -0.087409     0.160879   \n",
       "loan_amount                   0.003512       0.145023  0.020675     0.474626   \n",
       "loan_condition_cat            1.000000       0.175450  0.009961    -0.042515   \n",
       "\n",
       "                    total_rec_prncp  recoveries      ...        \\\n",
       "final_d                    0.199173    0.068983      ...         \n",
       "emp_length_int             0.036753   -0.014371      ...         \n",
       "annual_inc                 0.149993   -0.023393      ...         \n",
       "loan_amount                0.390473   -0.002122      ...         \n",
       "loan_condition_cat        -0.095991    0.589775      ...         \n",
       "\n",
       "                    grade_cat_1_cat  grade_cat_2_cat  grade_cat_3_cat  \\\n",
       "final_d                   -0.016864         0.000072        -0.006671   \n",
       "emp_length_int            -0.002770        -0.000604         0.000570   \n",
       "annual_inc                 0.082460         0.004507        -0.033400   \n",
       "loan_amount               -0.038028        -0.083626        -0.021206   \n",
       "loan_condition_cat        -0.086639        -0.055340         0.003534   \n",
       "\n",
       "                    grade_cat_4_cat  grade_cat_5_cat  grade_cat_6_cat  \\\n",
       "final_d                    0.011908         0.007997         0.012368   \n",
       "emp_length_int            -0.001327         0.003061         0.004347   \n",
       "annual_inc                -0.039114        -0.013227        -0.003095   \n",
       "loan_amount                0.036063         0.113116         0.084861   \n",
       "loan_condition_cat         0.061399         0.068669         0.070373   \n",
       "\n",
       "                    region_Northern-Irl  region_cannught  region_leinster  \\\n",
       "final_d                       -0.001960        -0.009092        -0.006987   \n",
       "emp_length_int                 0.005084         0.023703         0.002460   \n",
       "annual_inc                     0.033618        -0.035760        -0.023587   \n",
       "loan_amount                    0.011133        -0.011178        -0.008878   \n",
       "loan_condition_cat             0.006074        -0.011224         0.003662   \n",
       "\n",
       "                    region_ulster  \n",
       "final_d                  0.016661  \n",
       "emp_length_int          -0.015436  \n",
       "annual_inc               0.011721  \n",
       "loan_amount             -0.007794  \n",
       "loan_condition_cat       0.005728  \n",
       "\n",
       "[5 rows x 82 columns]"
      ]
     },
     "execution_count": 88,
     "metadata": {},
     "output_type": "execute_result"
    }
   ],
   "source": [
    "cor = df.corr()\n",
    "cor.head()"
   ]
  },
  {
   "cell_type": "code",
   "execution_count": 89,
   "metadata": {
    "colab": {},
    "colab_type": "code",
    "id": "QSm0qMsr0jvK"
   },
   "outputs": [],
   "source": [
    "all_features = list(cor.columns)\n",
    "f_to_del = []\n",
    "\n",
    "for i in cor.columns:\n",
    "    if i == 'recoveries':\n",
    "        continue\n",
    "    for j in cor.index:\n",
    "        if all_features.index(j) >= all_features.index(i) or j == 'recoveries' :\n",
    "            continue\n",
    "        else:\n",
    "            if cor.loc[i, j] > 0.8:\n",
    "                if cor.loc['recoveries', i] > cor.loc['recoveries', j]:\n",
    "                    f_to_del.append(j)\n",
    "                else:\n",
    "                    f_to_del.append(i)"
   ]
  },
  {
   "cell_type": "code",
   "execution_count": 90,
   "metadata": {
    "colab": {},
    "colab_type": "code",
    "id": "_V3vh9kl0jvQ",
    "outputId": "c8c6e34c-8a7e-452a-f592-c877013d66f8"
   },
   "outputs": [
    {
     "data": {
      "text/plain": [
       "{'application_type_cat_1_cat',\n",
       " 'grade_cat_1_cat',\n",
       " 'grade_cat_2_cat',\n",
       " 'grade_cat_3_cat',\n",
       " 'grade_cat_4_cat',\n",
       " 'grade_cat_5_cat',\n",
       " 'grade_cat_6_cat',\n",
       " 'home_ownership_cat_1_cat',\n",
       " 'home_ownership_cat_2_cat',\n",
       " 'home_ownership_cat_3_cat',\n",
       " 'home_ownership_cat_4_cat',\n",
       " 'home_ownership_cat_5_cat',\n",
       " 'income_cat_1_cat',\n",
       " 'income_cat_2_cat',\n",
       " 'interest_payment_cat_1_cat',\n",
       " 'loan_amount',\n",
       " 'purpose_cat_10_cat',\n",
       " 'purpose_cat_11_cat',\n",
       " 'purpose_cat_12_cat',\n",
       " 'purpose_cat_13_cat',\n",
       " 'purpose_cat_1_cat',\n",
       " 'purpose_cat_2_cat',\n",
       " 'purpose_cat_3_cat',\n",
       " 'purpose_cat_4_cat',\n",
       " 'purpose_cat_5_cat',\n",
       " 'purpose_cat_6_cat',\n",
       " 'purpose_cat_7_cat',\n",
       " 'purpose_cat_8_cat',\n",
       " 'purpose_cat_9_cat',\n",
       " 'term_cat_1_cat',\n",
       " 'total_rec_prncp'}"
      ]
     },
     "execution_count": 90,
     "metadata": {},
     "output_type": "execute_result"
    }
   ],
   "source": [
    "f_to_del = set(f_to_del)\n",
    "f_to_del"
   ]
  },
  {
   "cell_type": "code",
   "execution_count": 91,
   "metadata": {
    "colab": {},
    "colab_type": "code",
    "id": "6n-Vj75W0jva"
   },
   "outputs": [],
   "source": [
    "for i in f_to_del:\n",
    "    del df[i]"
   ]
  },
  {
   "cell_type": "code",
   "execution_count": 92,
   "metadata": {
    "colab": {},
    "colab_type": "code",
    "id": "M0SZ7v6Y0jvf"
   },
   "outputs": [
    {
     "data": {
      "text/plain": [
       "51"
      ]
     },
     "execution_count": 92,
     "metadata": {},
     "output_type": "execute_result"
    }
   ],
   "source": [
    "df.shape[1]"
   ]
  },
  {
   "cell_type": "code",
   "execution_count": 93,
   "metadata": {
    "colab": {},
    "colab_type": "code",
    "id": "MI-UgERe0jvl"
   },
   "outputs": [],
   "source": [
    "df.to_csv('df_no_cor')"
   ]
  },
  {
   "cell_type": "markdown",
   "metadata": {
    "colab_type": "text",
    "id": "MCE4XYwV0jvo"
   },
   "source": [
    "## Нормализация"
   ]
  },
  {
   "cell_type": "code",
   "execution_count": 94,
   "metadata": {
    "colab": {},
    "colab_type": "code",
    "id": "gzHvQmKJ0jvp"
   },
   "outputs": [],
   "source": [
    "factors = df.columns\n",
    "\n",
    "for i in factors:\n",
    "    if (df[i] >= 0).sum() != df[i].shape[0]:\n",
    "        df[i] = (df[i] + df[i].max())/(df[i].min() - df[i].max())\n",
    "    else:\n",
    "        df[i] = (df[i] - df[i].min())/(df[i].max() - df[i].min())"
   ]
  },
  {
   "cell_type": "code",
   "execution_count": 95,
   "metadata": {
    "colab": {},
    "colab_type": "code",
    "id": "_5vmeq820jv5",
    "outputId": "6cb3457b-4e68-4287-ca08-18c097f95509"
   },
   "outputs": [
    {
     "data": {
      "text/html": [
       "<div>\n",
       "<style scoped>\n",
       "    .dataframe tbody tr th:only-of-type {\n",
       "        vertical-align: middle;\n",
       "    }\n",
       "\n",
       "    .dataframe tbody tr th {\n",
       "        vertical-align: top;\n",
       "    }\n",
       "\n",
       "    .dataframe thead th {\n",
       "        text-align: right;\n",
       "    }\n",
       "</style>\n",
       "<table border=\"1\" class=\"dataframe\">\n",
       "  <thead>\n",
       "    <tr style=\"text-align: right;\">\n",
       "      <th></th>\n",
       "      <th>final_d</th>\n",
       "      <th>emp_length_int</th>\n",
       "      <th>annual_inc</th>\n",
       "      <th>loan_condition_cat</th>\n",
       "      <th>interest_rate</th>\n",
       "      <th>dti</th>\n",
       "      <th>total_pymnt</th>\n",
       "      <th>recoveries</th>\n",
       "      <th>installment</th>\n",
       "      <th>year_2008y</th>\n",
       "      <th>...</th>\n",
       "      <th>grade_A</th>\n",
       "      <th>grade_B</th>\n",
       "      <th>grade_C</th>\n",
       "      <th>grade_D</th>\n",
       "      <th>grade_E</th>\n",
       "      <th>grade_F</th>\n",
       "      <th>region_Northern-Irl</th>\n",
       "      <th>region_cannught</th>\n",
       "      <th>region_leinster</th>\n",
       "      <th>region_ulster</th>\n",
       "    </tr>\n",
       "  </thead>\n",
       "  <tbody>\n",
       "    <tr>\n",
       "      <th>0</th>\n",
       "      <td>0.000064</td>\n",
       "      <td>1.000000</td>\n",
       "      <td>0.002526</td>\n",
       "      <td>0.0</td>\n",
       "      <td>0.225180</td>\n",
       "      <td>0.002765</td>\n",
       "      <td>0.101442</td>\n",
       "      <td>0.0</td>\n",
       "      <td>0.102952</td>\n",
       "      <td>0.0</td>\n",
       "      <td>...</td>\n",
       "      <td>0.0</td>\n",
       "      <td>1.0</td>\n",
       "      <td>0.0</td>\n",
       "      <td>0.0</td>\n",
       "      <td>0.0</td>\n",
       "      <td>0.0</td>\n",
       "      <td>0.0</td>\n",
       "      <td>0.0</td>\n",
       "      <td>0.0</td>\n",
       "      <td>0.0</td>\n",
       "    </tr>\n",
       "    <tr>\n",
       "      <th>1</th>\n",
       "      <td>0.272755</td>\n",
       "      <td>0.000000</td>\n",
       "      <td>0.003158</td>\n",
       "      <td>1.0</td>\n",
       "      <td>0.420363</td>\n",
       "      <td>0.000100</td>\n",
       "      <td>0.017459</td>\n",
       "      <td>1.0</td>\n",
       "      <td>0.030886</td>\n",
       "      <td>0.0</td>\n",
       "      <td>...</td>\n",
       "      <td>0.0</td>\n",
       "      <td>0.0</td>\n",
       "      <td>1.0</td>\n",
       "      <td>0.0</td>\n",
       "      <td>0.0</td>\n",
       "      <td>0.0</td>\n",
       "      <td>0.0</td>\n",
       "      <td>0.0</td>\n",
       "      <td>1.0</td>\n",
       "      <td>0.0</td>\n",
       "    </tr>\n",
       "    <tr>\n",
       "      <th>2</th>\n",
       "      <td>0.454571</td>\n",
       "      <td>1.000000</td>\n",
       "      <td>0.001290</td>\n",
       "      <td>0.0</td>\n",
       "      <td>0.449514</td>\n",
       "      <td>0.000872</td>\n",
       "      <td>0.051986</td>\n",
       "      <td>0.0</td>\n",
       "      <td>0.048021</td>\n",
       "      <td>0.0</td>\n",
       "      <td>...</td>\n",
       "      <td>0.0</td>\n",
       "      <td>0.0</td>\n",
       "      <td>1.0</td>\n",
       "      <td>0.0</td>\n",
       "      <td>0.0</td>\n",
       "      <td>0.0</td>\n",
       "      <td>0.0</td>\n",
       "      <td>1.0</td>\n",
       "      <td>0.0</td>\n",
       "      <td>0.0</td>\n",
       "    </tr>\n",
       "    <tr>\n",
       "      <th>3</th>\n",
       "      <td>0.000064</td>\n",
       "      <td>1.000000</td>\n",
       "      <td>0.005179</td>\n",
       "      <td>0.0</td>\n",
       "      <td>0.345163</td>\n",
       "      <td>0.002000</td>\n",
       "      <td>0.211610</td>\n",
       "      <td>0.0</td>\n",
       "      <td>0.226355</td>\n",
       "      <td>0.0</td>\n",
       "      <td>...</td>\n",
       "      <td>0.0</td>\n",
       "      <td>0.0</td>\n",
       "      <td>1.0</td>\n",
       "      <td>0.0</td>\n",
       "      <td>0.0</td>\n",
       "      <td>0.0</td>\n",
       "      <td>0.0</td>\n",
       "      <td>0.0</td>\n",
       "      <td>0.0</td>\n",
       "      <td>1.0</td>\n",
       "    </tr>\n",
       "    <tr>\n",
       "      <th>4</th>\n",
       "      <td>0.000073</td>\n",
       "      <td>0.052632</td>\n",
       "      <td>0.008421</td>\n",
       "      <td>0.0</td>\n",
       "      <td>0.311365</td>\n",
       "      <td>0.001794</td>\n",
       "      <td>0.056115</td>\n",
       "      <td>0.0</td>\n",
       "      <td>0.036453</td>\n",
       "      <td>0.0</td>\n",
       "      <td>...</td>\n",
       "      <td>0.0</td>\n",
       "      <td>1.0</td>\n",
       "      <td>0.0</td>\n",
       "      <td>0.0</td>\n",
       "      <td>0.0</td>\n",
       "      <td>0.0</td>\n",
       "      <td>0.0</td>\n",
       "      <td>0.0</td>\n",
       "      <td>0.0</td>\n",
       "      <td>1.0</td>\n",
       "    </tr>\n",
       "  </tbody>\n",
       "</table>\n",
       "<p>5 rows × 51 columns</p>\n",
       "</div>"
      ],
      "text/plain": [
       "    final_d  emp_length_int  annual_inc  loan_condition_cat  interest_rate  \\\n",
       "0  0.000064        1.000000    0.002526                 0.0       0.225180   \n",
       "1  0.272755        0.000000    0.003158                 1.0       0.420363   \n",
       "2  0.454571        1.000000    0.001290                 0.0       0.449514   \n",
       "3  0.000064        1.000000    0.005179                 0.0       0.345163   \n",
       "4  0.000073        0.052632    0.008421                 0.0       0.311365   \n",
       "\n",
       "        dti  total_pymnt  recoveries  installment  year_2008y      ...        \\\n",
       "0  0.002765     0.101442         0.0     0.102952         0.0      ...         \n",
       "1  0.000100     0.017459         1.0     0.030886         0.0      ...         \n",
       "2  0.000872     0.051986         0.0     0.048021         0.0      ...         \n",
       "3  0.002000     0.211610         0.0     0.226355         0.0      ...         \n",
       "4  0.001794     0.056115         0.0     0.036453         0.0      ...         \n",
       "\n",
       "   grade_A  grade_B  grade_C  grade_D  grade_E  grade_F  region_Northern-Irl  \\\n",
       "0      0.0      1.0      0.0      0.0      0.0      0.0                  0.0   \n",
       "1      0.0      0.0      1.0      0.0      0.0      0.0                  0.0   \n",
       "2      0.0      0.0      1.0      0.0      0.0      0.0                  0.0   \n",
       "3      0.0      0.0      1.0      0.0      0.0      0.0                  0.0   \n",
       "4      0.0      1.0      0.0      0.0      0.0      0.0                  0.0   \n",
       "\n",
       "   region_cannught  region_leinster  region_ulster  \n",
       "0              0.0              0.0            0.0  \n",
       "1              0.0              1.0            0.0  \n",
       "2              1.0              0.0            0.0  \n",
       "3              0.0              0.0            1.0  \n",
       "4              0.0              0.0            1.0  \n",
       "\n",
       "[5 rows x 51 columns]"
      ]
     },
     "execution_count": 95,
     "metadata": {},
     "output_type": "execute_result"
    }
   ],
   "source": [
    "df.head()"
   ]
  },
  {
   "cell_type": "code",
   "execution_count": 96,
   "metadata": {
    "colab": {},
    "colab_type": "code",
    "id": "u56rLd6o0jwI"
   },
   "outputs": [],
   "source": [
    "df.to_csv('df_norm.csv')"
   ]
  },
  {
   "cell_type": "markdown",
   "metadata": {
    "colab_type": "text",
    "id": "TFaTsePHDDnN"
   },
   "source": [
    "# Preprocessing & modelling"
   ]
  },
  {
   "cell_type": "markdown",
   "metadata": {
    "colab_type": "text",
    "id": "s9lXc5gUDpfL"
   },
   "source": [
    "# Все данные ___ ___ ___ ___ ___ ___ ___ ___ ___ ___ ___ ___ ___ ___ ___ ___ ___ ___ ___ ___ ___ ___ ___ ___ ___ ___ ___ ___ ___ ___ ___ ___ ___ "
   ]
  },
  {
   "cell_type": "markdown",
   "metadata": {
    "colab_type": "text",
    "id": "wurfug700jwY"
   },
   "source": [
    "### Preprocessing"
   ]
  },
  {
   "cell_type": "code",
   "execution_count": 17,
   "metadata": {
    "colab": {
     "base_uri": "https://localhost:8080/",
     "height": 270
    },
    "colab_type": "code",
    "id": "ausFgEIN0jwY",
    "outputId": "1e60fcd4-20cb-4174-c20c-96a9a112ea99"
   },
   "outputs": [
    {
     "data": {
      "text/html": [
       "<div>\n",
       "<style scoped>\n",
       "    .dataframe tbody tr th:only-of-type {\n",
       "        vertical-align: middle;\n",
       "    }\n",
       "\n",
       "    .dataframe tbody tr th {\n",
       "        vertical-align: top;\n",
       "    }\n",
       "\n",
       "    .dataframe thead th {\n",
       "        text-align: right;\n",
       "    }\n",
       "</style>\n",
       "<table border=\"1\" class=\"dataframe\">\n",
       "  <thead>\n",
       "    <tr style=\"text-align: right;\">\n",
       "      <th></th>\n",
       "      <th>final_d</th>\n",
       "      <th>emp_length_int</th>\n",
       "      <th>annual_inc</th>\n",
       "      <th>loan_condition_cat</th>\n",
       "      <th>interest_rate</th>\n",
       "      <th>dti</th>\n",
       "      <th>total_pymnt</th>\n",
       "      <th>recoveries</th>\n",
       "      <th>installment</th>\n",
       "      <th>year_2008y</th>\n",
       "      <th>...</th>\n",
       "      <th>grade_A</th>\n",
       "      <th>grade_B</th>\n",
       "      <th>grade_C</th>\n",
       "      <th>grade_D</th>\n",
       "      <th>grade_E</th>\n",
       "      <th>grade_F</th>\n",
       "      <th>region_Northern-Irl</th>\n",
       "      <th>region_cannught</th>\n",
       "      <th>region_leinster</th>\n",
       "      <th>region_ulster</th>\n",
       "    </tr>\n",
       "  </thead>\n",
       "  <tbody>\n",
       "    <tr>\n",
       "      <th>0</th>\n",
       "      <td>0.000064</td>\n",
       "      <td>1.000000</td>\n",
       "      <td>0.002526</td>\n",
       "      <td>0.0</td>\n",
       "      <td>0.225180</td>\n",
       "      <td>0.002765</td>\n",
       "      <td>0.101442</td>\n",
       "      <td>0.0</td>\n",
       "      <td>0.102952</td>\n",
       "      <td>0.0</td>\n",
       "      <td>...</td>\n",
       "      <td>0.0</td>\n",
       "      <td>1.0</td>\n",
       "      <td>0.0</td>\n",
       "      <td>0.0</td>\n",
       "      <td>0.0</td>\n",
       "      <td>0.0</td>\n",
       "      <td>0.0</td>\n",
       "      <td>0.0</td>\n",
       "      <td>0.0</td>\n",
       "      <td>0.0</td>\n",
       "    </tr>\n",
       "    <tr>\n",
       "      <th>1</th>\n",
       "      <td>0.272755</td>\n",
       "      <td>0.000000</td>\n",
       "      <td>0.003158</td>\n",
       "      <td>1.0</td>\n",
       "      <td>0.420363</td>\n",
       "      <td>0.000100</td>\n",
       "      <td>0.017459</td>\n",
       "      <td>1.0</td>\n",
       "      <td>0.030886</td>\n",
       "      <td>0.0</td>\n",
       "      <td>...</td>\n",
       "      <td>0.0</td>\n",
       "      <td>0.0</td>\n",
       "      <td>1.0</td>\n",
       "      <td>0.0</td>\n",
       "      <td>0.0</td>\n",
       "      <td>0.0</td>\n",
       "      <td>0.0</td>\n",
       "      <td>0.0</td>\n",
       "      <td>1.0</td>\n",
       "      <td>0.0</td>\n",
       "    </tr>\n",
       "    <tr>\n",
       "      <th>2</th>\n",
       "      <td>0.454571</td>\n",
       "      <td>1.000000</td>\n",
       "      <td>0.001290</td>\n",
       "      <td>0.0</td>\n",
       "      <td>0.449514</td>\n",
       "      <td>0.000872</td>\n",
       "      <td>0.051986</td>\n",
       "      <td>0.0</td>\n",
       "      <td>0.048021</td>\n",
       "      <td>0.0</td>\n",
       "      <td>...</td>\n",
       "      <td>0.0</td>\n",
       "      <td>0.0</td>\n",
       "      <td>1.0</td>\n",
       "      <td>0.0</td>\n",
       "      <td>0.0</td>\n",
       "      <td>0.0</td>\n",
       "      <td>0.0</td>\n",
       "      <td>1.0</td>\n",
       "      <td>0.0</td>\n",
       "      <td>0.0</td>\n",
       "    </tr>\n",
       "    <tr>\n",
       "      <th>3</th>\n",
       "      <td>0.000064</td>\n",
       "      <td>1.000000</td>\n",
       "      <td>0.005179</td>\n",
       "      <td>0.0</td>\n",
       "      <td>0.345163</td>\n",
       "      <td>0.002000</td>\n",
       "      <td>0.211610</td>\n",
       "      <td>0.0</td>\n",
       "      <td>0.226355</td>\n",
       "      <td>0.0</td>\n",
       "      <td>...</td>\n",
       "      <td>0.0</td>\n",
       "      <td>0.0</td>\n",
       "      <td>1.0</td>\n",
       "      <td>0.0</td>\n",
       "      <td>0.0</td>\n",
       "      <td>0.0</td>\n",
       "      <td>0.0</td>\n",
       "      <td>0.0</td>\n",
       "      <td>0.0</td>\n",
       "      <td>1.0</td>\n",
       "    </tr>\n",
       "    <tr>\n",
       "      <th>4</th>\n",
       "      <td>0.000073</td>\n",
       "      <td>0.052632</td>\n",
       "      <td>0.008421</td>\n",
       "      <td>0.0</td>\n",
       "      <td>0.311365</td>\n",
       "      <td>0.001794</td>\n",
       "      <td>0.056115</td>\n",
       "      <td>0.0</td>\n",
       "      <td>0.036453</td>\n",
       "      <td>0.0</td>\n",
       "      <td>...</td>\n",
       "      <td>0.0</td>\n",
       "      <td>1.0</td>\n",
       "      <td>0.0</td>\n",
       "      <td>0.0</td>\n",
       "      <td>0.0</td>\n",
       "      <td>0.0</td>\n",
       "      <td>0.0</td>\n",
       "      <td>0.0</td>\n",
       "      <td>0.0</td>\n",
       "      <td>1.0</td>\n",
       "    </tr>\n",
       "  </tbody>\n",
       "</table>\n",
       "<p>5 rows × 51 columns</p>\n",
       "</div>"
      ],
      "text/plain": [
       "    final_d  emp_length_int  annual_inc  loan_condition_cat  interest_rate  \\\n",
       "0  0.000064        1.000000    0.002526                 0.0       0.225180   \n",
       "1  0.272755        0.000000    0.003158                 1.0       0.420363   \n",
       "2  0.454571        1.000000    0.001290                 0.0       0.449514   \n",
       "3  0.000064        1.000000    0.005179                 0.0       0.345163   \n",
       "4  0.000073        0.052632    0.008421                 0.0       0.311365   \n",
       "\n",
       "        dti  total_pymnt  recoveries  installment  year_2008y  ...  grade_A  \\\n",
       "0  0.002765     0.101442         0.0     0.102952         0.0  ...      0.0   \n",
       "1  0.000100     0.017459         1.0     0.030886         0.0  ...      0.0   \n",
       "2  0.000872     0.051986         0.0     0.048021         0.0  ...      0.0   \n",
       "3  0.002000     0.211610         0.0     0.226355         0.0  ...      0.0   \n",
       "4  0.001794     0.056115         0.0     0.036453         0.0  ...      0.0   \n",
       "\n",
       "   grade_B  grade_C  grade_D  grade_E  grade_F  region_Northern-Irl  \\\n",
       "0      1.0      0.0      0.0      0.0      0.0                  0.0   \n",
       "1      0.0      1.0      0.0      0.0      0.0                  0.0   \n",
       "2      0.0      1.0      0.0      0.0      0.0                  0.0   \n",
       "3      0.0      1.0      0.0      0.0      0.0                  0.0   \n",
       "4      1.0      0.0      0.0      0.0      0.0                  0.0   \n",
       "\n",
       "   region_cannught  region_leinster  region_ulster  \n",
       "0              0.0              0.0            0.0  \n",
       "1              0.0              1.0            0.0  \n",
       "2              1.0              0.0            0.0  \n",
       "3              0.0              0.0            1.0  \n",
       "4              0.0              0.0            1.0  \n",
       "\n",
       "[5 rows x 51 columns]"
      ]
     },
     "execution_count": 17,
     "metadata": {},
     "output_type": "execute_result"
    }
   ],
   "source": [
    "df = pd.read_csv(\"df_new_norm.csv\")\n",
    "df = df.iloc[:,1:]\n",
    "df.head()"
   ]
  },
  {
   "cell_type": "code",
   "execution_count": 18,
   "metadata": {
    "colab": {},
    "colab_type": "code",
    "id": "hKw8G3a20jwk"
   },
   "outputs": [],
   "source": [
    "df_y = df['recoveries']\n",
    "df_X = df.drop('recoveries', axis='columns')"
   ]
  },
  {
   "cell_type": "code",
   "execution_count": 19,
   "metadata": {
    "colab": {},
    "colab_type": "code",
    "id": "i4ob3hFi0jxI"
   },
   "outputs": [],
   "source": [
    "X_train, X_test, y_train, y_test = train_test_split( df_X, df_y, test_size=0.33, random_state=42)"
   ]
  },
  {
   "cell_type": "markdown",
   "metadata": {},
   "source": [
    "### Функции"
   ]
  },
  {
   "cell_type": "code",
   "execution_count": 20,
   "metadata": {},
   "outputs": [],
   "source": [
    "def results(y_test, y_pred, time = 0):\n",
    "    report = metrics.classification_report(y_test, y_pred, target_names=['recovered', 'uncovered'])\n",
    "    print(report)\n",
    "    \n",
    "    print('\\nПлощадь под ROC-кривой - ' + str(round(metrics.roc_auc_score(y_test, y_pred), 4)))\n",
    "    if time != 0:\n",
    "        print('\\nВремя работы кода - ' + str(round(time, 4)) + ' сек')\n",
    "        \n",
    "def ROC_curve(y_test, model):\n",
    "    sns.set(font_scale=1.5)\n",
    "    sns.set_color_codes(\"muted\")\n",
    "\n",
    "    plt.figure(figsize=(6, 5))\n",
    "    fpr, tpr, thresholds = metrics.roc_curve(y_test, model.predict_proba(X_test)[:,1], pos_label=1)\n",
    "    lw = 2\n",
    "    plt.plot(fpr, tpr, lw=lw, label='ROC curve ')\n",
    "    plt.plot([0, 1], [0, 1])\n",
    "    plt.xlim([0.0, 1.0])\n",
    "    plt.ylim([0.0, 1.05])\n",
    "    plt.xlabel('False Positive Rate')\n",
    "    plt.ylabel('True Positive Rate')\n",
    "    plt.title('ROC curve')\n",
    "    plt.savefig(\"ROC.png\")\n",
    "    plt.show()"
   ]
  },
  {
   "cell_type": "markdown",
   "metadata": {
    "colab_type": "text",
    "id": "fGuP3UN_0jxM"
   },
   "source": [
    "### LogRegression"
   ]
  },
  {
   "cell_type": "code",
   "execution_count": 21,
   "metadata": {
    "colab": {
     "base_uri": "https://localhost:8080/",
     "height": 153
    },
    "colab_type": "code",
    "id": "9y5n_TPm0jxP",
    "outputId": "e0fd80b7-e2d4-4249-9f70-1c5c720695aa"
   },
   "outputs": [
    {
     "name": "stderr",
     "output_type": "stream",
     "text": [
      "C:\\Users\\User\\anaconda3\\lib\\site-packages\\sklearn\\linear_model\\_logistic.py:940: ConvergenceWarning: lbfgs failed to converge (status=1):\n",
      "STOP: TOTAL NO. of ITERATIONS REACHED LIMIT.\n",
      "\n",
      "Increase the number of iterations (max_iter) or scale the data as shown in:\n",
      "    https://scikit-learn.org/stable/modules/preprocessing.html\n",
      "Please also refer to the documentation for alternative solver options:\n",
      "    https://scikit-learn.org/stable/modules/linear_model.html#logistic-regression\n",
      "  extra_warning_msg=_LOGISTIC_SOLVER_CONVERGENCE_MSG)\n"
     ]
    },
    {
     "name": "stdout",
     "output_type": "stream",
     "text": [
      "              precision    recall  f1-score   support\n",
      "\n",
      "   recovered       0.99      0.99      0.99    284599\n",
      "   uncovered       0.68      0.59      0.63      8237\n",
      "\n",
      "    accuracy                           0.98    292836\n",
      "   macro avg       0.83      0.79      0.81    292836\n",
      "weighted avg       0.98      0.98      0.98    292836\n",
      "\n",
      "\n",
      "Площадь под ROC-кривой - 0.7906\n",
      "\n",
      "Время работы кода - 49.0312 сек\n"
     ]
    },
    {
     "data": {
      "image/png": "[encoded data removed]",
      "text/plain": [
       "<Figure size 432x360 with 1 Axes>"
      ]
     },
     "metadata": {},
     "output_type": "display_data"
    }
   ],
   "source": [
    "start_time = process_time()\n",
    "\n",
    "clf = LogisticRegression(random_state=0)\n",
    "clf.fit(X_train, y_train)\n",
    "y_pred = clf.predict(X_test)\n",
    "\n",
    "finish_time = process_time()\n",
    "sec = finish_time - start_time\n",
    "\n",
    "results(y_test, y_pred, sec)\n",
    "ROC_curve(y_test, clf)"
   ]
  },
  {
   "cell_type": "markdown",
   "metadata": {
    "colab_type": "text",
    "id": "pH7E_MDO0jyJ"
   },
   "source": [
    "### Случайный лес"
   ]
  },
  {
   "cell_type": "code",
   "execution_count": 178,
   "metadata": {},
   "outputs": [
    {
     "name": "stdout",
     "output_type": "stream",
     "text": [
      "              precision    recall  f1-score   support\n",
      "\n",
      "   recovered       1.00      0.97      0.98     33065\n",
      "   uncovered       0.89      0.99      0.94      8079\n",
      "\n",
      "   micro avg       0.97      0.97      0.97     41144\n",
      "   macro avg       0.94      0.98      0.96     41144\n",
      "weighted avg       0.98      0.97      0.98     41144\n",
      "\n",
      "\n",
      "Площадь под ROC-кривой - 0.982\n",
      "Время работы кода - 9.7031 сек\n"
     ]
    },
    {
     "data": {
      "image/png": "[encoded data removed]",
      "text/plain": [
       "<Figure size 432x360 with 1 Axes>"
      ]
     },
     "metadata": {},
     "output_type": "display_data"
    }
   ],
   "source": [
    "start_time = process_time()\n",
    "\n",
    "rf = RandomForestClassifier(n_estimators=100, random_state=11)\n",
    "rf.fit(X_train, y_train)\n",
    "y_pred = rf.predict(X_test)\n",
    "\n",
    "finish_time = process_time()\n",
    "sec = finish_time - start_time\n",
    "\n",
    "results(y_test, y_pred, sec)\n",
    "ROC_curve(y_test, rf)"
   ]
  },
  {
   "cell_type": "markdown",
   "metadata": {},
   "source": [
    "### Градиентный бустинг"
   ]
  },
  {
   "cell_type": "code",
   "execution_count": 180,
   "metadata": {},
   "outputs": [
    {
     "name": "stdout",
     "output_type": "stream",
     "text": [
      "              precision    recall  f1-score   support\n",
      "\n",
      "   recovered       1.00      0.97      0.98     33065\n",
      "   uncovered       0.89      1.00      0.94      8079\n",
      "\n",
      "   micro avg       0.98      0.98      0.98     41144\n",
      "   macro avg       0.95      0.98      0.96     41144\n",
      "weighted avg       0.98      0.98      0.98     41144\n",
      "\n",
      "\n",
      "Площадь под ROC-кривой - 0.9833\n",
      "\n",
      "Время работы кода - 38.3594 сек\n"
     ]
    },
    {
     "data": {
      "image/png": "[encoded data removed]",
      "text/plain": [
       "<Figure size 432x360 with 1 Axes>"
      ]
     },
     "metadata": {},
     "output_type": "display_data"
    }
   ],
   "source": [
    "start_time = process_time()\n",
    "\n",
    "GB = GBoost(loss = 'exponential')\n",
    "GB.fit(X_train, y_train)\n",
    "y_pred = GB.predict(X_test)\n",
    "\n",
    "finish_time = process_time()\n",
    "sec = finish_time - start_time\n",
    "\n",
    "results(y_test, y_pred, sec)\n",
    "ROC_curve(y_test, GB)"
   ]
  },
  {
   "cell_type": "markdown",
   "metadata": {},
   "source": [
    "### Наивный Байес"
   ]
  },
  {
   "cell_type": "code",
   "execution_count": 7,
   "metadata": {},
   "outputs": [
    {
     "name": "stdout",
     "output_type": "stream",
     "text": [
      "              precision    recall  f1-score   support\n",
      "\n",
      "   recovered       1.00      0.96      0.98    284599\n",
      "   uncovered       0.41      0.99      0.58      8237\n",
      "\n",
      "    accuracy                           0.96    292836\n",
      "   macro avg       0.71      0.98      0.78    292836\n",
      "weighted avg       0.98      0.96      0.97    292836\n",
      "\n",
      "\n",
      "Площадь под ROC-кривой - 0.9754\n",
      "\n",
      "Время работы кода - 1.3438 сек\n"
     ]
    },
    {
     "data": {
      "image/png": "[encoded data removed]",
      "text/plain": [
       "<Figure size 432x360 with 1 Axes>"
      ]
     },
     "metadata": {},
     "output_type": "display_data"
    }
   ],
   "source": [
    "GaussianNB\n",
    "\n",
    "start_time = process_time()\n",
    "\n",
    "Bayes = GaussianNB()\n",
    "Bayes.fit(X_train, y_train)\n",
    "y_pred = Bayes.predict(X_test)\n",
    "\n",
    "finish_time = process_time()\n",
    "sec = finish_time - start_time\n",
    "\n",
    "results(y_test, y_pred, sec)\n",
    "ROC_curve(y_test, Bayes)"
   ]
  },
  {
   "cell_type": "markdown",
   "metadata": {
    "colab_type": "text",
    "id": "cFtkciUB0j01"
   },
   "source": [
    "### K-nn"
   ]
  },
  {
   "cell_type": "code",
   "execution_count": null,
   "metadata": {
    "colab": {},
    "colab_type": "code",
    "id": "5SWTtxAI0j02"
   },
   "outputs": [],
   "source": [
    "start_time = process_time()\n",
    "\n",
    "neigh = KNeighborsClassifier(n_neighbors=3)\n",
    "neigh.fit(X_train, y_train)\n",
    "y_pred = neigh.predict(X_test)\n",
    "\n",
    "finish_time = process_time()\n",
    "sec = finish_time - start_time\n",
    "\n",
    "results(y_test, y_pred, sec)\n",
    "ROC_curve(y_test, neigh)"
   ]
  },
  {
   "cell_type": "markdown",
   "metadata": {
    "colab_type": "text",
    "id": "0EJw29ey0j1g"
   },
   "source": [
    "### SVM"
   ]
  },
  {
   "cell_type": "code",
   "execution_count": null,
   "metadata": {
    "colab": {},
    "colab_type": "code",
    "id": "3f4gr9jW0j1n",
    "outputId": "0c8cd691-8ec4-4482-cc6c-9908f37562fb",
    "scrolled": true
   },
   "outputs": [
    {
     "name": "stderr",
     "output_type": "stream",
     "text": [
      "C:\\ProgramData\\Anaconda3\\lib\\site-packages\\sklearn\\preprocessing\\data.py:625: DataConversionWarning: Data with input dtype int64, float64 were all converted to float64 by StandardScaler.\n",
      "  return self.partial_fit(X, y)\n",
      "C:\\ProgramData\\Anaconda3\\lib\\site-packages\\sklearn\\base.py:465: DataConversionWarning: Data with input dtype int64, float64 were all converted to float64 by StandardScaler.\n",
      "  return self.fit(X, y, **fit_params).transform(X)\n"
     ]
    }
   ],
   "source": [
    "start_time = process_time()\n",
    "\n",
    "svm = make_pipeline(StandardScaler(), SVC(gamma='auto'))\n",
    "svm.fit(X_train, y_train)\n",
    "y_pred = svm.predict(X_test)\n",
    "\n",
    "finish_time = process_time()\n",
    "sec = finish_time - start_time\n",
    "\n",
    "results(y_test, y_pred, sec)\n",
    "ROC_curve(y_test, svm)"
   ]
  },
  {
   "cell_type": "markdown",
   "metadata": {
    "colab_type": "text",
    "id": "k97rymn80j1_"
   },
   "source": [
    "# Уравнивание классов___ ___ ___ ___ ___ ___ ___ ___ ___ ___ ___ ___ ___ ___ ___ ___ ___ ___ ___ ___ ___ ___ ___ ___  ___ ___ ___ ___ ___ ___ "
   ]
  },
  {
   "cell_type": "markdown",
   "metadata": {
    "colab_type": "text",
    "id": "82i9IjWZEeNk"
   },
   "source": [
    "### Preprocessing"
   ]
  },
  {
   "cell_type": "code",
   "execution_count": 14,
   "metadata": {
    "colab": {
     "base_uri": "https://localhost:8080/",
     "height": 51
    },
    "colab_type": "code",
    "id": "wv8D-g720j2D",
    "outputId": "f3937ceb-81a4-4a40-d235-ef3c922fef8e"
   },
   "outputs": [
    {
     "name": "stdout",
     "output_type": "stream",
     "text": [
      "887379\n"
     ]
    },
    {
     "data": {
      "text/plain": [
       "24677"
      ]
     },
     "execution_count": 14,
     "metadata": {},
     "output_type": "execute_result"
    }
   ],
   "source": [
    "df = pd.read_csv(\"df_new_norm.csv\")\n",
    "df = df.iloc[:,1:]\n",
    "\n",
    "print(df.shape[0])\n",
    "df[df.recoveries == 1].shape[0]"
   ]
  },
  {
   "cell_type": "code",
   "execution_count": 15,
   "metadata": {
    "colab": {},
    "colab_type": "code",
    "id": "WVRV51IB0j2N"
   },
   "outputs": [
    {
     "data": {
      "text/plain": [
       "0.19635912891308574"
      ]
     },
     "execution_count": 15,
     "metadata": {},
     "output_type": "execute_result"
    }
   ],
   "source": [
    "df_1 = df[df.recoveries == 1]\n",
    "df_0 = df[df.recoveries == 0]\n",
    "df_0 = df_0.sample(100000)\n",
    "df_bal = pd.concat([df_1, df_0])\n",
    "\n",
    "df_y = df_bal['recoveries']\n",
    "df_X = df_bal.drop('recoveries', axis='columns')\n",
    "\n",
    "X_train, X_test, y_train, y_test = train_test_split( df_X, df_y, test_size=0.33, random_state=42)\n",
    "\n",
    "y_test.sum()/y_test.count()"
   ]
  },
  {
   "cell_type": "markdown",
   "metadata": {
    "colab_type": "text",
    "id": "fGuP3UN_0jxM"
   },
   "source": [
    "### LogRegression"
   ]
  },
  {
   "cell_type": "code",
   "execution_count": 16,
   "metadata": {
    "colab": {
     "base_uri": "https://localhost:8080/",
     "height": 153
    },
    "colab_type": "code",
    "id": "9y5n_TPm0jxP",
    "outputId": "e0fd80b7-e2d4-4249-9f70-1c5c720695aa"
   },
   "outputs": [
    {
     "name": "stderr",
     "output_type": "stream",
     "text": [
      "C:\\Users\\User\\anaconda3\\lib\\site-packages\\sklearn\\linear_model\\_logistic.py:940: ConvergenceWarning: lbfgs failed to converge (status=1):\n",
      "STOP: TOTAL NO. of ITERATIONS REACHED LIMIT.\n",
      "\n",
      "Increase the number of iterations (max_iter) or scale the data as shown in:\n",
      "    https://scikit-learn.org/stable/modules/preprocessing.html\n",
      "Please also refer to the documentation for alternative solver options:\n",
      "    https://scikit-learn.org/stable/modules/linear_model.html#logistic-regression\n",
      "  extra_warning_msg=_LOGISTIC_SOLVER_CONVERGENCE_MSG)\n"
     ]
    },
    {
     "name": "stdout",
     "output_type": "stream",
     "text": [
      "              precision    recall  f1-score   support\n",
      "\n",
      "   recovered       1.00      0.96      0.98     33065\n",
      "   uncovered       0.87      0.99      0.93      8079\n",
      "\n",
      "    accuracy                           0.97     41144\n",
      "   macro avg       0.93      0.98      0.95     41144\n",
      "weighted avg       0.97      0.97      0.97     41144\n",
      "\n",
      "\n",
      "Площадь под ROC-кривой - 0.9755\n",
      "\n",
      "Время работы кода - 4.5156 сек\n"
     ]
    },
    {
     "data": {
      "image/png": "[encoded data removed]",
      "text/plain": [
       "<Figure size 432x360 with 1 Axes>"
      ]
     },
     "metadata": {},
     "output_type": "display_data"
    }
   ],
   "source": [
    "start_time = process_time()\n",
    "\n",
    "clf = LogisticRegression(random_state=0)\n",
    "clf.fit(X_train, y_train)\n",
    "y_pred = clf.predict(X_test)\n",
    "\n",
    "finish_time = process_time()\n",
    "sec = finish_time - start_time\n",
    "\n",
    "results(y_test, y_pred, sec)\n",
    "ROC_curve(y_test, clf)"
   ]
  },
  {
   "cell_type": "markdown",
   "metadata": {
    "colab_type": "text",
    "id": "pH7E_MDO0jyJ"
   },
   "source": [
    "### Случайный лес"
   ]
  },
  {
   "cell_type": "code",
   "execution_count": 213,
   "metadata": {},
   "outputs": [
    {
     "name": "stdout",
     "output_type": "stream",
     "text": [
      "              precision    recall  f1-score   support\n",
      "\n",
      "   recovered       1.00      0.97      0.99     33065\n",
      "   uncovered       0.90      0.99      0.94      8079\n",
      "\n",
      "   micro avg       0.98      0.98      0.98     41144\n",
      "   macro avg       0.95      0.98      0.96     41144\n",
      "weighted avg       0.98      0.98      0.98     41144\n",
      "\n",
      "\n",
      "Площадь под ROC-кривой - 0.9828\n",
      "\n",
      "Время работы кода - 8.4375 сек\n"
     ]
    },
    {
     "data": {
      "image/png": "[encoded data removed]",
      "text/plain": [
       "<Figure size 432x360 with 1 Axes>"
      ]
     },
     "metadata": {},
     "output_type": "display_data"
    }
   ],
   "source": [
    "start_time = process_time()\n",
    "\n",
    "rf = RandomForestClassifier(n_estimators=100, random_state=11)\n",
    "rf.fit(X_train, y_train)\n",
    "y_pred = rf.predict(X_test)\n",
    "\n",
    "finish_time = process_time()\n",
    "sec = finish_time - start_time\n",
    "\n",
    "results(y_test, y_pred, sec)\n",
    "ROC_curve(y_test, rf)"
   ]
  },
  {
   "cell_type": "markdown",
   "metadata": {},
   "source": [
    "### Градиентный бустинг"
   ]
  },
  {
   "cell_type": "code",
   "execution_count": 214,
   "metadata": {},
   "outputs": [
    {
     "name": "stdout",
     "output_type": "stream",
     "text": [
      "              precision    recall  f1-score   support\n",
      "\n",
      "   recovered       1.00      0.97      0.99     33065\n",
      "   uncovered       0.90      1.00      0.95      8079\n",
      "\n",
      "   micro avg       0.98      0.98      0.98     41144\n",
      "   macro avg       0.95      0.98      0.97     41144\n",
      "weighted avg       0.98      0.98      0.98     41144\n",
      "\n",
      "\n",
      "Площадь под ROC-кривой - 0.9842\n",
      "\n",
      "Время работы кода - 36.4375 сек\n"
     ]
    },
    {
     "data": {
      "image/png": "[encoded data removed]",
      "text/plain": [
       "<Figure size 432x360 with 1 Axes>"
      ]
     },
     "metadata": {},
     "output_type": "display_data"
    }
   ],
   "source": [
    "start_time = process_time()\n",
    "\n",
    "GB = GBoost(loss = 'exponential')\n",
    "GB.fit(X_train, y_train)\n",
    "y_pred = GB.predict(X_test)\n",
    "\n",
    "finish_time = process_time()\n",
    "sec = finish_time - start_time\n",
    "\n",
    "results(y_test, y_pred, sec)\n",
    "ROC_curve(y_test, GB)"
   ]
  },
  {
   "cell_type": "markdown",
   "metadata": {},
   "source": [
    "### Наивный Байес"
   ]
  },
  {
   "cell_type": "code",
   "execution_count": 10,
   "metadata": {},
   "outputs": [
    {
     "name": "stdout",
     "output_type": "stream",
     "text": [
      "              precision    recall  f1-score   support\n",
      "\n",
      "   recovered       1.00      0.96      0.98     33065\n",
      "   uncovered       0.84      0.99      0.91      8079\n",
      "\n",
      "    accuracy                           0.96     41144\n",
      "   macro avg       0.92      0.97      0.94     41144\n",
      "weighted avg       0.97      0.96      0.96     41144\n",
      "\n",
      "\n",
      "Площадь под ROC-кривой - 0.9748\n",
      "\n",
      "Время работы кода - 0.2031 сек\n"
     ]
    },
    {
     "data": {
      "image/png": "[encoded data removed]",
      "text/plain": [
       "<Figure size 432x360 with 1 Axes>"
      ]
     },
     "metadata": {},
     "output_type": "display_data"
    }
   ],
   "source": [
    "GaussianNB\n",
    "\n",
    "start_time = process_time()\n",
    "\n",
    "Bayes = GaussianNB()\n",
    "Bayes.fit(X_train, y_train)\n",
    "y_pred = Bayes.predict(X_test)\n",
    "\n",
    "finish_time = process_time()\n",
    "sec = finish_time - start_time\n",
    "\n",
    "results(y_test, y_pred, sec)\n",
    "ROC_curve(y_test, Bayes)"
   ]
  },
  {
   "cell_type": "markdown",
   "metadata": {
    "colab_type": "text",
    "id": "cFtkciUB0j01"
   },
   "source": [
    "### K-nn"
   ]
  },
  {
   "cell_type": "code",
   "execution_count": 215,
   "metadata": {
    "colab": {},
    "colab_type": "code",
    "id": "5SWTtxAI0j02"
   },
   "outputs": [
    {
     "name": "stdout",
     "output_type": "stream",
     "text": [
      "              precision    recall  f1-score   support\n",
      "\n",
      "   recovered       0.98      0.97      0.98     33065\n",
      "   uncovered       0.88      0.93      0.91      8079\n",
      "\n",
      "   micro avg       0.96      0.96      0.96     41144\n",
      "   macro avg       0.93      0.95      0.94     41144\n",
      "weighted avg       0.96      0.96      0.96     41144\n",
      "\n",
      "\n",
      "Площадь под ROC-кривой - 0.9519\n",
      "\n",
      "Время работы кода - 190.6875 сек\n"
     ]
    },
    {
     "data": {
      "image/png": "[encoded data removed]",
      "text/plain": [
       "<Figure size 432x360 with 1 Axes>"
      ]
     },
     "metadata": {},
     "output_type": "display_data"
    }
   ],
   "source": [
    "start_time = process_time()\n",
    "\n",
    "neigh = KNeighborsClassifier(n_neighbors=3)\n",
    "neigh.fit(X_train, y_train)\n",
    "y_pred = neigh.predict(X_test)\n",
    "\n",
    "finish_time = process_time()\n",
    "sec = finish_time - start_time\n",
    "\n",
    "results(y_test, y_pred, sec)\n",
    "ROC_curve(y_test, neigh)"
   ]
  },
  {
   "cell_type": "markdown",
   "metadata": {
    "colab_type": "text",
    "id": "0EJw29ey0j1g"
   },
   "source": [
    "### SVM"
   ]
  },
  {
   "cell_type": "code",
   "execution_count": 216,
   "metadata": {
    "colab": {},
    "colab_type": "code",
    "id": "3f4gr9jW0j1n",
    "outputId": "0c8cd691-8ec4-4482-cc6c-9908f37562fb",
    "scrolled": true
   },
   "outputs": [
    {
     "name": "stdout",
     "output_type": "stream",
     "text": [
      "              precision    recall  f1-score   support\n",
      "\n",
      "   recovered       1.00      0.97      0.98     33065\n",
      "   uncovered       0.87      0.99      0.93      8079\n",
      "\n",
      "   micro avg       0.97      0.97      0.97     41144\n",
      "   macro avg       0.94      0.98      0.95     41144\n",
      "weighted avg       0.97      0.97      0.97     41144\n",
      "\n",
      "\n",
      "Площадь под ROC-кривой - 0.9761\n",
      "\n",
      "Время работы кода - 282.8906 сек\n"
     ]
    },
    {
     "data": {
      "image/png": "[encoded data removed]",
      "text/plain": [
       "<Figure size 432x360 with 1 Axes>"
      ]
     },
     "metadata": {},
     "output_type": "display_data"
    }
   ],
   "source": [
    "start_time = process_time()\n",
    "\n",
    "svm = make_pipeline(StandardScaler(), SVC(gamma='auto'))\n",
    "svm.fit(X_train, y_train)\n",
    "y_pred = svm.predict(X_test)\n",
    "\n",
    "finish_time = process_time()\n",
    "sec = finish_time - start_time\n",
    "\n",
    "results(y_test, y_pred, sec)\n",
    "ROC_curve(y_test, svm)"
   ]
  },
  {
   "cell_type": "markdown",
   "metadata": {
    "colab_type": "text",
    "id": "4LKuDf-tArOw"
   },
   "source": [
    "# Отбор признаков ___ ___ ___ ___ ___ ___ ___ ___ ___ ___ ___ ___ ___ ___ ___ ___ ___ ___ ___ ___ ___ ___ ___ ___ ___ ___ ___ ___ ___ ___ ___ "
   ]
  },
  {
   "cell_type": "markdown",
   "metadata": {
    "colab_type": "text",
    "id": "n7IVjUp1Ej3T"
   },
   "source": [
    "### Preprocessing"
   ]
  },
  {
   "cell_type": "code",
   "execution_count": 11,
   "metadata": {
    "colab": {},
    "colab_type": "code",
    "id": "GmA5KZkCAupw"
   },
   "outputs": [
    {
     "name": "stdout",
     "output_type": "stream",
     "text": [
      "50\n",
      "\n",
      "\n"
     ]
    },
    {
     "name": "stderr",
     "output_type": "stream",
     "text": [
      "C:\\Users\\User\\anaconda3\\lib\\site-packages\\sklearn\\linear_model\\_logistic.py:940: ConvergenceWarning: lbfgs failed to converge (status=1):\n",
      "STOP: TOTAL NO. of ITERATIONS REACHED LIMIT.\n",
      "\n",
      "Increase the number of iterations (max_iter) or scale the data as shown in:\n",
      "    https://scikit-learn.org/stable/modules/preprocessing.html\n",
      "Please also refer to the documentation for alternative solver options:\n",
      "    https://scikit-learn.org/stable/modules/linear_model.html#logistic-regression\n",
      "  extra_warning_msg=_LOGISTIC_SOLVER_CONVERGENCE_MSG)\n",
      "C:\\Users\\User\\anaconda3\\lib\\site-packages\\sklearn\\linear_model\\_logistic.py:940: ConvergenceWarning: lbfgs failed to converge (status=1):\n",
      "STOP: TOTAL NO. of ITERATIONS REACHED LIMIT.\n",
      "\n",
      "Increase the number of iterations (max_iter) or scale the data as shown in:\n",
      "    https://scikit-learn.org/stable/modules/preprocessing.html\n",
      "Please also refer to the documentation for alternative solver options:\n",
      "    https://scikit-learn.org/stable/modules/linear_model.html#logistic-regression\n",
      "  extra_warning_msg=_LOGISTIC_SOLVER_CONVERGENCE_MSG)\n",
      "C:\\Users\\User\\anaconda3\\lib\\site-packages\\sklearn\\linear_model\\_logistic.py:940: ConvergenceWarning: lbfgs failed to converge (status=1):\n",
      "STOP: TOTAL NO. of ITERATIONS REACHED LIMIT.\n",
      "\n",
      "Increase the number of iterations (max_iter) or scale the data as shown in:\n",
      "    https://scikit-learn.org/stable/modules/preprocessing.html\n",
      "Please also refer to the documentation for alternative solver options:\n",
      "    https://scikit-learn.org/stable/modules/linear_model.html#logistic-regression\n",
      "  extra_warning_msg=_LOGISTIC_SOLVER_CONVERGENCE_MSG)\n",
      "C:\\Users\\User\\anaconda3\\lib\\site-packages\\sklearn\\linear_model\\_logistic.py:940: ConvergenceWarning: lbfgs failed to converge (status=1):\n",
      "STOP: TOTAL NO. of ITERATIONS REACHED LIMIT.\n",
      "\n",
      "Increase the number of iterations (max_iter) or scale the data as shown in:\n",
      "    https://scikit-learn.org/stable/modules/preprocessing.html\n",
      "Please also refer to the documentation for alternative solver options:\n",
      "    https://scikit-learn.org/stable/modules/linear_model.html#logistic-regression\n",
      "  extra_warning_msg=_LOGISTIC_SOLVER_CONVERGENCE_MSG)\n",
      "C:\\Users\\User\\anaconda3\\lib\\site-packages\\sklearn\\linear_model\\_logistic.py:940: ConvergenceWarning: lbfgs failed to converge (status=1):\n",
      "STOP: TOTAL NO. of ITERATIONS REACHED LIMIT.\n",
      "\n",
      "Increase the number of iterations (max_iter) or scale the data as shown in:\n",
      "    https://scikit-learn.org/stable/modules/preprocessing.html\n",
      "Please also refer to the documentation for alternative solver options:\n",
      "    https://scikit-learn.org/stable/modules/linear_model.html#logistic-regression\n",
      "  extra_warning_msg=_LOGISTIC_SOLVER_CONVERGENCE_MSG)\n"
     ]
    },
    {
     "name": "stdout",
     "output_type": "stream",
     "text": [
      "-0.24506238173651723\n",
      "-0.21292174022039853\n"
     ]
    }
   ],
   "source": [
    "#df = pd.read_csv(\"df_new_norm.csv\")\n",
    "#df = df.iloc[:,1:]\n",
    "\n",
    "df_1 = df[df.recoveries == 1]\n",
    "df_0 = df[df.recoveries == 0]\n",
    "df_0 = df_0.sample(100000)\n",
    "df_bal = pd.concat([df_1, df_0])\n",
    "\n",
    "df_y = df_bal['recoveries']\n",
    "df_X = df_bal.drop('recoveries', axis=1)\n",
    "\n",
    "\n",
    "print(df_X.shape[1])\n",
    "print('\\n')\n",
    "\n",
    "print(cross_val_score(LogisticRegression(), df_X, df_y, scoring='neg_log_loss').mean())\n",
    "x_data_kbest = SelectKBest(f_classif, k=20).fit_transform(df_X, df_y)\n",
    "print(cross_val_score(LogisticRegression(), x_data_kbest, df_y, scoring='neg_log_loss').mean())\n",
    "\n",
    "df_X = x_data_kbest\n",
    "X_train, X_test, y_train, y_test = train_test_split( df_X, df_y, test_size=0.33, random_state=42)"
   ]
  },
  {
   "cell_type": "markdown",
   "metadata": {
    "colab_type": "text",
    "id": "fGuP3UN_0jxM"
   },
   "source": [
    "### LogRegression"
   ]
  },
  {
   "cell_type": "code",
   "execution_count": 183,
   "metadata": {
    "colab": {
     "base_uri": "https://localhost:8080/",
     "height": 153
    },
    "colab_type": "code",
    "id": "9y5n_TPm0jxP",
    "outputId": "e0fd80b7-e2d4-4249-9f70-1c5c720695aa"
   },
   "outputs": [
    {
     "name": "stderr",
     "output_type": "stream",
     "text": [
      "C:\\ProgramData\\Anaconda3\\lib\\site-packages\\sklearn\\linear_model\\logistic.py:433: FutureWarning: Default solver will be changed to 'lbfgs' in 0.22. Specify a solver to silence this warning.\n",
      "  FutureWarning)\n"
     ]
    },
    {
     "name": "stdout",
     "output_type": "stream",
     "text": [
      "              precision    recall  f1-score   support\n",
      "\n",
      "   recovered       1.00      0.97      0.98     33065\n",
      "   uncovered       0.88      0.99      0.93      8079\n",
      "\n",
      "   micro avg       0.97      0.97      0.97     41144\n",
      "   macro avg       0.94      0.98      0.95     41144\n",
      "weighted avg       0.97      0.97      0.97     41144\n",
      "\n",
      "\n",
      "Площадь под ROC-кривой - 0.976\n",
      "\n",
      "Время работы кода - 1.7656 сек\n"
     ]
    },
    {
     "data": {
      "image/png": "[encoded data removed]",
      "text/plain": [
       "<Figure size 432x360 with 1 Axes>"
      ]
     },
     "metadata": {},
     "output_type": "display_data"
    }
   ],
   "source": [
    "start_time = process_time()\n",
    "\n",
    "clf = LogisticRegression(random_state=0)\n",
    "clf.fit(X_train, y_train)\n",
    "y_pred = clf.predict(X_test)\n",
    "\n",
    "finish_time = process_time()\n",
    "sec = finish_time - start_time\n",
    "\n",
    "results(y_test, y_pred, sec)\n",
    "ROC_curve(y_test, clf)"
   ]
  },
  {
   "cell_type": "markdown",
   "metadata": {
    "colab_type": "text",
    "id": "pH7E_MDO0jyJ"
   },
   "source": [
    "### Случайный лес"
   ]
  },
  {
   "cell_type": "code",
   "execution_count": 184,
   "metadata": {},
   "outputs": [
    {
     "name": "stdout",
     "output_type": "stream",
     "text": [
      "              precision    recall  f1-score   support\n",
      "\n",
      "   recovered       1.00      0.97      0.98     33065\n",
      "   uncovered       0.90      0.99      0.94      8079\n",
      "\n",
      "   micro avg       0.98      0.98      0.98     41144\n",
      "   macro avg       0.95      0.98      0.96     41144\n",
      "weighted avg       0.98      0.98      0.98     41144\n",
      "\n",
      "\n",
      "Площадь под ROC-кривой - 0.9817\n",
      "\n",
      "Время работы кода - 10.6719 сек\n"
     ]
    },
    {
     "data": {
      "image/png": "[encoded data removed]",
      "text/plain": [
       "<Figure size 432x360 with 1 Axes>"
      ]
     },
     "metadata": {},
     "output_type": "display_data"
    }
   ],
   "source": [
    "start_time = process_time()\n",
    "\n",
    "rf = RandomForestClassifier(n_estimators=100, random_state=11)\n",
    "rf.fit(X_train, y_train)\n",
    "y_pred = rf.predict(X_test)\n",
    "\n",
    "finish_time = process_time()\n",
    "sec = finish_time - start_time\n",
    "\n",
    "results(y_test, y_pred, sec)\n",
    "ROC_curve(y_test, rf)"
   ]
  },
  {
   "cell_type": "markdown",
   "metadata": {},
   "source": [
    "### Градиентный бустинг"
   ]
  },
  {
   "cell_type": "code",
   "execution_count": 180,
   "metadata": {},
   "outputs": [
    {
     "name": "stdout",
     "output_type": "stream",
     "text": [
      "              precision    recall  f1-score   support\n",
      "\n",
      "   recovered       1.00      0.97      0.98     33065\n",
      "   uncovered       0.89      1.00      0.94      8079\n",
      "\n",
      "   micro avg       0.98      0.98      0.98     41144\n",
      "   macro avg       0.95      0.98      0.96     41144\n",
      "weighted avg       0.98      0.98      0.98     41144\n",
      "\n",
      "\n",
      "Площадь под ROC-кривой - 0.9833\n",
      "\n",
      "Время работы кода - 38.3594 сек\n"
     ]
    },
    {
     "data": {
      "image/png": "[encoded data removed]",
      "text/plain": [
       "<Figure size 432x360 with 1 Axes>"
      ]
     },
     "metadata": {},
     "output_type": "display_data"
    }
   ],
   "source": [
    "start_time = process_time()\n",
    "\n",
    "GB = GBoost(loss = 'exponential')\n",
    "GB.fit(X_train, y_train)\n",
    "y_pred = GB.predict(X_test)\n",
    "\n",
    "finish_time = process_time()\n",
    "sec = finish_time - start_time\n",
    "\n",
    "results(y_test, y_pred, sec)\n",
    "ROC_curve(y_test, GB)"
   ]
  },
  {
   "cell_type": "markdown",
   "metadata": {},
   "source": [
    "### Наивный Байес"
   ]
  },
  {
   "cell_type": "code",
   "execution_count": 10,
   "metadata": {},
   "outputs": [
    {
     "name": "stdout",
     "output_type": "stream",
     "text": [
      "              precision    recall  f1-score   support\n",
      "\n",
      "   recovered       1.00      0.96      0.98     33065\n",
      "   uncovered       0.84      0.99      0.91      8079\n",
      "\n",
      "    accuracy                           0.96     41144\n",
      "   macro avg       0.92      0.97      0.94     41144\n",
      "weighted avg       0.97      0.96      0.96     41144\n",
      "\n",
      "\n",
      "Площадь под ROC-кривой - 0.9748\n",
      "\n",
      "Время работы кода - 0.2031 сек\n"
     ]
    },
    {
     "data": {
      "image/png": "[encoded data removed]",
      "text/plain": [
       "<Figure size 432x360 with 1 Axes>"
      ]
     },
     "metadata": {},
     "output_type": "display_data"
    }
   ],
   "source": [
    "GaussianNB\n",
    "\n",
    "start_time = process_time()\n",
    "\n",
    "Bayes = GaussianNB()\n",
    "Bayes.fit(X_train, y_train)\n",
    "y_pred = Bayes.predict(X_test)\n",
    "\n",
    "finish_time = process_time()\n",
    "sec = finish_time - start_time\n",
    "\n",
    "results(y_test, y_pred, sec)\n",
    "ROC_curve(y_test, Bayes)"
   ]
  },
  {
   "cell_type": "markdown",
   "metadata": {
    "colab_type": "text",
    "id": "cFtkciUB0j01"
   },
   "source": [
    "### K-nn"
   ]
  },
  {
   "cell_type": "code",
   "execution_count": 185,
   "metadata": {
    "colab": {},
    "colab_type": "code",
    "id": "5SWTtxAI0j02"
   },
   "outputs": [
    {
     "name": "stdout",
     "output_type": "stream",
     "text": [
      "              precision    recall  f1-score   support\n",
      "\n",
      "   recovered       0.98      0.97      0.98     33065\n",
      "   uncovered       0.88      0.94      0.91      8079\n",
      "\n",
      "   micro avg       0.96      0.96      0.96     41144\n",
      "   macro avg       0.93      0.95      0.94     41144\n",
      "weighted avg       0.96      0.96      0.96     41144\n",
      "\n",
      "\n",
      "Площадь под ROC-кривой - 0.9523\n",
      "\n",
      "Время работы кода - 232.5625 сек\n"
     ]
    },
    {
     "data": {
      "image/png": "[encoded data removed]",
      "text/plain": [
       "<Figure size 432x360 with 1 Axes>"
      ]
     },
     "metadata": {},
     "output_type": "display_data"
    }
   ],
   "source": [
    "start_time = process_time()\n",
    "\n",
    "neigh = KNeighborsClassifier(n_neighbors=3)\n",
    "neigh.fit(X_train, y_train)\n",
    "y_pred = neigh.predict(X_test)\n",
    "\n",
    "finish_time = process_time()\n",
    "sec = finish_time - start_time\n",
    "\n",
    "results(y_test, y_pred, sec)\n",
    "ROC_curve(y_test, neigh)"
   ]
  },
  {
   "cell_type": "markdown",
   "metadata": {
    "colab_type": "text",
    "id": "0EJw29ey0j1g"
   },
   "source": [
    "### SVM"
   ]
  },
  {
   "cell_type": "code",
   "execution_count": null,
   "metadata": {
    "colab": {},
    "colab_type": "code",
    "id": "3f4gr9jW0j1n",
    "outputId": "0c8cd691-8ec4-4482-cc6c-9908f37562fb",
    "scrolled": true
   },
   "outputs": [
    {
     "name": "stderr",
     "output_type": "stream",
     "text": [
      "C:\\ProgramData\\Anaconda3\\lib\\site-packages\\sklearn\\preprocessing\\data.py:625: DataConversionWarning: Data with input dtype int64, float64 were all converted to float64 by StandardScaler.\n",
      "  return self.partial_fit(X, y)\n",
      "C:\\ProgramData\\Anaconda3\\lib\\site-packages\\sklearn\\base.py:465: DataConversionWarning: Data with input dtype int64, float64 were all converted to float64 by StandardScaler.\n",
      "  return self.fit(X, y, **fit_params).transform(X)\n"
     ]
    }
   ],
   "source": [
    "start_time = process_time()\n",
    "\n",
    "svm = make_pipeline(StandardScaler(), SVC(gamma='auto'))\n",
    "svm.fit(X_train, y_train)\n",
    "y_pred = svm.predict(X_test)\n",
    "\n",
    "finish_time = process_time()\n",
    "sec = finish_time - start_time\n",
    "\n",
    "results(y_test, y_pred, sec)\n",
    "ROC_curve(y_test, svm)"
   ]
  },
  {
   "cell_type": "markdown",
   "metadata": {
    "colab_type": "text",
    "id": "05rr-UU7V7yv"
   },
   "source": [
    "# Доработка моделей ___ ___ ___ ___ ___ ___ ___ ___ ___ ___ ___ ___ ___ ___ ___ ___ ___ ___ ___ ___ ___ ___ ___ ___ ___ ___ ___ ___ ___ ___  "
   ]
  },
  {
   "cell_type": "markdown",
   "metadata": {
    "colab_type": "text",
    "id": "y_9xNar_E4Wm"
   },
   "source": [
    "### Preprocessing"
   ]
  },
  {
   "cell_type": "code",
   "execution_count": 17,
   "metadata": {
    "colab": {},
    "colab_type": "code",
    "id": "Zfn_JUU6E4Wo"
   },
   "outputs": [
    {
     "data": {
      "text/html": [
       "<div>\n",
       "<style scoped>\n",
       "    .dataframe tbody tr th:only-of-type {\n",
       "        vertical-align: middle;\n",
       "    }\n",
       "\n",
       "    .dataframe tbody tr th {\n",
       "        vertical-align: top;\n",
       "    }\n",
       "\n",
       "    .dataframe thead th {\n",
       "        text-align: right;\n",
       "    }\n",
       "</style>\n",
       "<table border=\"1\" class=\"dataframe\">\n",
       "  <thead>\n",
       "    <tr style=\"text-align: right;\">\n",
       "      <th></th>\n",
       "      <th>final_d</th>\n",
       "      <th>emp_length_int</th>\n",
       "      <th>annual_inc</th>\n",
       "      <th>loan_condition_cat</th>\n",
       "      <th>interest_rate</th>\n",
       "      <th>dti</th>\n",
       "      <th>total_pymnt</th>\n",
       "      <th>recoveries</th>\n",
       "      <th>installment</th>\n",
       "      <th>year_2008y</th>\n",
       "      <th>...</th>\n",
       "      <th>grade_A</th>\n",
       "      <th>grade_B</th>\n",
       "      <th>grade_C</th>\n",
       "      <th>grade_D</th>\n",
       "      <th>grade_E</th>\n",
       "      <th>grade_F</th>\n",
       "      <th>region_Northern-Irl</th>\n",
       "      <th>region_cannught</th>\n",
       "      <th>region_leinster</th>\n",
       "      <th>region_ulster</th>\n",
       "    </tr>\n",
       "  </thead>\n",
       "  <tbody>\n",
       "    <tr>\n",
       "      <th>0</th>\n",
       "      <td>0.000064</td>\n",
       "      <td>1.000000</td>\n",
       "      <td>0.002526</td>\n",
       "      <td>0.0</td>\n",
       "      <td>0.225180</td>\n",
       "      <td>0.002765</td>\n",
       "      <td>0.101442</td>\n",
       "      <td>0.0</td>\n",
       "      <td>0.102952</td>\n",
       "      <td>0.0</td>\n",
       "      <td>...</td>\n",
       "      <td>0.0</td>\n",
       "      <td>1.0</td>\n",
       "      <td>0.0</td>\n",
       "      <td>0.0</td>\n",
       "      <td>0.0</td>\n",
       "      <td>0.0</td>\n",
       "      <td>0.0</td>\n",
       "      <td>0.0</td>\n",
       "      <td>0.0</td>\n",
       "      <td>0.0</td>\n",
       "    </tr>\n",
       "    <tr>\n",
       "      <th>1</th>\n",
       "      <td>0.272755</td>\n",
       "      <td>0.000000</td>\n",
       "      <td>0.003158</td>\n",
       "      <td>1.0</td>\n",
       "      <td>0.420363</td>\n",
       "      <td>0.000100</td>\n",
       "      <td>0.017459</td>\n",
       "      <td>1.0</td>\n",
       "      <td>0.030886</td>\n",
       "      <td>0.0</td>\n",
       "      <td>...</td>\n",
       "      <td>0.0</td>\n",
       "      <td>0.0</td>\n",
       "      <td>1.0</td>\n",
       "      <td>0.0</td>\n",
       "      <td>0.0</td>\n",
       "      <td>0.0</td>\n",
       "      <td>0.0</td>\n",
       "      <td>0.0</td>\n",
       "      <td>1.0</td>\n",
       "      <td>0.0</td>\n",
       "    </tr>\n",
       "    <tr>\n",
       "      <th>2</th>\n",
       "      <td>0.454571</td>\n",
       "      <td>1.000000</td>\n",
       "      <td>0.001290</td>\n",
       "      <td>0.0</td>\n",
       "      <td>0.449514</td>\n",
       "      <td>0.000872</td>\n",
       "      <td>0.051986</td>\n",
       "      <td>0.0</td>\n",
       "      <td>0.048021</td>\n",
       "      <td>0.0</td>\n",
       "      <td>...</td>\n",
       "      <td>0.0</td>\n",
       "      <td>0.0</td>\n",
       "      <td>1.0</td>\n",
       "      <td>0.0</td>\n",
       "      <td>0.0</td>\n",
       "      <td>0.0</td>\n",
       "      <td>0.0</td>\n",
       "      <td>1.0</td>\n",
       "      <td>0.0</td>\n",
       "      <td>0.0</td>\n",
       "    </tr>\n",
       "    <tr>\n",
       "      <th>3</th>\n",
       "      <td>0.000064</td>\n",
       "      <td>1.000000</td>\n",
       "      <td>0.005179</td>\n",
       "      <td>0.0</td>\n",
       "      <td>0.345163</td>\n",
       "      <td>0.002000</td>\n",
       "      <td>0.211610</td>\n",
       "      <td>0.0</td>\n",
       "      <td>0.226355</td>\n",
       "      <td>0.0</td>\n",
       "      <td>...</td>\n",
       "      <td>0.0</td>\n",
       "      <td>0.0</td>\n",
       "      <td>1.0</td>\n",
       "      <td>0.0</td>\n",
       "      <td>0.0</td>\n",
       "      <td>0.0</td>\n",
       "      <td>0.0</td>\n",
       "      <td>0.0</td>\n",
       "      <td>0.0</td>\n",
       "      <td>1.0</td>\n",
       "    </tr>\n",
       "    <tr>\n",
       "      <th>4</th>\n",
       "      <td>0.000073</td>\n",
       "      <td>0.052632</td>\n",
       "      <td>0.008421</td>\n",
       "      <td>0.0</td>\n",
       "      <td>0.311365</td>\n",
       "      <td>0.001794</td>\n",
       "      <td>0.056115</td>\n",
       "      <td>0.0</td>\n",
       "      <td>0.036453</td>\n",
       "      <td>0.0</td>\n",
       "      <td>...</td>\n",
       "      <td>0.0</td>\n",
       "      <td>1.0</td>\n",
       "      <td>0.0</td>\n",
       "      <td>0.0</td>\n",
       "      <td>0.0</td>\n",
       "      <td>0.0</td>\n",
       "      <td>0.0</td>\n",
       "      <td>0.0</td>\n",
       "      <td>0.0</td>\n",
       "      <td>1.0</td>\n",
       "    </tr>\n",
       "  </tbody>\n",
       "</table>\n",
       "<p>5 rows × 51 columns</p>\n",
       "</div>"
      ],
      "text/plain": [
       "    final_d  emp_length_int  annual_inc  loan_condition_cat  interest_rate  \\\n",
       "0  0.000064        1.000000    0.002526                 0.0       0.225180   \n",
       "1  0.272755        0.000000    0.003158                 1.0       0.420363   \n",
       "2  0.454571        1.000000    0.001290                 0.0       0.449514   \n",
       "3  0.000064        1.000000    0.005179                 0.0       0.345163   \n",
       "4  0.000073        0.052632    0.008421                 0.0       0.311365   \n",
       "\n",
       "        dti  total_pymnt  recoveries  installment  year_2008y  ...  grade_A  \\\n",
       "0  0.002765     0.101442         0.0     0.102952         0.0  ...      0.0   \n",
       "1  0.000100     0.017459         1.0     0.030886         0.0  ...      0.0   \n",
       "2  0.000872     0.051986         0.0     0.048021         0.0  ...      0.0   \n",
       "3  0.002000     0.211610         0.0     0.226355         0.0  ...      0.0   \n",
       "4  0.001794     0.056115         0.0     0.036453         0.0  ...      0.0   \n",
       "\n",
       "   grade_B  grade_C  grade_D  grade_E  grade_F  region_Northern-Irl  \\\n",
       "0      1.0      0.0      0.0      0.0      0.0                  0.0   \n",
       "1      0.0      1.0      0.0      0.0      0.0                  0.0   \n",
       "2      0.0      1.0      0.0      0.0      0.0                  0.0   \n",
       "3      0.0      1.0      0.0      0.0      0.0                  0.0   \n",
       "4      1.0      0.0      0.0      0.0      0.0                  0.0   \n",
       "\n",
       "   region_cannught  region_leinster  region_ulster  \n",
       "0              0.0              0.0            0.0  \n",
       "1              0.0              1.0            0.0  \n",
       "2              1.0              0.0            0.0  \n",
       "3              0.0              0.0            1.0  \n",
       "4              0.0              0.0            1.0  \n",
       "\n",
       "[5 rows x 51 columns]"
      ]
     },
     "execution_count": 17,
     "metadata": {},
     "output_type": "execute_result"
    }
   ],
   "source": [
    "df = pd.read_csv(\"df_new_norm.csv\")\n",
    "df = df.iloc[:,1:]\n",
    "\n",
    "df_1 = df[df.recoveries == 1]\n",
    "df_0 = df[df.recoveries == 0]\n",
    "df_0 = df_0.sample(100000)\n",
    "df_bal = pd.concat([df_1, df_0])\n",
    "\n",
    "df_y = df_bal['recoveries']\n",
    "df_X = df_bal.drop('recoveries', axis=1)\n",
    "\n",
    "X_train, X_test, y_train, y_test = train_test_split( df_X, df_y, test_size=0.33, random_state=42)\n",
    "df.head()"
   ]
  },
  {
   "cell_type": "markdown",
   "metadata": {
    "colab_type": "text",
    "id": "62BxcjWwWB1k"
   },
   "source": [
    "### LogRegression"
   ]
  },
  {
   "cell_type": "code",
   "execution_count": 200,
   "metadata": {
    "colab": {
     "base_uri": "https://localhost:8080/",
     "height": 289
    },
    "colab_type": "code",
    "id": "jMr5GAHDa8KR",
    "outputId": "4fa3ca77-b8ec-4ce0-8570-64ae084285e1"
   },
   "outputs": [
    {
     "name": "stderr",
     "output_type": "stream",
     "text": [
      "C:\\ProgramData\\Anaconda3\\lib\\site-packages\\sklearn\\model_selection\\_split.py:2053: FutureWarning: You should specify a value for 'cv' instead of relying on the default value. The default value will change from 3 to 5 in version 0.22.\n",
      "  warnings.warn(CV_WARNING, FutureWarning)\n",
      "C:\\ProgramData\\Anaconda3\\lib\\site-packages\\sklearn\\linear_model\\sag.py:334: ConvergenceWarning: The max_iter was reached which means the coef_ did not converge\n",
      "  \"the coef_ did not converge\", ConvergenceWarning)\n"
     ]
    }
   ],
   "source": [
    "start_time = process_time()\n",
    "\n",
    "parameters = {\n",
    "    'C'      : [0.001,0.01,0.1,1,10,100,1000],\n",
    "    'penalty': ['l1','l2']\n",
    "    }\n",
    "\n",
    "gr_lr = GridSearchCV(LogisticRegression(solver = 'saga', n_jobs=-1, random_state=17), parameters)\n",
    "gr_lr.fit(X_train, y_train)\n",
    "\n",
    "finish_time = process_time()\n",
    "sec = finish_time - start_time"
   ]
  },
  {
   "cell_type": "code",
   "execution_count": 29,
   "metadata": {
    "colab": {},
    "colab_type": "code",
    "id": "koh_riLTa7nK"
   },
   "outputs": [
    {
     "name": "stdout",
     "output_type": "stream",
     "text": [
      "              precision    recall  f1-score   support\n",
      "\n",
      "   recovered       1.00      0.97      0.98     33065\n",
      "   uncovered       0.87      0.99      0.93      8079\n",
      "\n",
      "    accuracy                           0.97     41144\n",
      "   macro avg       0.94      0.98      0.95     41144\n",
      "weighted avg       0.97      0.97      0.97     41144\n",
      "\n",
      "\n",
      "Площадь под ROC-кривой - 0.9754\n",
      "\n",
      "Время работы кода - 0.1094 сек\n"
     ]
    },
    {
     "data": {
      "image/png": "[encoded data removed]",
      "text/plain": [
       "<Figure size 432x360 with 1 Axes>"
      ]
     },
     "metadata": {},
     "output_type": "display_data"
    }
   ],
   "source": [
    "start_time = process_time()\n",
    "\n",
    "clf = LogisticRegression(C=100, n_jobs=-1, random_state=17)\n",
    "clf.fit(X_train, y_train)\n",
    "y_pred = clf.predict(X_test)\n",
    "clf_res = y_pred\n",
    "\n",
    "finish_time = process_time()\n",
    "sec = finish_time - start_time\n",
    "\n",
    "results(y_test, y_pred, sec)\n",
    "ROC_curve(y_test, clf)"
   ]
  },
  {
   "cell_type": "markdown",
   "metadata": {
    "colab_type": "text",
    "id": "aHRUAb8ic4Eb"
   },
   "source": [
    "### Случайный лес"
   ]
  },
  {
   "cell_type": "code",
   "execution_count": 203,
   "metadata": {
    "colab": {
     "base_uri": "https://localhost:8080/",
     "height": 374
    },
    "colab_type": "code",
    "id": "eWiPci4Hc3tE",
    "outputId": "0c417b74-668e-4a11-c9cf-b296da3539f0"
   },
   "outputs": [],
   "source": [
    "start_time = process_time()\n",
    "\n",
    "parameters = {\n",
    "    'n_estimators'      : [100,150,200],\n",
    "    'max_depth'         : [7, 10, 13]\n",
    "    }\n",
    "\n",
    "gr_rf = GridSearchCV(ensemble.RandomForestClassifier(), parameters, cv=10, n_jobs=-1)\n",
    "gr_rf.fit(X_train, y_train)\n",
    "\n",
    "finish_time = process_time()\n",
    "sec = finish_time - start_time"
   ]
  },
  {
   "cell_type": "code",
   "execution_count": 87,
   "metadata": {
    "colab": {
     "base_uri": "https://localhost:8080/",
     "height": 34
    },
    "colab_type": "code",
    "id": "Kcaj4MSJc3qa",
    "outputId": "38a73e61-1c6a-4226-c81a-c29f2be1605f"
   },
   "outputs": [
    {
     "data": {
      "text/plain": [
       "{'max_depth': 13, 'n_estimators': 100}"
      ]
     },
     "execution_count": 87,
     "metadata": {},
     "output_type": "execute_result"
    }
   ],
   "source": [
    "print(round(sec), 4)\n",
    "gr_rf.best_params_"
   ]
  },
  {
   "cell_type": "code",
   "execution_count": 30,
   "metadata": {
    "colab": {
     "base_uri": "https://localhost:8080/",
     "height": 153
    },
    "colab_type": "code",
    "id": "zklUuGIjdCXF",
    "outputId": "98251772-1650-4959-9687-020f199dbb0a"
   },
   "outputs": [
    {
     "name": "stdout",
     "output_type": "stream",
     "text": [
      "              precision    recall  f1-score   support\n",
      "\n",
      "   recovered       1.00      0.97      0.98     33065\n",
      "   uncovered       0.89      0.99      0.94      8079\n",
      "\n",
      "    accuracy                           0.97     41144\n",
      "   macro avg       0.94      0.98      0.96     41144\n",
      "weighted avg       0.98      0.97      0.97     41144\n",
      "\n",
      "\n",
      "Площадь под ROC-кривой - 0.9816\n",
      "\n",
      "Время работы кода - 5.9062 сек\n"
     ]
    },
    {
     "data": {
      "image/png": "[encoded data removed]",
      "text/plain": [
       "<Figure size 432x360 with 1 Axes>"
      ]
     },
     "metadata": {},
     "output_type": "display_data"
    }
   ],
   "source": [
    "start_time = process_time()\n",
    "\n",
    "rf = ensemble.RandomForestClassifier(n_estimators=100, random_state=0, max_depth = 13, min_samples_leaf = 5)\n",
    "rf.fit(X_train, y_train)\n",
    "y_pred = rf.predict(X_test)\n",
    "rf_res = y_pred\n",
    "\n",
    "finish_time = process_time()\n",
    "sec = finish_time - start_time\n",
    "\n",
    "results(y_test, y_pred, sec)\n",
    "ROC_curve(y_test, rf)"
   ]
  },
  {
   "cell_type": "markdown",
   "metadata": {},
   "source": [
    "### Градиентный бустинг"
   ]
  },
  {
   "cell_type": "code",
   "execution_count": 153,
   "metadata": {},
   "outputs": [
    {
     "data": {
      "text/plain": [
       "GridSearchCV(cv=10, error_score='raise-deprecating',\n",
       "       estimator=GradientBoostingClassifier(criterion='friedman_mse', init=None,\n",
       "              learning_rate=0.1, loss='exponential', max_depth=3,\n",
       "              max_features=None, max_leaf_nodes=None,\n",
       "              min_impurity_decrease=0.0, min_impurity_split=None,\n",
       "              min_samples_leaf=1, min_sa...      subsample=1.0, tol=0.0001, validation_fraction=0.1,\n",
       "              verbose=0, warm_start=False),\n",
       "       fit_params=None, iid='warn', n_jobs=-1,\n",
       "       param_grid={'n_estimators': [100, 150, 200], 'max_depth': [3, 5, 7]},\n",
       "       pre_dispatch='2*n_jobs', refit=True, return_train_score='warn',\n",
       "       scoring=None, verbose=0)"
      ]
     },
     "execution_count": 153,
     "metadata": {},
     "output_type": "execute_result"
    }
   ],
   "source": [
    "start_time = process_time()\n",
    "\n",
    "parameters = {\n",
    "    'n_estimators'      : [100,150,200],\n",
    "    'max_depth'         : [3, 5, 7]\n",
    "    }\n",
    "\n",
    "gr_gb = GridSearchCV(GBoost(loss = 'exponential'), parameters, cv=10, n_jobs=-1)\n",
    "gr_gb.fit(X_train, y_train)\n",
    "\n",
    "finish_time = process_time()\n",
    "sec = finish_time - start_time"
   ]
  },
  {
   "cell_type": "code",
   "execution_count": 154,
   "metadata": {},
   "outputs": [
    {
     "data": {
      "text/plain": [
       "{'max_depth': 7, 'n_estimators': 200}"
      ]
     },
     "execution_count": 154,
     "metadata": {},
     "output_type": "execute_result"
    }
   ],
   "source": [
    "print(round(sec), 4)\n",
    "gr_gb.best_params_"
   ]
  },
  {
   "cell_type": "code",
   "execution_count": 31,
   "metadata": {},
   "outputs": [
    {
     "name": "stdout",
     "output_type": "stream",
     "text": [
      "              precision    recall  f1-score   support\n",
      "\n",
      "   recovered       1.00      0.98      0.99     33065\n",
      "   uncovered       0.94      0.99      0.96      8079\n",
      "\n",
      "    accuracy                           0.98     41144\n",
      "   macro avg       0.97      0.98      0.98     41144\n",
      "weighted avg       0.98      0.98      0.98     41144\n",
      "\n",
      "\n",
      "Площадь под ROC-кривой - 0.9846\n",
      "\n",
      "Время работы кода - 76.0938 сек\n"
     ]
    },
    {
     "data": {
      "image/png": "[encoded data removed]",
      "text/plain": [
       "<Figure size 432x360 with 1 Axes>"
      ]
     },
     "metadata": {},
     "output_type": "display_data"
    }
   ],
   "source": [
    "start_time = process_time()\n",
    "\n",
    "GB = GBoost(loss = 'exponential', max_depth  = 7, n_estimators = 200)\n",
    "GB.fit(X_train, y_train)\n",
    "y_pred = GB.predict(X_test)\n",
    "gb_res = y_pred\n",
    "\n",
    "\n",
    "finish_time = process_time()\n",
    "sec = finish_time - start_time\n",
    "\n",
    "results(y_test, y_pred, sec)\n",
    "ROC_curve(y_test, GB)"
   ]
  },
  {
   "cell_type": "markdown",
   "metadata": {},
   "source": [
    "### Наивный Байес"
   ]
  },
  {
   "cell_type": "code",
   "execution_count": null,
   "metadata": {},
   "outputs": [],
   "source": [
    "start_time = process_time()\n",
    "\n",
    "parameters = {\n",
    "    'n_estimators'      : [100,150,200],\n",
    "    'max_depth'         : [3, 5, 7]\n",
    "    }\n",
    "\n",
    "gr_Bayes = GridSearchCV(GaussianNB(), parameters, cv=10, n_jobs=-1)\n",
    "gr_gb.fit(X_train, y_train)\n",
    "\n",
    "finish_time = process_time()\n",
    "sec = finish_time - start_time"
   ]
  },
  {
   "cell_type": "code",
   "execution_count": null,
   "metadata": {},
   "outputs": [],
   "source": [
    "print(round(sec), 4)\n",
    "gr_gb.best_params_"
   ]
  },
  {
   "cell_type": "code",
   "execution_count": 23,
   "metadata": {},
   "outputs": [
    {
     "name": "stdout",
     "output_type": "stream",
     "text": [
      "              precision    recall  f1-score   support\n",
      "\n",
      "   recovered       1.00      0.96      0.98     33065\n",
      "   uncovered       0.85      1.00      0.92      8079\n",
      "\n",
      "    accuracy                           0.96     41144\n",
      "   macro avg       0.92      0.98      0.95     41144\n",
      "weighted avg       0.97      0.96      0.97     41144\n",
      "\n",
      "\n",
      "Площадь под ROC-кривой - 0.9759\n",
      "\n",
      "Время работы кода - 0.1875 сек\n"
     ]
    },
    {
     "data": {
      "image/png": "[encoded data removed]",
      "text/plain": [
       "<Figure size 432x360 with 1 Axes>"
      ]
     },
     "metadata": {},
     "output_type": "display_data"
    }
   ],
   "source": [
    "GaussianNB\n",
    "\n",
    "start_time = process_time()\n",
    "\n",
    "Bayes = GaussianNB()\n",
    "Bayes.fit(X_train, y_train)\n",
    "y_pred = Bayes.predict(X_test)\n",
    "Bayes_res = y_pred\n",
    "\n",
    "finish_time = process_time()\n",
    "sec = finish_time - start_time\n",
    "\n",
    "results(y_test, y_pred, sec)\n",
    "ROC_curve(y_test, Bayes)"
   ]
  },
  {
   "cell_type": "markdown",
   "metadata": {
    "colab_type": "text",
    "id": "cFtkciUB0j01"
   },
   "source": [
    "### K-nn"
   ]
  },
  {
   "cell_type": "code",
   "execution_count": 24,
   "metadata": {
    "colab": {},
    "colab_type": "code",
    "id": "5SWTtxAI0j02"
   },
   "outputs": [
    {
     "name": "stdout",
     "output_type": "stream",
     "text": [
      "              precision    recall  f1-score   support\n",
      "\n",
      "   recovered       0.98      0.97      0.98     33065\n",
      "   uncovered       0.88      0.93      0.91      8079\n",
      "\n",
      "    accuracy                           0.96     41144\n",
      "   macro avg       0.93      0.95      0.94     41144\n",
      "weighted avg       0.96      0.96      0.96     41144\n",
      "\n",
      "\n",
      "Площадь под ROC-кривой - 0.9512\n",
      "\n",
      "Время работы кода - 149.375 сек\n"
     ]
    },
    {
     "data": {
      "image/png": "[encoded data removed]",
      "text/plain": [
       "<Figure size 432x360 with 1 Axes>"
      ]
     },
     "metadata": {},
     "output_type": "display_data"
    }
   ],
   "source": [
    "start_time = process_time()\n",
    "\n",
    "neigh = KNeighborsClassifier(n_neighbors=3)\n",
    "neigh.fit(X_train, y_train)\n",
    "y_pred = neigh.predict(X_test)\n",
    "knn_res = y_pred\n",
    "\n",
    "\n",
    "finish_time = process_time()\n",
    "sec = finish_time - start_time\n",
    "\n",
    "results(y_test, y_pred, sec)\n",
    "ROC_curve(y_test, neigh)"
   ]
  },
  {
   "cell_type": "markdown",
   "metadata": {
    "colab_type": "text",
    "id": "0EJw29ey0j1g"
   },
   "source": [
    "### SVM"
   ]
  },
  {
   "cell_type": "code",
   "execution_count": 25,
   "metadata": {
    "colab": {},
    "colab_type": "code",
    "id": "3f4gr9jW0j1n",
    "outputId": "0c8cd691-8ec4-4482-cc6c-9908f37562fb",
    "scrolled": true
   },
   "outputs": [
    {
     "name": "stdout",
     "output_type": "stream",
     "text": [
      "              precision    recall  f1-score   support\n",
      "\n",
      "   recovered       1.00      0.96      0.98     33065\n",
      "   uncovered       0.87      0.99      0.92      8079\n",
      "\n",
      "    accuracy                           0.97     41144\n",
      "   macro avg       0.93      0.97      0.95     41144\n",
      "weighted avg       0.97      0.97      0.97     41144\n",
      "\n",
      "\n",
      "Площадь под ROC-кривой - 0.9748\n",
      "\n",
      "Время работы кода - 283.8281 сек\n"
     ]
    },
    {
     "ename": "AttributeError",
     "evalue": "predict_proba is not available when  probability=False",
     "output_type": "error",
     "traceback": [
      "\u001b[1;31m---------------------------------------------------------------------------\u001b[0m",
      "\u001b[1;31mAttributeError\u001b[0m                            Traceback (most recent call last)",
      "\u001b[1;32m<ipython-input-25-f8d279b6e8ef>\u001b[0m in \u001b[0;36m<module>\u001b[1;34m\u001b[0m\n\u001b[0;32m     10\u001b[0m \u001b[1;33m\u001b[0m\u001b[0m\n\u001b[0;32m     11\u001b[0m \u001b[0mresults\u001b[0m\u001b[1;33m(\u001b[0m\u001b[0my_test\u001b[0m\u001b[1;33m,\u001b[0m \u001b[0my_pred\u001b[0m\u001b[1;33m,\u001b[0m \u001b[0msec\u001b[0m\u001b[1;33m)\u001b[0m\u001b[1;33m\u001b[0m\u001b[1;33m\u001b[0m\u001b[0m\n\u001b[1;32m---> 12\u001b[1;33m \u001b[0mROC_curve\u001b[0m\u001b[1;33m(\u001b[0m\u001b[0my_test\u001b[0m\u001b[1;33m,\u001b[0m \u001b[0msvm\u001b[0m\u001b[1;33m)\u001b[0m\u001b[1;33m\u001b[0m\u001b[1;33m\u001b[0m\u001b[0m\n\u001b[0m",
      "\u001b[1;32m<ipython-input-5-d7afa2d51bd9>\u001b[0m in \u001b[0;36mROC_curve\u001b[1;34m(y_test, model)\u001b[0m\n\u001b[0;32m     12\u001b[0m \u001b[1;33m\u001b[0m\u001b[0m\n\u001b[0;32m     13\u001b[0m     \u001b[0mplt\u001b[0m\u001b[1;33m.\u001b[0m\u001b[0mfigure\u001b[0m\u001b[1;33m(\u001b[0m\u001b[0mfigsize\u001b[0m\u001b[1;33m=\u001b[0m\u001b[1;33m(\u001b[0m\u001b[1;36m6\u001b[0m\u001b[1;33m,\u001b[0m \u001b[1;36m5\u001b[0m\u001b[1;33m)\u001b[0m\u001b[1;33m)\u001b[0m\u001b[1;33m\u001b[0m\u001b[1;33m\u001b[0m\u001b[0m\n\u001b[1;32m---> 14\u001b[1;33m     \u001b[0mfpr\u001b[0m\u001b[1;33m,\u001b[0m \u001b[0mtpr\u001b[0m\u001b[1;33m,\u001b[0m \u001b[0mthresholds\u001b[0m \u001b[1;33m=\u001b[0m \u001b[0mmetrics\u001b[0m\u001b[1;33m.\u001b[0m\u001b[0mroc_curve\u001b[0m\u001b[1;33m(\u001b[0m\u001b[0my_test\u001b[0m\u001b[1;33m,\u001b[0m \u001b[0mmodel\u001b[0m\u001b[1;33m.\u001b[0m\u001b[0mpredict_proba\u001b[0m\u001b[1;33m(\u001b[0m\u001b[0mX_test\u001b[0m\u001b[1;33m)\u001b[0m\u001b[1;33m[\u001b[0m\u001b[1;33m:\u001b[0m\u001b[1;33m,\u001b[0m\u001b[1;36m1\u001b[0m\u001b[1;33m]\u001b[0m\u001b[1;33m,\u001b[0m \u001b[0mpos_label\u001b[0m\u001b[1;33m=\u001b[0m\u001b[1;36m1\u001b[0m\u001b[1;33m)\u001b[0m\u001b[1;33m\u001b[0m\u001b[1;33m\u001b[0m\u001b[0m\n\u001b[0m\u001b[0;32m     15\u001b[0m     \u001b[0mlw\u001b[0m \u001b[1;33m=\u001b[0m \u001b[1;36m2\u001b[0m\u001b[1;33m\u001b[0m\u001b[1;33m\u001b[0m\u001b[0m\n\u001b[0;32m     16\u001b[0m     \u001b[0mplt\u001b[0m\u001b[1;33m.\u001b[0m\u001b[0mplot\u001b[0m\u001b[1;33m(\u001b[0m\u001b[0mfpr\u001b[0m\u001b[1;33m,\u001b[0m \u001b[0mtpr\u001b[0m\u001b[1;33m,\u001b[0m \u001b[0mlw\u001b[0m\u001b[1;33m=\u001b[0m\u001b[0mlw\u001b[0m\u001b[1;33m,\u001b[0m \u001b[0mlabel\u001b[0m\u001b[1;33m=\u001b[0m\u001b[1;34m'ROC curve '\u001b[0m\u001b[1;33m)\u001b[0m\u001b[1;33m\u001b[0m\u001b[1;33m\u001b[0m\u001b[0m\n",
      "\u001b[1;32m~\\anaconda3\\lib\\site-packages\\sklearn\\utils\\metaestimators.py\u001b[0m in \u001b[0;36m__get__\u001b[1;34m(self, obj, type)\u001b[0m\n\u001b[0;32m    108\u001b[0m                     \u001b[1;32mcontinue\u001b[0m\u001b[1;33m\u001b[0m\u001b[1;33m\u001b[0m\u001b[0m\n\u001b[0;32m    109\u001b[0m                 \u001b[1;32melse\u001b[0m\u001b[1;33m:\u001b[0m\u001b[1;33m\u001b[0m\u001b[1;33m\u001b[0m\u001b[0m\n\u001b[1;32m--> 110\u001b[1;33m                     \u001b[0mgetattr\u001b[0m\u001b[1;33m(\u001b[0m\u001b[0mdelegate\u001b[0m\u001b[1;33m,\u001b[0m \u001b[0mself\u001b[0m\u001b[1;33m.\u001b[0m\u001b[0mattribute_name\u001b[0m\u001b[1;33m)\u001b[0m\u001b[1;33m\u001b[0m\u001b[1;33m\u001b[0m\u001b[0m\n\u001b[0m\u001b[0;32m    111\u001b[0m                     \u001b[1;32mbreak\u001b[0m\u001b[1;33m\u001b[0m\u001b[1;33m\u001b[0m\u001b[0m\n\u001b[0;32m    112\u001b[0m             \u001b[1;32melse\u001b[0m\u001b[1;33m:\u001b[0m\u001b[1;33m\u001b[0m\u001b[1;33m\u001b[0m\u001b[0m\n",
      "\u001b[1;32m~\\anaconda3\\lib\\site-packages\\sklearn\\svm\\_base.py\u001b[0m in \u001b[0;36mpredict_proba\u001b[1;34m(self)\u001b[0m\n\u001b[0;32m    634\u001b[0m         \u001b[0mdatasets\u001b[0m\u001b[1;33m.\u001b[0m\u001b[1;33m\u001b[0m\u001b[1;33m\u001b[0m\u001b[0m\n\u001b[0;32m    635\u001b[0m         \"\"\"\n\u001b[1;32m--> 636\u001b[1;33m         \u001b[0mself\u001b[0m\u001b[1;33m.\u001b[0m\u001b[0m_check_proba\u001b[0m\u001b[1;33m(\u001b[0m\u001b[1;33m)\u001b[0m\u001b[1;33m\u001b[0m\u001b[1;33m\u001b[0m\u001b[0m\n\u001b[0m\u001b[0;32m    637\u001b[0m         \u001b[1;32mreturn\u001b[0m \u001b[0mself\u001b[0m\u001b[1;33m.\u001b[0m\u001b[0m_predict_proba\u001b[0m\u001b[1;33m\u001b[0m\u001b[1;33m\u001b[0m\u001b[0m\n\u001b[0;32m    638\u001b[0m \u001b[1;33m\u001b[0m\u001b[0m\n",
      "\u001b[1;32m~\\anaconda3\\lib\\site-packages\\sklearn\\svm\\_base.py\u001b[0m in \u001b[0;36m_check_proba\u001b[1;34m(self)\u001b[0m\n\u001b[0;32m    601\u001b[0m     \u001b[1;32mdef\u001b[0m \u001b[0m_check_proba\u001b[0m\u001b[1;33m(\u001b[0m\u001b[0mself\u001b[0m\u001b[1;33m)\u001b[0m\u001b[1;33m:\u001b[0m\u001b[1;33m\u001b[0m\u001b[1;33m\u001b[0m\u001b[0m\n\u001b[0;32m    602\u001b[0m         \u001b[1;32mif\u001b[0m \u001b[1;32mnot\u001b[0m \u001b[0mself\u001b[0m\u001b[1;33m.\u001b[0m\u001b[0mprobability\u001b[0m\u001b[1;33m:\u001b[0m\u001b[1;33m\u001b[0m\u001b[1;33m\u001b[0m\u001b[0m\n\u001b[1;32m--> 603\u001b[1;33m             raise AttributeError(\"predict_proba is not available when \"\n\u001b[0m\u001b[0;32m    604\u001b[0m                                  \" probability=False\")\n\u001b[0;32m    605\u001b[0m         \u001b[1;32mif\u001b[0m \u001b[0mself\u001b[0m\u001b[1;33m.\u001b[0m\u001b[0m_impl\u001b[0m \u001b[1;32mnot\u001b[0m \u001b[1;32min\u001b[0m \u001b[1;33m(\u001b[0m\u001b[1;34m'c_svc'\u001b[0m\u001b[1;33m,\u001b[0m \u001b[1;34m'nu_svc'\u001b[0m\u001b[1;33m)\u001b[0m\u001b[1;33m:\u001b[0m\u001b[1;33m\u001b[0m\u001b[1;33m\u001b[0m\u001b[0m\n",
      "\u001b[1;31mAttributeError\u001b[0m: predict_proba is not available when  probability=False"
     ]
    },
    {
     "data": {
      "text/plain": [
       "<Figure size 432x360 with 0 Axes>"
      ]
     },
     "metadata": {},
     "output_type": "display_data"
    }
   ],
   "source": [
    "start_time = process_time()\n",
    "\n",
    "svm = make_pipeline(StandardScaler(), SVC(gamma='auto'))\n",
    "svm.fit(X_train, y_train)\n",
    "y_pred = svm.predict(X_test)\n",
    "svm_res = y_pred\n",
    "\n",
    "finish_time = process_time()\n",
    "sec = finish_time - start_time\n",
    "\n",
    "results(y_test, y_pred, sec)\n",
    "ROC_curve(y_test, svm)"
   ]
  },
  {
   "cell_type": "markdown",
   "metadata": {},
   "source": [
    "### Сводный алгоритм"
   ]
  },
  {
   "cell_type": "code",
   "execution_count": 32,
   "metadata": {},
   "outputs": [
    {
     "name": "stdout",
     "output_type": "stream",
     "text": [
      "              precision    recall  f1-score   support\n",
      "\n",
      "   recovered       1.00      0.97      0.98     33065\n",
      "   uncovered       0.88      0.99      0.93      8079\n",
      "\n",
      "    accuracy                           0.97     41144\n",
      "   macro avg       0.94      0.98      0.96     41144\n",
      "weighted avg       0.97      0.97      0.97     41144\n",
      "\n",
      "\n",
      "Площадь под ROC-кривой - 0.9795\n"
     ]
    }
   ],
   "source": [
    "all_res = (0.16*svm_res + 0.16*knn_res + 0.2*gb_res + 0.16*Bayes_res + 0.16*rf_res + 0.16*clf_res)\n",
    "\n",
    "y_all = []\n",
    "\n",
    "for i in all_res:\n",
    "    y_all.append(round(i))\n",
    "\n",
    "results(y_test, y_all)\n",
    "#ROC_curve(y_test, svm)"
   ]
  }
 ],
 "metadata": {
  "colab": {
   "collapsed_sections": [
    "x30RgfT60jqo",
    "RsTMe9Bb0juP",
    "MCE4XYwV0jvo",
    "wurfug700jwY",
    "fGuP3UN_0jxM",
    "pH7E_MDO0jyJ",
    "cFtkciUB0j01",
    "0EJw29ey0j1g",
    "n7IVjUp1Ej3T",
    "2UEpUHOLGfaM",
    "Ljxd1gArGfaj",
    "qSxolgmaGfa9",
    "MeEtJ4cMGfbT",
    "05rr-UU7V7yv"
   ],
   "name": "Сlassification.ipynb",
   "provenance": []
  },
  "kernelspec": {
   "display_name": "Python 3",
   "language": "python",
   "name": "python3"
  },
  "language_info": {
   "codemirror_mode": {
    "name": "ipython",
    "version": 3
   },
   "file_extension": ".py",
   "mimetype": "text/x-python",
   "name": "python",
   "nbconvert_exporter": "python",
   "pygments_lexer": "ipython3",
   "version": "3.8.8"
  },
  "widgets": {
   "application/vnd.jupyter.widget-state+json": {
    "state": {},
    "version_major": 2,
    "version_minor": 0
   }
  }
 },
 "nbformat": 4,
 "nbformat_minor": 4
}
